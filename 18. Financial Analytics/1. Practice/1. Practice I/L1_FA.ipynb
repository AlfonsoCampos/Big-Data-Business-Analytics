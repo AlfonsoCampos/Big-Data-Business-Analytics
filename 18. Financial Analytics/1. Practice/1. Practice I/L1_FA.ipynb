{
 "metadata": {
  "name": "",
  "signature": "sha256:799821d2c35e9e89323f42b8a009bb7d8f85f36db8d8e4ad3844587b78f9d2a6"
 },
 "nbformat": 3,
 "nbformat_minor": 0,
 "worksheets": [
  {
   "cells": [
    {
     "cell_type": "code",
     "collapsed": false,
     "input": [
      "print \"IMPORTING LIBRARIES...\"\n",
      "import pandas as pd\n",
      "import numpy as np\n",
      "import statsmodels.api as sm\n",
      "import re\n",
      "import requests\n",
      "from requests.auth import HTTPBasicAuth\n",
      "\n",
      "print \"DOWNLOADING DATASETS...\"\n",
      "df = pd.read_csv(\"https://dl.dropboxusercontent.com/u/28535341/dev.csv\") #DEV-SAMPLE\n",
      "dfo = pd.read_csv(\"https://dl.dropboxusercontent.com/u/28535341/oot0.csv\")#OUT-OF-TIME SAMPLE"
     ],
     "language": "python",
     "metadata": {},
     "outputs": [
      {
       "output_type": "stream",
       "stream": "stdout",
       "text": [
        "IMPORTING LIBRARIES...\n",
        "DOWNLOADING DATASETS..."
       ]
      },
      {
       "output_type": "stream",
       "stream": "stdout",
       "text": [
        "\n"
       ]
      }
     ],
     "prompt_number": 1
    },
    {
     "cell_type": "code",
     "collapsed": false,
     "input": [
      "print \"IDENTIFYING TYPES...\"\n",
      "in_model = []\n",
      "list_ib = set()  #input binary\n",
      "list_icn = set() #input categorical nominal\n",
      "list_ico = set() #input categorical ordinal\n",
      "list_if = set()  #input numerical continuos (input float)\n",
      "list_inputs = set()\n",
      "output_var = 'ob_target'\n",
      "\n",
      "for var_name in df.columns:\n",
      "    if re.search('^i',var_name):\n",
      "        list_inputs.add(var_name)\n",
      "        print var_name,\"is input\"   \n",
      "    if re.search('^ib_',var_name):\n",
      "        list_ib.add(var_name)\n",
      "        print var_name,\"is input binary\"\n",
      "    elif re.search('^icn_',var_name):\n",
      "        list_icn.add(var_name)\n",
      "        print var_name,\"is input categorical nominal\"\n",
      "    elif re.search('^ico_',var_name):\n",
      "        list_ico.add(var_name)\n",
      "        print var_name,\"is input categorical ordinal\"\n",
      "    elif re.search('^if_',var_name):\n",
      "        list_if.add(var_name)\n",
      "        print var_name,\"is input numerical continuos (input float)\"\n",
      "    elif re.search('^ob_',var_name):\n",
      "        output_var = var_name\n",
      "    else:\n",
      "        print \"ERROR: unable to identify the type of:\", var_name"
     ],
     "language": "python",
     "metadata": {},
     "outputs": [
      {
       "output_type": "stream",
       "stream": "stdout",
       "text": [
        "IDENTIFYING TYPES...\n",
        "id is input\n",
        "ERROR: unable to identify the type of: id\n",
        "ib_var_1 is input\n",
        "ib_var_1 is input binary\n",
        "ib_var_2 is input\n",
        "ib_var_2 is input binary\n",
        "ib_var_3 is input\n",
        "ib_var_3 is input binary\n",
        "ib_var_4 is input\n",
        "ib_var_4 is input binary\n",
        "ib_var_5 is input\n",
        "ib_var_5 is input binary\n",
        "ib_var_6 is input\n",
        "ib_var_6 is input binary\n",
        "ib_var_7 is input\n",
        "ib_var_7 is input binary\n",
        "ib_var_8 is input\n",
        "ib_var_8 is input binary\n",
        "ib_var_9 is input\n",
        "ib_var_9 is input binary\n",
        "ib_var_10 is input\n",
        "ib_var_10 is input binary\n",
        "ib_var_11 is input\n",
        "ib_var_11 is input binary\n",
        "ib_var_12 is input\n",
        "ib_var_12 is input binary\n",
        "ib_var_13 is input\n",
        "ib_var_13 is input binary\n",
        "ib_var_14 is input\n",
        "ib_var_14 is input binary\n",
        "ib_var_15 is input\n",
        "ib_var_15 is input binary\n",
        "ib_var_16 is input\n",
        "ib_var_16 is input binary\n",
        "ib_var_17 is input\n",
        "ib_var_17 is input binary\n",
        "ib_var_18 is input\n",
        "ib_var_18 is input binary\n",
        "ib_var_19 is input\n",
        "ib_var_19 is input binary\n",
        "ib_var_20 is input\n",
        "ib_var_20 is input binary\n",
        "ib_var_21 is input\n",
        "ib_var_21 is input binary\n",
        "icn_var_22 is input\n",
        "icn_var_22 is input categorical nominal\n",
        "icn_var_23 is input\n",
        "icn_var_23 is input categorical nominal\n",
        "icn_var_24 is input\n",
        "icn_var_24 is input categorical nominal\n",
        "ico_var_25 is input\n",
        "ico_var_25 is input categorical ordinal\n",
        "ico_var_26 is input\n",
        "ico_var_26 is input categorical ordinal\n",
        "ico_var_27 is input\n",
        "ico_var_27 is input categorical ordinal\n",
        "ico_var_28 is input\n",
        "ico_var_28 is input categorical ordinal\n",
        "ico_var_29 is input\n",
        "ico_var_29 is input categorical ordinal\n",
        "ico_var_30 is input\n",
        "ico_var_30 is input categorical ordinal\n",
        "ico_var_31 is input\n",
        "ico_var_31 is input categorical ordinal\n",
        "ico_var_32 is input\n",
        "ico_var_32 is input categorical ordinal\n",
        "ico_var_33 is input\n",
        "ico_var_33 is input categorical ordinal\n",
        "ico_var_34 is input\n",
        "ico_var_34 is input categorical ordinal\n",
        "ico_var_35 is input\n",
        "ico_var_35 is input categorical ordinal\n",
        "ico_var_36 is input\n",
        "ico_var_36 is input categorical ordinal\n",
        "ico_var_37 is input\n",
        "ico_var_37 is input categorical ordinal\n",
        "ico_var_38 is input\n",
        "ico_var_38 is input categorical ordinal\n",
        "ico_var_39 is input\n",
        "ico_var_39 is input categorical ordinal\n",
        "ico_var_40 is input\n",
        "ico_var_40 is input categorical ordinal\n",
        "ico_var_41 is input\n",
        "ico_var_41 is input categorical ordinal\n",
        "ico_var_42 is input\n",
        "ico_var_42 is input categorical ordinal\n",
        "ico_var_43 is input\n",
        "ico_var_43 is input categorical ordinal\n",
        "ico_var_44 is input\n",
        "ico_var_44 is input categorical ordinal\n",
        "ico_var_45 is input\n",
        "ico_var_45 is input categorical ordinal\n",
        "ico_var_46 is input\n",
        "ico_var_46 is input categorical ordinal\n",
        "ico_var_47 is input\n",
        "ico_var_47 is input categorical ordinal\n",
        "ico_var_48 is input\n",
        "ico_var_48 is input categorical ordinal\n",
        "ico_var_49 is input\n",
        "ico_var_49 is input categorical ordinal\n",
        "ico_var_50 is input\n",
        "ico_var_50 is input categorical ordinal\n",
        "ico_var_51 is input\n",
        "ico_var_51 is input categorical ordinal\n",
        "ico_var_52 is input\n",
        "ico_var_52 is input categorical ordinal\n",
        "ico_var_53 is input\n",
        "ico_var_53 is input categorical ordinal\n",
        "ico_var_54 is input\n",
        "ico_var_54 is input categorical ordinal\n",
        "ico_var_55 is input\n",
        "ico_var_55 is input categorical ordinal\n",
        "ico_var_56 is input\n",
        "ico_var_56 is input categorical ordinal\n",
        "ico_var_57 is input\n",
        "ico_var_57 is input categorical ordinal\n",
        "ico_var_58 is input\n",
        "ico_var_58 is input categorical ordinal\n",
        "ico_var_59 is input\n",
        "ico_var_59 is input categorical ordinal\n",
        "ico_var_60 is input\n",
        "ico_var_60 is input categorical ordinal\n",
        "ico_var_61 is input\n",
        "ico_var_61 is input categorical ordinal\n",
        "ico_var_62 is input\n",
        "ico_var_62 is input categorical ordinal\n",
        "ico_var_63 is input\n",
        "ico_var_63 is input categorical ordinal\n",
        "ico_var_64 is input\n",
        "ico_var_64 is input categorical ordinal\n",
        "if_var_65 is input\n",
        "if_var_65 is input numerical continuos (input float)\n",
        "if_var_66 is input\n",
        "if_var_66 is input numerical continuos (input float)\n",
        "if_var_67 is input\n",
        "if_var_67 is input numerical continuos (input float)\n",
        "if_var_68 is input\n",
        "if_var_68 is input numerical continuos (input float)\n",
        "if_var_69 is input\n",
        "if_var_69 is input numerical continuos (input float)\n",
        "if_var_70 is input\n",
        "if_var_70 is input numerical continuos (input float)\n",
        "if_var_71 is input\n",
        "if_var_71 is input numerical continuos (input float)\n",
        "if_var_72 is input\n",
        "if_var_72 is input numerical continuos (input float)\n",
        "if_var_73 is input\n",
        "if_var_73 is input numerical continuos (input float)\n",
        "if_var_74 is input\n",
        "if_var_74 is input numerical continuos (input float)\n",
        "if_var_75 is input\n",
        "if_var_75 is input numerical continuos (input float)\n",
        "if_var_76 is input\n",
        "if_var_76 is input numerical continuos (input float)\n",
        "if_var_77 is input\n",
        "if_var_77 is input numerical continuos (input float)\n",
        "if_var_78 is input\n",
        "if_var_78 is input numerical continuos (input float)\n",
        "if_var_79 is input\n",
        "if_var_79 is input numerical continuos (input float)\n",
        "if_var_80 is input\n",
        "if_var_80 is input numerical continuos (input float)\n",
        "if_var_81 is input\n",
        "if_var_81 is input numerical continuos (input float)\n"
       ]
      }
     ],
     "prompt_number": 2
    },
    {
     "cell_type": "code",
     "collapsed": false,
     "input": [
      "print \"STEP 1: DOING MY TRANSFORMATIONS...\""
     ],
     "language": "python",
     "metadata": {},
     "outputs": [
      {
       "output_type": "stream",
       "stream": "stdout",
       "text": [
        "STEP 1: DOING MY TRANSFORMATIONS...\n"
       ]
      }
     ],
     "prompt_number": 3
    },
    {
     "cell_type": "code",
     "collapsed": false,
     "input": [
      "print \"STEP 2: SELECTING CHARACTERISTICS TO ENTER INTO THE MODEL...\"\n",
      "#in_model = list_inputs #['ib_var_1','icn_var_22','ico_var_25','if_var_65']\n",
      "in_model = ['ib_var_1','icn_var_22','ico_var_25','if_var_65']"
     ],
     "language": "python",
     "metadata": {},
     "outputs": [
      {
       "output_type": "stream",
       "stream": "stdout",
       "text": [
        "STEP 2: SELECTING CHARACTERISTICS TO ENTER INTO THE MODEL...\n"
       ]
      }
     ],
     "prompt_number": 4
    },
    {
     "cell_type": "code",
     "collapsed": false,
     "input": [
      "print \"STEP 3: DEVELOPING THE MODEL...\"\n",
      "X = df[list(in_model)]\n",
      "y = df[output_var]\n",
      "\n",
      "Xo = dfo[list(set(in_model))]\n",
      "\n",
      "#model = sm.Logit(y,X)\n",
      "try:\n",
      "    model = sm.GLM(y,X, family = sm.families.Binomial())\n",
      "    result = model.fit()\n",
      "    print result.summary()\n",
      "    y_pred = result.predict(X)\n",
      "    yo_pred = result.predict(Xo)\n",
      "except np.linalg.linalg.LinAlgError as err:\n",
      "    if 'Singular matrix' in err.message:\n",
      "        print \"MODEL-INVALID (Singular Matrix)\"\n",
      "    else:\n",
      "        raise"
     ],
     "language": "python",
     "metadata": {},
     "outputs": [
      {
       "output_type": "stream",
       "stream": "stdout",
       "text": [
        "STEP 3: DEVELOPING THE MODEL...\n",
        "                 Generalized Linear Model Regression Results                  \n",
        "==============================================================================\n",
        "Dep. Variable:              ob_target   No. Observations:                  864\n",
        "Model:                            GLM   Df Residuals:                      860\n",
        "Model Family:                Binomial   Df Model:                            3\n",
        "Link Function:                  logit   Scale:                             1.0\n",
        "Method:                          IRLS   Log-Likelihood:                -281.55\n",
        "Date:                Thu, 23 Apr 2015   Deviance:                       563.09\n",
        "Time:                        16:19:39   Pearson chi2:                     904.\n",
        "No. Iterations:                     7                                         \n",
        "==============================================================================\n",
        "                 coef    std err          t      P>|t|      [95.0% Conf. Int.]\n",
        "------------------------------------------------------------------------------\n",
        "ib_var_1      -0.8497      0.529     -1.606      0.108        -1.887     0.187\n",
        "icn_var_22    -0.1758      0.174     -1.009      0.313        -0.517     0.166\n",
        "ico_var_25    -0.1127      0.112     -1.003      0.316        -0.333     0.107\n",
        "if_var_65     -0.0339      0.012     -2.928      0.003        -0.057    -0.011\n",
        "=============================================================================="
       ]
      },
      {
       "output_type": "stream",
       "stream": "stdout",
       "text": [
        "\n"
       ]
      }
     ],
     "prompt_number": 5
    },
    {
     "cell_type": "code",
     "collapsed": false,
     "input": [
      "print \"STEP 4: ASSESSING THE MODEL...\"\n",
      "# CALCULATING GINI PERFORMANCE ON DEVELOPMENT SAMPLE\n",
      "from sklearn.metrics import roc_auc_score\n",
      "gini_score = 2*roc_auc_score(df[output_var], y_pred)-1\n",
      "print \"GINI DEVELOPMENT=\", gini_score"
     ],
     "language": "python",
     "metadata": {},
     "outputs": [
      {
       "output_type": "stream",
       "stream": "stdout",
       "text": [
        "STEP 4: ASSESSING THE MODEL...\n",
        "GINI DEVELOPMENT="
       ]
      },
      {
       "output_type": "stream",
       "stream": "stdout",
       "text": [
        " 0.190531279288\n"
       ]
      }
     ],
     "prompt_number": 6
    },
    {
     "cell_type": "code",
     "collapsed": false,
     "input": [
      "print \"STEP 5: SUBMITTING THE RESULTS...\"\n",
      "dfo['pred'] = yo_pred\n",
      "dfo_tosend = dfo[list(['id','pred'])]\n",
      "\n",
      "i=1\n",
      "filename = \"group_Z_sub\"+str(i)+\".csv\"\n",
      "dfo_tosend.to_csv(filename, sep=',')\n",
      "\n",
      "url = 'http://mgadi.pythonanywhere.com/api/v1.0/uploadpredictions'\n",
      "\n",
      "files = {'file': (filename, open(filename, 'rb'))}\n",
      "rsub = requests.post(url, files=files, auth=HTTPBasicAuth('mgadi', 'Sabado1'))\n",
      "resp_str = str(rsub.text)\n",
      "print \"RESULT SUBMISSION: \", resp_str\n"
     ],
     "language": "python",
     "metadata": {},
     "outputs": [
      {
       "output_type": "stream",
       "stream": "stdout",
       "text": [
        "STEP 5: SUBMITTING THE RESULTS...\n",
        "RESULT SUBMISSION: "
       ]
      },
      {
       "output_type": "stream",
       "stream": "stdout",
       "text": [
        " Wait for 82 seconds before next submission!\n"
       ]
      }
     ],
     "prompt_number": 9
    },
    {
     "cell_type": "code",
     "collapsed": false,
     "input": [],
     "language": "python",
     "metadata": {},
     "outputs": []
    }
   ],
   "metadata": {}
  }
 ]
}