{
 "cells": [
  {
   "cell_type": "markdown",
   "metadata": {},
   "source": [
    "# Timing "
   ]
  },
  {
   "cell_type": "markdown",
   "metadata": {},
   "source": [
    "## A tale of two data structures"
   ]
  },
  {
   "cell_type": "code",
   "execution_count": 1,
   "metadata": {
    "collapsed": false
   },
   "outputs": [],
   "source": [
    "biglist = range(1000000)\n",
    "bigset = set(biglist)"
   ]
  },
  {
   "cell_type": "markdown",
   "metadata": {},
   "source": [
    "Looking at an operation with the time magic, we can get different times."
   ]
  },
  {
   "cell_type": "code",
   "execution_count": 2,
   "metadata": {
    "collapsed": false
   },
   "outputs": [
    {
     "name": "stdout",
     "output_type": "stream",
     "text": [
      "CPU times: user 19.1 ms, sys: 0 ns, total: 19.1 ms\n",
      "Wall time: 19.5 ms\n",
      "CPU times: user 25.8 ms, sys: 0 ns, total: 25.8 ms\n",
      "Wall time: 26 ms\n"
     ]
    },
    {
     "data": {
      "text/plain": [
       "True"
      ]
     },
     "execution_count": 2,
     "metadata": {},
     "output_type": "execute_result"
    }
   ],
   "source": [
    "%time 500000 in biglist\n",
    "%time 500000 in biglist"
   ]
  },
  {
   "cell_type": "markdown",
   "metadata": {},
   "source": [
    "If we try the same operation with the two data structures, differences become apparent."
   ]
  },
  {
   "cell_type": "code",
   "execution_count": 3,
   "metadata": {
    "collapsed": false
   },
   "outputs": [
    {
     "name": "stdout",
     "output_type": "stream",
     "text": [
      "10 loops, best of 3: 14.5 ms per loop\n"
     ]
    }
   ],
   "source": [
    "%timeit 500000 in biglist"
   ]
  },
  {
   "cell_type": "code",
   "execution_count": 4,
   "metadata": {
    "collapsed": false
   },
   "outputs": [
    {
     "name": "stdout",
     "output_type": "stream",
     "text": [
      "The slowest run took 26.03 times longer than the fastest. This could mean that an intermediate result is being cached \n",
      "10000000 loops, best of 3: 119 ns per loop\n"
     ]
    }
   ],
   "source": [
    "%timeit 500000 in bigset"
   ]
  },
  {
   "cell_type": "markdown",
   "metadata": {},
   "source": [
    "## Lists versus NumPy arrays"
   ]
  },
  {
   "cell_type": "code",
   "execution_count": 5,
   "metadata": {
    "collapsed": false
   },
   "outputs": [],
   "source": [
    "import numpy as np\n",
    "L = range(1,1000000)\n",
    "a = np.array(L)"
   ]
  },
  {
   "cell_type": "code",
   "execution_count": 6,
   "metadata": {
    "collapsed": false
   },
   "outputs": [
    {
     "name": "stdout",
     "output_type": "stream",
     "text": [
      "The slowest run took 4.31 times longer than the fastest. This could mean that an intermediate result is being cached \n",
      "100 loops, best of 3: 2.18 ms per loop\n"
     ]
    }
   ],
   "source": [
    "%timeit a*a"
   ]
  },
  {
   "cell_type": "code",
   "execution_count": 7,
   "metadata": {
    "collapsed": false
   },
   "outputs": [
    {
     "name": "stdout",
     "output_type": "stream",
     "text": [
      "10 loops, best of 3: 91.4 ms per loop\n"
     ]
    }
   ],
   "source": [
    "%timeit [e*e for e in L]"
   ]
  },
  {
   "cell_type": "markdown",
   "metadata": {},
   "source": [
    "## Profiling"
   ]
  },
  {
   "cell_type": "code",
   "execution_count": 8,
   "metadata": {
    "collapsed": false
   },
   "outputs": [
    {
     "name": "stdout",
     "output_type": "stream",
     "text": [
      "         10020 function calls in 0.023 seconds\n",
      "\n",
      "   Ordered by: internal time\n",
      "\n",
      "   ncalls  tottime  percall  cumtime  percall filename:lineno(function)\n",
      "    10000    0.017    0.000    0.017    0.000 <ipython-input-8-aa425c0d14a9>:3(do_something)\n",
      "        1    0.004    0.004    0.023    0.023 <ipython-input-8-aa425c0d14a9>:6(some_function)\n",
      "        1    0.001    0.001    0.001    0.001 {method 'randint' of 'mtrand.RandomState' objects}\n",
      "        1    0.000    0.000    0.000    0.000 {range}\n",
      "        2    0.000    0.000    0.000    0.000 {compile}\n",
      "        2    0.000    0.000    0.023    0.011 interactiveshell.py:3002(run_code)\n",
      "        2    0.000    0.000    0.000    0.000 codeop.py:132(__call__)\n",
      "        1    0.000    0.000    0.000    0.000 <ipython-input-8-aa425c0d14a9>:14(<module>)\n",
      "        2    0.000    0.000    0.000    0.000 hooks.py:127(__call__)\n",
      "        1    0.000    0.000    0.023    0.023 <ipython-input-8-aa425c0d14a9>:13(<module>)\n",
      "        2    0.000    0.000    0.000    0.000 ipstruct.py:125(__getattr__)\n",
      "        2    0.000    0.000    0.000    0.000 interactiveshell.py:1105(user_global_ns)\n",
      "        2    0.000    0.000    0.000    0.000 hooks.py:192(pre_run_code_hook)\n",
      "        1    0.000    0.000    0.000    0.000 {method 'disable' of '_lsprof.Profiler' objects}\n",
      "\n",
      "\n"
     ]
    }
   ],
   "source": [
    "import cProfile\n",
    "\n",
    "def do_something(a):\n",
    "    a = a**2\n",
    "\n",
    "def some_function():\n",
    "    a = np.random.randint(10000000000)\n",
    "    for i in range(0,10000):\n",
    "       do_something(a)\n",
    "    \n",
    "pr = cProfile.Profile()\n",
    "pr.enable()\n",
    "some_function()\n",
    "pr.disable()\n",
    "pr.print_stats(sort='time')\n"
   ]
  },
  {
   "cell_type": "code",
   "execution_count": null,
   "metadata": {
    "collapsed": false
   },
   "outputs": [],
   "source": []
  }
 ],
 "metadata": {
  "kernelspec": {
   "display_name": "Python 2",
   "language": "python",
   "name": "python2"
  },
  "language_info": {
   "codemirror_mode": {
    "name": "ipython",
    "version": 2
   },
   "file_extension": ".py",
   "mimetype": "text/x-python",
   "name": "python",
   "nbconvert_exporter": "python",
   "pygments_lexer": "ipython2",
   "version": "2.7.9"
  }
 },
 "nbformat": 4,
 "nbformat_minor": 0
}
