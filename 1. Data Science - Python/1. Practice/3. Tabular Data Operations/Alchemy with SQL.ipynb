{
 "cells": [
  {
   "cell_type": "markdown",
   "metadata": {},
   "source": [
    "# Getting data using SQL"
   ]
  },
  {
   "cell_type": "markdown",
   "metadata": {},
   "source": [
    "Most organizations today use relational databases to store all of part of its data in structured form. This makes important the ability to get data from these databases as an input for our data science workflow. Relational databases have adopted the SQL language as an standard, and its <a href=\"http://en.wikipedia.org/wiki/SQL:2011\">last revision appeared in 2011</a>."
   ]
  },
  {
   "cell_type": "markdown",
   "metadata": {},
   "source": [
    "But today the SQL language is not only used on top of relational databases, but other storage technology also uses that. "
   ]
  },
  {
   "cell_type": "markdown",
   "metadata": {},
   "source": [
    "Examples are:\n",
    "* Cloudera Impala: http://www.cloudera.com/content/cloudera/en/products-and-services/cdh/impala.html integrated via: https://pypi.python.org/pypi/impyla\n",
    "* Hadoop HIVE: https://hive.apache.org/ integrated via: http://pythonhosted.org/PyHive/index.html"
   ]
  },
  {
   "cell_type": "markdown",
   "metadata": {},
   "source": [
    "## Using SQL, the pythonic way"
   ]
  },
  {
   "cell_type": "markdown",
   "metadata": {},
   "source": [
    "The data structures (tables, columns, keys) of relational databases do not match with the data structures used in programming languages. This makes some times cumbersome to deal with SQL and relational data from other languages (a.k.a. <i>the impedance mismatch</i>)."
   ]
  },
  {
   "cell_type": "markdown",
   "metadata": {},
   "source": [
    "There are several ways of using SQL to get data from and put data in relational databases. <a href=\"http://www.sqlalchemy.org/\">SQL Alchemy</a> is arguably the preferred library to fill the gap between Python and relational databases. "
   ]
  },
  {
   "cell_type": "markdown",
   "metadata": {},
   "source": [
    "SQL Alchemy is built on top of the Python <a href=\"http://legacy.python.org/dev/peps/pep-0249/\">DBAPI</a>. DBAPI is the (somehow) official interface for relational databases in Pyhon, but when working with different database systems, it behaves in different ways. SQL Alchemy attempts to provide a more consistent and higher level interface. It is based on the following:\n",
    "* Provide a higher level interface to DBAPI.\n",
    "* But still allowing you to use the specifics of each database system.\n",
    "* Allow for the use of Python-style declarative statements for common database tasks.\n",
    "* Optionally, providing a Object-Relational-Mapping functionality. \n",
    "\n",
    "The last is useful as it allows you to save/retrieve Python objects directly in relational databases, but it is also sometimes controversial for performance reasons. It is more often used in Web development than in data science tasks, so we will not deal with it here."
   ]
  },
  {
   "cell_type": "markdown",
   "metadata": {},
   "source": [
    "## Connecting to a database"
   ]
  },
  {
   "cell_type": "markdown",
   "metadata": {},
   "source": [
    "The first thing we need to do is to get an Engine object that represents \"the database\" in the sense of the database management system. "
   ]
  },
  {
   "cell_type": "code",
   "execution_count": 15,
   "metadata": {
    "collapsed": false
   },
   "outputs": [
    {
     "name": "stdout",
     "output_type": "stream",
     "text": [
      "<class 'sqlalchemy.engine.base.Engine'>\n"
     ]
    }
   ],
   "source": [
    "from sqlalchemy import create_engine\n",
    "db = create_engine('sqlite:///customers.db')\n",
    "print type(db)"
   ]
  },
  {
   "cell_type": "markdown",
   "metadata": {},
   "source": [
    "In the above sentence we have created a database connection. The sqlite in the connection string indicates we are using SqLite as the database engine. Note that SQlite is not a full-fledged database manager but a lightweight engine. If using other sistems as PosgreSQL or MySQL, we would probably need to indicate some credentials in the connection string."
   ]
  },
  {
   "cell_type": "markdown",
   "metadata": {},
   "source": [
    "The <code>Engine</code> is actually more than a connection. It features some additional functionality as **conection pooling**, i.e. it opens several database connections when convenient and reuses them to maximize performance. It also deals with connexion closing when appropriate. It also does **auto-commit**, i.e. it commits transactions to the database behind the scenes."
   ]
  },
  {
   "cell_type": "markdown",
   "metadata": {},
   "source": [
    "<img src=\"http://docs.sqlalchemy.org/en/latest/_images/sqla_arch_small.png\"/>"
   ]
  },
  {
   "cell_type": "markdown",
   "metadata": {},
   "source": [
    "## Creating tables"
   ]
  },
  {
   "cell_type": "markdown",
   "metadata": {},
   "source": [
    "If we don't have the tables in our database, we have to create them. The following is an example of a Table definition."
   ]
  },
  {
   "cell_type": "code",
   "execution_count": 16,
   "metadata": {
    "collapsed": false
   },
   "outputs": [],
   "source": [
    "from sqlalchemy import MetaData, Table, Column, Integer, String\n",
    "metadata = MetaData(db)\n",
    "# Be sure that the databases does not exist previously:\n",
    "users = Table('users', metadata,\n",
    "             Column('user_id', Integer, primary_key=True),\n",
    "             Column('name', String(40)),\n",
    "             Column('age', Integer),\n",
    ")\n",
    "users.create()"
   ]
  },
  {
   "cell_type": "markdown",
   "metadata": {},
   "source": [
    "We have created an empty table with three columns. As SQLite is really a file-based database, we should see now the file in the folder of this notebook."
   ]
  },
  {
   "cell_type": "markdown",
   "metadata": {},
   "source": [
    "## Inserting rows"
   ]
  },
  {
   "cell_type": "markdown",
   "metadata": {},
   "source": [
    "For inserting rows we have to tell the table that inserts will follow."
   ]
  },
  {
   "cell_type": "code",
   "execution_count": 17,
   "metadata": {
    "collapsed": false
   },
   "outputs": [
    {
     "name": "stdout",
     "output_type": "stream",
     "text": [
      "2015-05-08 13:04:32,260 INFO sqlalchemy.engine.base.Engine INSERT INTO users (name, age) VALUES (?, ?)\n"
     ]
    },
    {
     "name": "stderr",
     "output_type": "stream",
     "text": [
      "INFO:sqlalchemy.engine.base.Engine:INSERT INTO users (name, age) VALUES (?, ?)\n"
     ]
    },
    {
     "name": "stdout",
     "output_type": "stream",
     "text": [
      "2015-05-08 13:04:32,262 INFO sqlalchemy.engine.base.Engine ('Peter', 35)\n"
     ]
    },
    {
     "name": "stderr",
     "output_type": "stream",
     "text": [
      "INFO:sqlalchemy.engine.base.Engine:('Peter', 35)\n"
     ]
    },
    {
     "name": "stdout",
     "output_type": "stream",
     "text": [
      "2015-05-08 13:04:32,264 INFO sqlalchemy.engine.base.Engine COMMIT\n"
     ]
    },
    {
     "name": "stderr",
     "output_type": "stream",
     "text": [
      "INFO:sqlalchemy.engine.base.Engine:COMMIT\n"
     ]
    },
    {
     "name": "stdout",
     "output_type": "stream",
     "text": [
      "2015-05-08 13:04:32,266 INFO sqlalchemy.engine.base.Engine INSERT INTO users (name, age) VALUES (?, ?)\n"
     ]
    },
    {
     "name": "stderr",
     "output_type": "stream",
     "text": [
      "INFO:sqlalchemy.engine.base.Engine:INSERT INTO users (name, age) VALUES (?, ?)\n"
     ]
    },
    {
     "name": "stdout",
     "output_type": "stream",
     "text": [
      "2015-05-08 13:04:32,267 INFO sqlalchemy.engine.base.Engine (('John', 41), ('Matthew', 50), ('Luke', 65))\n"
     ]
    },
    {
     "name": "stderr",
     "output_type": "stream",
     "text": [
      "INFO:sqlalchemy.engine.base.Engine:(('John', 41), ('Matthew', 50), ('Luke', 65))\n"
     ]
    },
    {
     "name": "stdout",
     "output_type": "stream",
     "text": [
      "2015-05-08 13:04:32,269 INFO sqlalchemy.engine.base.Engine COMMIT\n"
     ]
    },
    {
     "name": "stderr",
     "output_type": "stream",
     "text": [
      "INFO:sqlalchemy.engine.base.Engine:COMMIT\n"
     ]
    }
   ],
   "source": [
    "db.echo = True # echo de SQL that is automatically generated.\n",
    "i = users.insert()\n",
    "i.execute(name='Peter', age=35)\n",
    "i.execute({'name': 'John', 'age': 41},\n",
    "          {'name': 'Matthew', 'age': 50},\n",
    "          {'name': 'Luke', 'age': 65})\n",
    "db.echo = False"
   ]
  },
  {
   "cell_type": "markdown",
   "metadata": {},
   "source": [
    "Note that in the first call to execute, a single row is inserted, while we can insert multiple rows provided that we are passing a Python dictionary. Note also that we have not specified the user_id in each of the calls - the database will generate a value for us that is unique per row."
   ]
  },
  {
   "cell_type": "markdown",
   "metadata": {},
   "source": [
    "## Retrieving data"
   ]
  },
  {
   "cell_type": "markdown",
   "metadata": {},
   "source": [
    "We can get the data available using SELECT statements. If we want to retrieve everything this is the way:"
   ]
  },
  {
   "cell_type": "code",
   "execution_count": 18,
   "metadata": {
    "collapsed": false
   },
   "outputs": [
    {
     "name": "stdout",
     "output_type": "stream",
     "text": [
      "2015-05-08 13:04:32,282 INFO sqlalchemy.engine.base.Engine SELECT users.user_id, users.name, users.age \n",
      "FROM users\n"
     ]
    },
    {
     "name": "stderr",
     "output_type": "stream",
     "text": [
      "INFO:sqlalchemy.engine.base.Engine:SELECT users.user_id, users.name, users.age \n",
      "FROM users\n"
     ]
    },
    {
     "name": "stdout",
     "output_type": "stream",
     "text": [
      "2015-05-08 13:04:32,283 INFO sqlalchemy.engine.base.Engine ()\n"
     ]
    },
    {
     "name": "stderr",
     "output_type": "stream",
     "text": [
      "INFO:sqlalchemy.engine.base.Engine:()\n"
     ]
    }
   ],
   "source": [
    "s = users.select()\n",
    "db.echo = True\n",
    "rs = s.execute()\n",
    "db.echo = False"
   ]
  },
  {
   "cell_type": "markdown",
   "metadata": {},
   "source": [
    "Then the resultset returned by the execution of the SELECT statement can be iterated. "
   ]
  },
  {
   "cell_type": "code",
   "execution_count": 19,
   "metadata": {
    "collapsed": false
   },
   "outputs": [
    {
     "data": {
      "text/plain": [
       "(1, u'Peter', 35)"
      ]
     },
     "execution_count": 19,
     "metadata": {},
     "output_type": "execute_result"
    }
   ],
   "source": [
    "rs.fetchone()"
   ]
  },
  {
   "cell_type": "markdown",
   "metadata": {},
   "source": [
    "Note it is retrieving a Python tuple. we can iterate the resultset with a for statement but we can also get a list of tuples."
   ]
  },
  {
   "cell_type": "code",
   "execution_count": 20,
   "metadata": {
    "collapsed": false
   },
   "outputs": [
    {
     "data": {
      "text/plain": [
       "[(2, u'John', 41), (3, u'Matthew', 50), (4, u'Luke', 65)]"
      ]
     },
     "execution_count": 20,
     "metadata": {},
     "output_type": "execute_result"
    }
   ],
   "source": [
    "rs.fetchall() # Note this will not get the row previously fetched."
   ]
  },
  {
   "cell_type": "markdown",
   "metadata": {},
   "source": [
    "## SQL clauses as Python expressions"
   ]
  },
  {
   "cell_type": "code",
   "execution_count": 21,
   "metadata": {
    "collapsed": false
   },
   "outputs": [
    {
     "data": {
      "text/plain": [
       "[(3, u'Matthew', 50), (4, u'Luke', 65)]"
      ]
     },
     "execution_count": 21,
     "metadata": {},
     "output_type": "execute_result"
    }
   ],
   "source": [
    "s = users.select().where(users.c.age > 45)\n",
    "rs = s.execute()\n",
    "rs.fetchall()"
   ]
  },
  {
   "cell_type": "markdown",
   "metadata": {},
   "source": [
    "## Using SQL directly"
   ]
  },
  {
   "cell_type": "markdown",
   "metadata": {},
   "source": [
    "You can also use SQL directly."
   ]
  },
  {
   "cell_type": "code",
   "execution_count": 22,
   "metadata": {
    "collapsed": false
   },
   "outputs": [
    {
     "name": "stdout",
     "output_type": "stream",
     "text": [
      "(1, u'Peter', 35)\n",
      "(2, u'John', 41)\n",
      "(3, u'Matthew', 50)\n",
      "(4, u'Luke', 65)\n"
     ]
    }
   ],
   "source": [
    "rs = db.execute(\"select * from users\")\n",
    "for row in rs:\n",
    "    print row"
   ]
  },
  {
   "cell_type": "markdown",
   "metadata": {},
   "source": [
    "And also use bounded parameters..."
   ]
  },
  {
   "cell_type": "code",
   "execution_count": 23,
   "metadata": {
    "collapsed": false
   },
   "outputs": [
    {
     "name": "stdout",
     "output_type": "stream",
     "text": [
      "41\n"
     ]
    }
   ],
   "source": [
    "initial = \"J%\"\n",
    "sql = \"select name, age from users where name like :i\"\n",
    "rs = db.execute(sql, i=initial)\n",
    "print rs.fetchone()[\"age\"]"
   ]
  },
  {
   "cell_type": "markdown",
   "metadata": {},
   "source": [
    "## Converting to pandas"
   ]
  },
  {
   "cell_type": "markdown",
   "metadata": {},
   "source": [
    "As you can get the result of SQL statements, you now have the means to convert them. "
   ]
  },
  {
   "cell_type": "code",
   "execution_count": 24,
   "metadata": {
    "collapsed": false
   },
   "outputs": [
    {
     "name": "stdout",
     "output_type": "stream",
     "text": [
      "<class 'sqlalchemy.engine.result.ResultProxy'>\n"
     ]
    },
    {
     "data": {
      "text/html": [
       "<div style=\"max-height:1000px;max-width:1500px;overflow:auto;\">\n",
       "<table border=\"1\" class=\"dataframe\">\n",
       "  <thead>\n",
       "    <tr style=\"text-align: right;\">\n",
       "      <th></th>\n",
       "      <th>Age</th>\n",
       "      <th>Name</th>\n",
       "    </tr>\n",
       "  </thead>\n",
       "  <tbody>\n",
       "    <tr>\n",
       "      <th>0</th>\n",
       "      <td> 35</td>\n",
       "      <td>   Peter</td>\n",
       "    </tr>\n",
       "    <tr>\n",
       "      <th>1</th>\n",
       "      <td> 41</td>\n",
       "      <td>    John</td>\n",
       "    </tr>\n",
       "    <tr>\n",
       "      <th>2</th>\n",
       "      <td> 50</td>\n",
       "      <td> Matthew</td>\n",
       "    </tr>\n",
       "    <tr>\n",
       "      <th>3</th>\n",
       "      <td> 65</td>\n",
       "      <td>    Luke</td>\n",
       "    </tr>\n",
       "  </tbody>\n",
       "</table>\n",
       "</div>"
      ],
      "text/plain": [
       "   Age     Name\n",
       "0   35    Peter\n",
       "1   41     John\n",
       "2   50  Matthew\n",
       "3   65     Luke"
      ]
     },
     "execution_count": 24,
     "metadata": {},
     "output_type": "execute_result"
    }
   ],
   "source": [
    "rs = db.execute(\"select * from users\")\n",
    "print type(rs)\n",
    "\n",
    "# Now we have all in memory as a list of tuples.\n",
    "import pandas as pd\n",
    "col_name = []\n",
    "col_age = []\n",
    "for row in rs:\n",
    "    col_name.append(row[\"name\"])\n",
    "    col_age.append(row[\"age\"])\n",
    "names = pd.Series(col_name)\n",
    "ages = pd.Series(col_age)\n",
    "mydf = pd.DataFrame({\"Name\":col_name, \"Age\":col_age})\n",
    "mydf"
   ]
  },
  {
   "cell_type": "markdown",
   "metadata": {},
   "source": [
    "## Converting to pandas DataFrame (directly)"
   ]
  },
  {
   "cell_type": "code",
   "execution_count": 25,
   "metadata": {
    "collapsed": false
   },
   "outputs": [
    {
     "data": {
      "text/html": [
       "<div style=\"max-height:1000px;max-width:1500px;overflow:auto;\">\n",
       "<table border=\"1\" class=\"dataframe\">\n",
       "  <thead>\n",
       "    <tr style=\"text-align: right;\">\n",
       "      <th></th>\n",
       "      <th>name</th>\n",
       "      <th>age</th>\n",
       "    </tr>\n",
       "    <tr>\n",
       "      <th>user_id</th>\n",
       "      <th></th>\n",
       "      <th></th>\n",
       "    </tr>\n",
       "  </thead>\n",
       "  <tbody>\n",
       "    <tr>\n",
       "      <th>1</th>\n",
       "      <td>   Peter</td>\n",
       "      <td> 35</td>\n",
       "    </tr>\n",
       "    <tr>\n",
       "      <th>2</th>\n",
       "      <td>    John</td>\n",
       "      <td> 41</td>\n",
       "    </tr>\n",
       "    <tr>\n",
       "      <th>3</th>\n",
       "      <td> Matthew</td>\n",
       "      <td> 50</td>\n",
       "    </tr>\n",
       "    <tr>\n",
       "      <th>4</th>\n",
       "      <td>    Luke</td>\n",
       "      <td> 65</td>\n",
       "    </tr>\n",
       "  </tbody>\n",
       "</table>\n",
       "</div>"
      ],
      "text/plain": [
       "            name  age\n",
       "user_id              \n",
       "1          Peter   35\n",
       "2           John   41\n",
       "3        Matthew   50\n",
       "4           Luke   65"
      ]
     },
     "execution_count": 25,
     "metadata": {},
     "output_type": "execute_result"
    }
   ],
   "source": [
    "df = pd.read_sql_query('SELECT * FROM users', db, index_col = 'user_id')\n",
    "df.head(4)"
   ]
  },
  {
   "cell_type": "code",
   "execution_count": 26,
   "metadata": {
    "collapsed": false
   },
   "outputs": [
    {
     "name": "stdout",
     "output_type": "stream",
     "text": [
      "user_id\n",
      "1          35\n",
      "2          41\n",
      "3          50\n",
      "4          65\n",
      "Name: age, dtype: int64\n"
     ]
    }
   ],
   "source": [
    "print df[\"age\"]"
   ]
  },
  {
   "cell_type": "code",
   "execution_count": null,
   "metadata": {
    "collapsed": false
   },
   "outputs": [],
   "source": []
  }
 ],
 "metadata": {
  "kernelspec": {
   "display_name": "Python 2",
   "language": "python",
   "name": "python2"
  },
  "language_info": {
   "codemirror_mode": {
    "name": "ipython",
    "version": 2
   },
   "file_extension": ".py",
   "mimetype": "text/x-python",
   "name": "python",
   "nbconvert_exporter": "python",
   "pygments_lexer": "ipython2",
   "version": "2.7.9"
  }
 },
 "nbformat": 4,
 "nbformat_minor": 0
}
