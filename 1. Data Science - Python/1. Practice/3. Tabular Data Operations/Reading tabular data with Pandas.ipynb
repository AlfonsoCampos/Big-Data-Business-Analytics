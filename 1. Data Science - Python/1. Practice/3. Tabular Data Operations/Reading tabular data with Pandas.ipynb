{
 "cells": [
  {
   "cell_type": "markdown",
   "metadata": {},
   "source": [
    "# Reading and exploring tabular data with Pandas"
   ]
  },
  {
   "cell_type": "markdown",
   "metadata": {},
   "source": [
    "Pandas provides a DataFrame type that represents tabular data, much in the style of a spreadsheet."
   ]
  },
  {
   "cell_type": "markdown",
   "metadata": {},
   "source": [
    "There are a number of read functions in Pandas that return a DataFrame. Examples are <code>read_csv</code> or <code>read_table</code>."
   ]
  },
  {
   "cell_type": "markdown",
   "metadata": {},
   "source": [
    "## Getting some tabular data"
   ]
  },
  {
   "cell_type": "markdown",
   "metadata": {},
   "source": [
    "Let's take as an example the churn dataset in https://github.com/EricChiang/churn"
   ]
  },
  {
   "cell_type": "code",
   "execution_count": 57,
   "metadata": {
    "collapsed": false
   },
   "outputs": [
    {
     "data": {
      "text/plain": [
       "('churn.txt', <httplib.HTTPMessage instance at 0x10f8ecdd0>)"
      ]
     },
     "execution_count": 57,
     "metadata": {},
     "output_type": "execute_result"
    }
   ],
   "source": [
    "from urllib import urlretrieve\n",
    "link = 'https://raw.githubusercontent.com/EricChiang/churn/master/data/churn.csv'\n",
    "urlretrieve(link, \"churn.txt\")"
   ]
  },
  {
   "cell_type": "markdown",
   "metadata": {},
   "source": [
    "This has downloaded a file in ** comma-separated-values format (CSV)**."
   ]
  },
  {
   "cell_type": "markdown",
   "metadata": {},
   "source": [
    "\"Churn Rate\" is a business term describing the rate at which customers leave or cease paying for a product or service. It's a critical indicator in many businesses, as it's often the case that **acquiring new customers is a lot more expensive than retaining existing ones**. Typically, churn datasets contain one line per customer and a lot of variables, that are hypothesized to be potential causes of the final churn event."
   ]
  },
  {
   "cell_type": "code",
   "execution_count": 58,
   "metadata": {
    "collapsed": false
   },
   "outputs": [
    {
     "name": "stdout",
     "output_type": "stream",
     "text": [
      "State,Account Length,Area Code,Phone,Int'l Plan,VMail Plan,VMail Message,Day Mins,Day Calls,Day Charge,Eve Mins,Eve Calls,Eve Charge,Night Mins,Night Calls,Night Charge,Intl Mins,Intl Calls,Intl Charge,CustServ Calls,Churn?\r",
      "\r\n",
      "KS,128,415,382-4657,no,yes,25,265.100000,110,45.070000,197.400000,99,16.780000,244.700000,91,11.010000,10.000000,3,2.700000,1,False.\r",
      "\r\n",
      "OH,107,415,371-7191,no,yes,26,161.600000,123,27.470000,195.500000,103,16.620000,254.400000,103,11.450000,13.700000,3,3.700000,1,False.\r",
      "\r\n",
      "NJ,137,415,358-1921,no,no,0,243.400000,114,41.380000,121.200000,110,10.300000,162.600000,104,7.320000,12.200000,5,3.290000,0,False.\r",
      "\r\n",
      "OH,84,408,375-9999,yes,no,0,299.400000,71,50.900000,61.900000,88,5.260000,196.900000,89,8.860000,6.600000,7,1.780000,2,False.\r",
      "\r\n"
     ]
    }
   ],
   "source": [
    "!head -n5 churn.txt"
   ]
  },
  {
   "cell_type": "markdown",
   "metadata": {},
   "source": [
    "The data above is of various types, integers, floats, and strings. But all of them are represented as text separated by commas. Note also that there is a period after each line. This is a typical way of sharing datasets, which is **multi-platform**, i.e. you can read these files in every operating system and with virtually every programming language. It is also readable with a normal text editor, and all of this makes the format very popular."
   ]
  },
  {
   "cell_type": "markdown",
   "metadata": {},
   "source": [
    "## Reading the data"
   ]
  },
  {
   "cell_type": "markdown",
   "metadata": {},
   "source": [
    "This is as simple as using <code>pd.read_csv</code>"
   ]
  },
  {
   "cell_type": "code",
   "execution_count": 59,
   "metadata": {
    "collapsed": false
   },
   "outputs": [
    {
     "data": {
      "text/html": [
       "<div style=\"max-height:1000px;max-width:1500px;overflow:auto;\">\n",
       "<table border=\"1\" class=\"dataframe\">\n",
       "  <thead>\n",
       "    <tr style=\"text-align: right;\">\n",
       "      <th></th>\n",
       "      <th>State</th>\n",
       "      <th>Account Length</th>\n",
       "      <th>Area Code</th>\n",
       "      <th>Phone</th>\n",
       "      <th>Int'l Plan</th>\n",
       "      <th>VMail Plan</th>\n",
       "      <th>VMail Message</th>\n",
       "      <th>Day Mins</th>\n",
       "      <th>Day Calls</th>\n",
       "      <th>Day Charge</th>\n",
       "      <th>...</th>\n",
       "      <th>Eve Calls</th>\n",
       "      <th>Eve Charge</th>\n",
       "      <th>Night Mins</th>\n",
       "      <th>Night Calls</th>\n",
       "      <th>Night Charge</th>\n",
       "      <th>Intl Mins</th>\n",
       "      <th>Intl Calls</th>\n",
       "      <th>Intl Charge</th>\n",
       "      <th>CustServ Calls</th>\n",
       "      <th>Churn?</th>\n",
       "    </tr>\n",
       "  </thead>\n",
       "  <tbody>\n",
       "    <tr>\n",
       "      <th>0</th>\n",
       "      <td> KS</td>\n",
       "      <td> 128</td>\n",
       "      <td> 415</td>\n",
       "      <td> 382-4657</td>\n",
       "      <td>  no</td>\n",
       "      <td> yes</td>\n",
       "      <td> 25</td>\n",
       "      <td> 265.1</td>\n",
       "      <td> 110</td>\n",
       "      <td> 45.07</td>\n",
       "      <td>...</td>\n",
       "      <td>  99</td>\n",
       "      <td> 16.78</td>\n",
       "      <td> 244.7</td>\n",
       "      <td>  91</td>\n",
       "      <td> 11.01</td>\n",
       "      <td> 10.0</td>\n",
       "      <td> 3</td>\n",
       "      <td> 2.70</td>\n",
       "      <td> 1</td>\n",
       "      <td> False.</td>\n",
       "    </tr>\n",
       "    <tr>\n",
       "      <th>1</th>\n",
       "      <td> OH</td>\n",
       "      <td> 107</td>\n",
       "      <td> 415</td>\n",
       "      <td> 371-7191</td>\n",
       "      <td>  no</td>\n",
       "      <td> yes</td>\n",
       "      <td> 26</td>\n",
       "      <td> 161.6</td>\n",
       "      <td> 123</td>\n",
       "      <td> 27.47</td>\n",
       "      <td>...</td>\n",
       "      <td> 103</td>\n",
       "      <td> 16.62</td>\n",
       "      <td> 254.4</td>\n",
       "      <td> 103</td>\n",
       "      <td> 11.45</td>\n",
       "      <td> 13.7</td>\n",
       "      <td> 3</td>\n",
       "      <td> 3.70</td>\n",
       "      <td> 1</td>\n",
       "      <td> False.</td>\n",
       "    </tr>\n",
       "    <tr>\n",
       "      <th>2</th>\n",
       "      <td> NJ</td>\n",
       "      <td> 137</td>\n",
       "      <td> 415</td>\n",
       "      <td> 358-1921</td>\n",
       "      <td>  no</td>\n",
       "      <td>  no</td>\n",
       "      <td>  0</td>\n",
       "      <td> 243.4</td>\n",
       "      <td> 114</td>\n",
       "      <td> 41.38</td>\n",
       "      <td>...</td>\n",
       "      <td> 110</td>\n",
       "      <td> 10.30</td>\n",
       "      <td> 162.6</td>\n",
       "      <td> 104</td>\n",
       "      <td>  7.32</td>\n",
       "      <td> 12.2</td>\n",
       "      <td> 5</td>\n",
       "      <td> 3.29</td>\n",
       "      <td> 0</td>\n",
       "      <td> False.</td>\n",
       "    </tr>\n",
       "    <tr>\n",
       "      <th>3</th>\n",
       "      <td> OH</td>\n",
       "      <td>  84</td>\n",
       "      <td> 408</td>\n",
       "      <td> 375-9999</td>\n",
       "      <td> yes</td>\n",
       "      <td>  no</td>\n",
       "      <td>  0</td>\n",
       "      <td> 299.4</td>\n",
       "      <td>  71</td>\n",
       "      <td> 50.90</td>\n",
       "      <td>...</td>\n",
       "      <td>  88</td>\n",
       "      <td>  5.26</td>\n",
       "      <td> 196.9</td>\n",
       "      <td>  89</td>\n",
       "      <td>  8.86</td>\n",
       "      <td>  6.6</td>\n",
       "      <td> 7</td>\n",
       "      <td> 1.78</td>\n",
       "      <td> 2</td>\n",
       "      <td> False.</td>\n",
       "    </tr>\n",
       "    <tr>\n",
       "      <th>4</th>\n",
       "      <td> OK</td>\n",
       "      <td>  75</td>\n",
       "      <td> 415</td>\n",
       "      <td> 330-6626</td>\n",
       "      <td> yes</td>\n",
       "      <td>  no</td>\n",
       "      <td>  0</td>\n",
       "      <td> 166.7</td>\n",
       "      <td> 113</td>\n",
       "      <td> 28.34</td>\n",
       "      <td>...</td>\n",
       "      <td> 122</td>\n",
       "      <td> 12.61</td>\n",
       "      <td> 186.9</td>\n",
       "      <td> 121</td>\n",
       "      <td>  8.41</td>\n",
       "      <td> 10.1</td>\n",
       "      <td> 3</td>\n",
       "      <td> 2.73</td>\n",
       "      <td> 3</td>\n",
       "      <td> False.</td>\n",
       "    </tr>\n",
       "  </tbody>\n",
       "</table>\n",
       "<p>5 rows × 21 columns</p>\n",
       "</div>"
      ],
      "text/plain": [
       "  State  Account Length  Area Code     Phone Int'l Plan VMail Plan  \\\n",
       "0    KS             128        415  382-4657         no        yes   \n",
       "1    OH             107        415  371-7191         no        yes   \n",
       "2    NJ             137        415  358-1921         no         no   \n",
       "3    OH              84        408  375-9999        yes         no   \n",
       "4    OK              75        415  330-6626        yes         no   \n",
       "\n",
       "   VMail Message  Day Mins  Day Calls  Day Charge   ...    Eve Calls  \\\n",
       "0             25     265.1        110       45.07   ...           99   \n",
       "1             26     161.6        123       27.47   ...          103   \n",
       "2              0     243.4        114       41.38   ...          110   \n",
       "3              0     299.4         71       50.90   ...           88   \n",
       "4              0     166.7        113       28.34   ...          122   \n",
       "\n",
       "   Eve Charge  Night Mins  Night Calls  Night Charge  Intl Mins  Intl Calls  \\\n",
       "0       16.78       244.7           91         11.01       10.0           3   \n",
       "1       16.62       254.4          103         11.45       13.7           3   \n",
       "2       10.30       162.6          104          7.32       12.2           5   \n",
       "3        5.26       196.9           89          8.86        6.6           7   \n",
       "4       12.61       186.9          121          8.41       10.1           3   \n",
       "\n",
       "   Intl Charge  CustServ Calls  Churn?  \n",
       "0         2.70               1  False.  \n",
       "1         3.70               1  False.  \n",
       "2         3.29               0  False.  \n",
       "3         1.78               2  False.  \n",
       "4         2.73               3  False.  \n",
       "\n",
       "[5 rows x 21 columns]"
      ]
     },
     "execution_count": 59,
     "metadata": {},
     "output_type": "execute_result"
    }
   ],
   "source": [
    "import pandas as pd\n",
    "import numpy as np\n",
    "df = pd.read_csv(\"churn.txt\")\n",
    "df.head(5)"
   ]
  },
  {
   "cell_type": "markdown",
   "metadata": {},
   "source": [
    "This call to <code>read_csv</code> used a lot of default values, e.g. it assumed a header line was present, etc. There are many modifiers in the function that allow you to deal with CSV files that have particularities."
   ]
  },
  {
   "cell_type": "code",
   "execution_count": 60,
   "metadata": {
    "collapsed": false
   },
   "outputs": [],
   "source": [
    "# To see all the modifiers:\n",
    "pd.read_csv?"
   ]
  },
  {
   "cell_type": "markdown",
   "metadata": {},
   "source": [
    "For example, we can read only a few rows and only some columns."
   ]
  },
  {
   "cell_type": "code",
   "execution_count": 61,
   "metadata": {
    "collapsed": false
   },
   "outputs": [
    {
     "data": {
      "text/html": [
       "<div style=\"max-height:1000px;max-width:1500px;overflow:auto;\">\n",
       "<table border=\"1\" class=\"dataframe\">\n",
       "  <thead>\n",
       "    <tr style=\"text-align: right;\">\n",
       "      <th></th>\n",
       "      <th>VMail Plan</th>\n",
       "      <th>Day Charge</th>\n",
       "      <th>CustServ Calls</th>\n",
       "      <th>Churn?</th>\n",
       "    </tr>\n",
       "  </thead>\n",
       "  <tbody>\n",
       "    <tr>\n",
       "      <th>0</th>\n",
       "      <td> yes</td>\n",
       "      <td> 45.07</td>\n",
       "      <td> 1</td>\n",
       "      <td> False.</td>\n",
       "    </tr>\n",
       "    <tr>\n",
       "      <th>1</th>\n",
       "      <td> yes</td>\n",
       "      <td> 27.47</td>\n",
       "      <td> 1</td>\n",
       "      <td> False.</td>\n",
       "    </tr>\n",
       "    <tr>\n",
       "      <th>2</th>\n",
       "      <td>  no</td>\n",
       "      <td> 41.38</td>\n",
       "      <td> 0</td>\n",
       "      <td> False.</td>\n",
       "    </tr>\n",
       "  </tbody>\n",
       "</table>\n",
       "</div>"
      ],
      "text/plain": [
       "  VMail Plan  Day Charge  CustServ Calls  Churn?\n",
       "0        yes       45.07               1  False.\n",
       "1        yes       27.47               1  False.\n",
       "2         no       41.38               0  False."
      ]
     },
     "execution_count": 61,
     "metadata": {},
     "output_type": "execute_result"
    }
   ],
   "source": [
    "df = pd.read_csv(\"churn.txt\", nrows=3, usecols=[\"VMail Plan\", \"Day Charge\", \"CustServ Calls\",\"Churn?\"])\n",
    "df"
   ]
  },
  {
   "cell_type": "markdown",
   "metadata": {},
   "source": [
    "## Type inference"
   ]
  },
  {
   "cell_type": "markdown",
   "metadata": {},
   "source": [
    "Pandas infers the type of the data."
   ]
  },
  {
   "cell_type": "code",
   "execution_count": 62,
   "metadata": {
    "collapsed": false
   },
   "outputs": [
    {
     "name": "stdout",
     "output_type": "stream",
     "text": [
      "float64\n",
      "object\n",
      "int64\n",
      "object\n",
      "<class 'pandas.core.series.Series'>\n"
     ]
    }
   ],
   "source": [
    "print df[\"Day Charge\"].dtype\n",
    "print df[\"VMail Plan\"].dtype\n",
    "print df[\"CustServ Calls\"].dtype\n",
    "print df[\"Churn?\"].dtype\n",
    "print type(df[\"Churn?\"])"
   ]
  },
  {
   "cell_type": "markdown",
   "metadata": {},
   "source": [
    "What about the types \"object\"? are there correctly inferred?"
   ]
  },
  {
   "cell_type": "markdown",
   "metadata": {},
   "source": [
    "## Writing tabular data"
   ]
  },
  {
   "cell_type": "markdown",
   "metadata": {},
   "source": [
    "The to_csv operation can be used to save CSV data."
   ]
  },
  {
   "cell_type": "code",
   "execution_count": 63,
   "metadata": {
    "collapsed": false
   },
   "outputs": [],
   "source": [
    "df.to_csv(\"churn2.txt\", index=False) # do not output a column for the index"
   ]
  },
  {
   "cell_type": "markdown",
   "metadata": {},
   "source": [
    "## Changing columns"
   ]
  },
  {
   "cell_type": "markdown",
   "metadata": {},
   "source": [
    "Sometimes we want to convert to a different type part of the data. This may be for example our case with some of the string columns in our churn dataset. We can achieve that in several ways, but maybe using <code>Series.map</code> is the easiest."
   ]
  },
  {
   "cell_type": "code",
   "execution_count": 64,
   "metadata": {
    "collapsed": false
   },
   "outputs": [
    {
     "name": "stdout",
     "output_type": "stream",
     "text": [
      "bool\n",
      "0     True\n",
      "1     True\n",
      "2    False\n",
      "Name: VMail Plan, dtype: bool\n"
     ]
    }
   ],
   "source": [
    "# Let's read all the dataset now for the three columns:\n",
    "df = pd.read_csv(\"churn.txt\", usecols=[\"VMail Plan\", \"Day Charge\", \"CustServ Calls\",\"Churn?\"])\n",
    "# and then convert Churn and plan to boolean:\n",
    "def change1(value):\n",
    "    return value == \"True.\"\n",
    "def change2(value):\n",
    "    return value == \"yes\"\n",
    "\n",
    "\n",
    "df[\"Churn?\"] = df[\"Churn?\"].map(change1)\n",
    "df[\"VMail Plan\"] = df[\"VMail Plan\"].map(change2)\n",
    "\n",
    "print df[\"Churn?\"].dtype\n",
    "print df[\"VMail Plan\"].head(3)"
   ]
  },
  {
   "cell_type": "markdown",
   "metadata": {},
   "source": [
    "## Looking at the data"
   ]
  },
  {
   "cell_type": "markdown",
   "metadata": {},
   "source": [
    "What about the distributions of the columns selected?"
   ]
  },
  {
   "cell_type": "code",
   "execution_count": 65,
   "metadata": {
    "collapsed": false
   },
   "outputs": [
    {
     "data": {
      "text/plain": [
       "(array([  3.,   0.,   2.,   1.,   0.,   3.,   0.,   2.,   2.,   1.,   3.,\n",
       "          4.,   2.,   5.,   8.,   7.,  10.,  14.,   5.,   9.,  13.,   8.,\n",
       "         11.,  21.,  19.,  21.,  24.,  31.,  20.,  33.,  29.,  45.,  45.,\n",
       "         44.,  34.,  58.,  53.,  52.,  57.,  62.,  77.,  81.,  74.,  81.,\n",
       "         89.,  87.,  66.,  84.,  82.,  77.,  92.,  78.,  80.,  65.,  95.,\n",
       "         86.,  91.,  70.,  80.,  75.,  68.,  83.,  69.,  69.,  59.,  49.,\n",
       "         46.,  54.,  49.,  48.,  31.,  32.,  29.,  23.,  31.,  28.,  23.,\n",
       "         30.,  19.,  18.,  14.,  14.,  12.,   7.,  10.,   8.,   6.,   4.,\n",
       "          4.,   5.,   1.,   7.,   1.,   3.,   2.,   2.,   1.,   0.,   2.,\n",
       "          1.]),\n",
       " array([  0.    ,   0.5964,   1.1928,   1.7892,   2.3856,   2.982 ,\n",
       "          3.5784,   4.1748,   4.7712,   5.3676,   5.964 ,   6.5604,\n",
       "          7.1568,   7.7532,   8.3496,   8.946 ,   9.5424,  10.1388,\n",
       "         10.7352,  11.3316,  11.928 ,  12.5244,  13.1208,  13.7172,\n",
       "         14.3136,  14.91  ,  15.5064,  16.1028,  16.6992,  17.2956,\n",
       "         17.892 ,  18.4884,  19.0848,  19.6812,  20.2776,  20.874 ,\n",
       "         21.4704,  22.0668,  22.6632,  23.2596,  23.856 ,  24.4524,\n",
       "         25.0488,  25.6452,  26.2416,  26.838 ,  27.4344,  28.0308,\n",
       "         28.6272,  29.2236,  29.82  ,  30.4164,  31.0128,  31.6092,\n",
       "         32.2056,  32.802 ,  33.3984,  33.9948,  34.5912,  35.1876,\n",
       "         35.784 ,  36.3804,  36.9768,  37.5732,  38.1696,  38.766 ,\n",
       "         39.3624,  39.9588,  40.5552,  41.1516,  41.748 ,  42.3444,\n",
       "         42.9408,  43.5372,  44.1336,  44.73  ,  45.3264,  45.9228,\n",
       "         46.5192,  47.1156,  47.712 ,  48.3084,  48.9048,  49.5012,\n",
       "         50.0976,  50.694 ,  51.2904,  51.8868,  52.4832,  53.0796,\n",
       "         53.676 ,  54.2724,  54.8688,  55.4652,  56.0616,  56.658 ,\n",
       "         57.2544,  57.8508,  58.4472,  59.0436,  59.64  ]),\n",
       " <a list of 100 Patch objects>)"
      ]
     },
     "execution_count": 65,
     "metadata": {},
     "output_type": "execute_result"
    },
    {
     "data": {
      "image/png": "[encoded data removed]",
      "text/plain": [
       "<matplotlib.figure.Figure at 0x10ec04950>"
      ]
     },
     "metadata": {},
     "output_type": "display_data"
    }
   ],
   "source": [
    "import matplotlib.pyplot as plt \n",
    "%matplotlib inline\n",
    "plt.subplot(211)\n",
    "plt.hist(df[\"CustServ Calls\"], bins=20)\n",
    "plt.subplot(212)\n",
    "plt.hist(df[\"Day Charge\"], bins=100)"
   ]
  },
  {
   "cell_type": "markdown",
   "metadata": {},
   "source": [
    "The second appears to be normal? We can check it with <a href=\"http://docs.scipy.org/doc/scipy-0.15.1/reference/generated/scipy.stats.mstats.normaltest.html\">scipy.stats.mstats.normaltest</a>¶"
   ]
  },
  {
   "cell_type": "code",
   "execution_count": 66,
   "metadata": {
    "collapsed": false
   },
   "outputs": [
    {
     "name": "stdout",
     "output_type": "stream",
     "text": [
      "1.40445468611e-127 0.775220340033\n"
     ]
    }
   ],
   "source": [
    "from scipy.stats.mstats import normaltest\n",
    "_, pval1 = normaltest(df[\"CustServ Calls\"])\n",
    "_, pval2 = normaltest(df[\"Day Charge\"])\n",
    "\n",
    "print pval1, pval2"
   ]
  },
  {
   "cell_type": "markdown",
   "metadata": {},
   "source": [
    "Given the null hypothesis that the sample came from a normal distribution, if the p-value is very small, it means it is unlikely that the data came from a normal distribution."
   ]
  },
  {
   "cell_type": "markdown",
   "metadata": {},
   "source": [
    "## Following intuitions"
   ]
  },
  {
   "cell_type": "code",
   "execution_count": 78,
   "metadata": {
    "collapsed": false
   },
   "outputs": [
    {
     "name": "stdout",
     "output_type": "stream",
     "text": [
      "483 2850\n"
     ]
    },
    {
     "data": {
      "text/html": [
       "<div style=\"max-height:1000px;max-width:1500px;overflow:auto;\">\n",
       "<table border=\"1\" class=\"dataframe\">\n",
       "  <thead>\n",
       "    <tr style=\"text-align: right;\">\n",
       "      <th></th>\n",
       "      <th>VMail Plan</th>\n",
       "      <th>Day Charge</th>\n",
       "      <th>CustServ Calls</th>\n",
       "      <th>Churn?</th>\n",
       "    </tr>\n",
       "  </thead>\n",
       "  <tbody>\n",
       "    <tr>\n",
       "      <th>0 </th>\n",
       "      <td>  True</td>\n",
       "      <td> 45.07</td>\n",
       "      <td> 1</td>\n",
       "      <td> False</td>\n",
       "    </tr>\n",
       "    <tr>\n",
       "      <th>1 </th>\n",
       "      <td>  True</td>\n",
       "      <td> 27.47</td>\n",
       "      <td> 1</td>\n",
       "      <td> False</td>\n",
       "    </tr>\n",
       "    <tr>\n",
       "      <th>2 </th>\n",
       "      <td> False</td>\n",
       "      <td> 41.38</td>\n",
       "      <td> 0</td>\n",
       "      <td> False</td>\n",
       "    </tr>\n",
       "    <tr>\n",
       "      <th>3 </th>\n",
       "      <td> False</td>\n",
       "      <td> 50.90</td>\n",
       "      <td> 2</td>\n",
       "      <td> False</td>\n",
       "    </tr>\n",
       "    <tr>\n",
       "      <th>10</th>\n",
       "      <td> False</td>\n",
       "      <td> 21.95</td>\n",
       "      <td> 4</td>\n",
       "      <td>  True</td>\n",
       "    </tr>\n",
       "    <tr>\n",
       "      <th>15</th>\n",
       "      <td> False</td>\n",
       "      <td> 56.59</td>\n",
       "      <td> 4</td>\n",
       "      <td>  True</td>\n",
       "    </tr>\n",
       "    <tr>\n",
       "      <th>21</th>\n",
       "      <td> False</td>\n",
       "      <td> 10.61</td>\n",
       "      <td> 5</td>\n",
       "      <td>  True</td>\n",
       "    </tr>\n",
       "    <tr>\n",
       "      <th>33</th>\n",
       "      <td> False</td>\n",
       "      <td> 42.43</td>\n",
       "      <td> 1</td>\n",
       "      <td>  True</td>\n",
       "    </tr>\n",
       "  </tbody>\n",
       "</table>\n",
       "</div>"
      ],
      "text/plain": [
       "   VMail Plan  Day Charge  CustServ Calls Churn?\n",
       "0        True       45.07               1  False\n",
       "1        True       27.47               1  False\n",
       "2       False       41.38               0  False\n",
       "3       False       50.90               2  False\n",
       "10      False       21.95               4   True\n",
       "15      False       56.59               4   True\n",
       "21      False       10.61               5   True\n",
       "33      False       42.43               1   True"
      ]
     },
     "execution_count": 78,
     "metadata": {},
     "output_type": "execute_result"
    }
   ],
   "source": [
    "# is the dataset balanced?\n",
    "those_who_churned = df[df[\"Churn?\"]]\n",
    "those_who_not_churned = df[np.logical_not(df[\"Churn?\"].values)]\n",
    "print len(those_who_churned), len(those_who_not_churned)\n",
    "\n",
    "# are there differences in the classes for different values?\n",
    "by_churn = df.groupby([\"Churn?\"])\n",
    "by_churn.head(4)"
   ]
  },
  {
   "cell_type": "code",
   "execution_count": 84,
   "metadata": {
    "collapsed": false
   },
   "outputs": [
    {
     "name": "stdout",
     "output_type": "stream",
     "text": [
      "Churn?\n",
      "False     1.449825\n",
      "True      2.229814\n",
      "Name: CustServ Calls, dtype: float64\n",
      "Churn?\n",
      "False     29.780421\n",
      "True      35.175921\n",
      "Name: Day Charge, dtype: float64\n"
     ]
    }
   ],
   "source": [
    "print by_churn[\"CustServ Calls\"].mean()\n",
    "print by_churn[\"Day Charge\"].mean()"
   ]
  },
  {
   "cell_type": "markdown",
   "metadata": {},
   "source": [
    "It seems there are differences? But maybe not significant enough?"
   ]
  },
  {
   "cell_type": "markdown",
   "metadata": {},
   "source": [
    "## Now some predictive model"
   ]
  },
  {
   "cell_type": "markdown",
   "metadata": {},
   "source": [
    "Now a very naïve predictive model on our dataset..."
   ]
  },
  {
   "cell_type": "code",
   "execution_count": 68,
   "metadata": {
    "collapsed": false
   },
   "outputs": [
    {
     "name": "stdout",
     "output_type": "stream",
     "text": [
      "[False]\n",
      "[ True]\n"
     ]
    }
   ],
   "source": [
    "from sklearn import svm\n",
    "clf = svm.SVC()\n",
    "clf.fit(df[[\"VMail Plan\", \"Day Charge\", \"CustServ Calls\"]], df[\"Churn?\"]) \n",
    "print clf.predict([True, 50, 0])\n",
    "print clf.predict([False, 54, 4])"
   ]
  },
  {
   "cell_type": "markdown",
   "metadata": {},
   "source": [
    "The support vectors in SVC are the data points that are either misclassified, or close to the boundary. Let's see how many support vectors we do have..."
   ]
  },
  {
   "cell_type": "code",
   "execution_count": 69,
   "metadata": {
    "collapsed": false
   },
   "outputs": [
    {
     "name": "stdout",
     "output_type": "stream",
     "text": [
      "3333\n",
      "1343\n",
      "[False  True]\n"
     ]
    }
   ],
   "source": [
    "print len(df[\"Churn?\"])\n",
    "print len(clf.support_vectors_)\n",
    "print clf.classes_"
   ]
  },
  {
   "cell_type": "markdown",
   "metadata": {},
   "source": [
    "A confusion matrix shows the following information:\n",
    "<img src=\"http://3.bp.blogspot.com/_txFWHHNYMJQ/THyADzbutYI/AAAAAAAAAf8/TAXL7lySrko/s1600/Picture+8.png\" width=\"30%\">    "
   ]
  },
  {
   "cell_type": "code",
   "execution_count": 70,
   "metadata": {
    "collapsed": false
   },
   "outputs": [
    {
     "name": "stdout",
     "output_type": "stream",
     "text": [
      "[[2795   55]\n",
      " [ 261  222]]\n"
     ]
    },
    {
     "data": {
      "text/plain": [
       "<matplotlib.colorbar.Colorbar instance at 0x111071518>"
      ]
     },
     "execution_count": 70,
     "metadata": {},
     "output_type": "execute_result"
    },
    {
     "data": {
      "image/png": "[encoded data removed]",
      "text/plain": [
       "<matplotlib.figure.Figure at 0x10f475ed0>"
      ]
     },
     "metadata": {},
     "output_type": "display_data"
    }
   ],
   "source": [
    "from sklearn.metrics import confusion_matrix\n",
    "churn_pred = clf.predict(df[[\"VMail Plan\", \"Day Charge\", \"CustServ Calls\"]])\n",
    "# Compute confusion matrix\n",
    "cm = confusion_matrix(df[\"Churn?\"], churn_pred)\n",
    "print cm\n",
    "\n",
    "plt.matshow(cm)\n",
    "plt.title('Confusion matrix of churn')\n",
    "plt.colorbar()\n"
   ]
  },
  {
   "cell_type": "markdown",
   "metadata": {
    "collapsed": false
   },
   "source": [
    "## Is that a good model?"
   ]
  },
  {
   "cell_type": "markdown",
   "metadata": {},
   "source": [
    "The dataset itself is disbalanced in the two classes."
   ]
  },
  {
   "cell_type": "code",
   "execution_count": 71,
   "metadata": {
    "collapsed": false
   },
   "outputs": [
    {
     "name": "stdout",
     "output_type": "stream",
     "text": [
      "483 3333 0.144914491449 0.855085508551\n"
     ]
    }
   ],
   "source": [
    "number_of_churned = len(df[df[\"Churn?\"]])\n",
    "dataset_size = len(df[\"Churn?\"])\n",
    "churned_percent = float(number_of_churned) / dataset_size\n",
    "print number_of_churned, dataset_size, churned_percent, 1-churned_percent"
   ]
  },
  {
   "cell_type": "markdown",
   "metadata": {},
   "source": [
    "So in principle, a dumb model giving a random \"False\" (not churned) has 85% of possibilities to give the correct answer over the original dataset."
   ]
  },
  {
   "cell_type": "code",
   "execution_count": 72,
   "metadata": {
    "collapsed": false
   },
   "outputs": [
    {
     "name": "stdout",
     "output_type": "stream",
     "text": [
      "2795\n",
      "0.838583858386\n"
     ]
    }
   ],
   "source": [
    "# Number of positive (not churned) correctly predicted.\n",
    "print cm[0, 0]\n",
    "# Percentage:\n",
    "print float(cm[0,0]) / dataset_size\n"
   ]
  },
  {
   "cell_type": "markdown",
   "metadata": {},
   "source": [
    "If we look at the second row of the CM, this is the split of the correct and incorrect predictions of those who churned, and we can see the correct are less than 50%..."
   ]
  },
  {
   "cell_type": "code",
   "execution_count": null,
   "metadata": {
    "collapsed": true
   },
   "outputs": [],
   "source": []
  }
 ],
 "metadata": {
  "kernelspec": {
   "display_name": "Python 2",
   "language": "python",
   "name": "python2"
  },
  "language_info": {
   "codemirror_mode": {
    "name": "ipython",
    "version": 2
   },
   "file_extension": ".py",
   "mimetype": "text/x-python",
   "name": "python",
   "nbconvert_exporter": "python",
   "pygments_lexer": "ipython2",
   "version": "2.7.9"
  }
 },
 "nbformat": 4,
 "nbformat_minor": 0
}
