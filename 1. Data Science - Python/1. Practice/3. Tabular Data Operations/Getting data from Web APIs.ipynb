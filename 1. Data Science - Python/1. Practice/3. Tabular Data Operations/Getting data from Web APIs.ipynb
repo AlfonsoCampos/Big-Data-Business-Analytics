{
 "cells": [
  {
   "cell_type": "markdown",
   "metadata": {},
   "source": [
    "# Getting data from Web APIs"
   ]
  },
  {
   "cell_type": "markdown",
   "metadata": {},
   "source": [
    "Most Web sites and applications nowadays provides access to its data and functionality using the REST architectural approach. The essential feature of REST is that it is acccessed using the HTTP protocol, i.e. you invoke operations by using the URLs of those.\n",
    "While a call to a REST operation can be used for getting data or for putting or doing some modification, here we focus only on reading data."
   ]
  },
  {
   "cell_type": "markdown",
   "metadata": {},
   "source": [
    "NOTE: Data in this Notebook is downloaded live, so some of the sentences may not work if some jobs have been removed from AngelList or got outdated."
   ]
  },
  {
   "cell_type": "markdown",
   "metadata": {},
   "source": [
    "## A simple example"
   ]
  },
  {
   "cell_type": "markdown",
   "metadata": {},
   "source": [
    "In REST APIs we need to first learn the different endpoints or objects offered. As an example, let's look at the RESTful API of AngelList: https://angel.co/api\n",
    "\n",
    "We can see in the left different endpoints: Startups, Jobs, Comments, Follows, Search, etc. \n",
    "Let's focus first on Jobs."
   ]
  },
  {
   "cell_type": "markdown",
   "metadata": {},
   "source": [
    "Theere are four job related operations in the API:\n",
    "\n",
    "    GET /jobs\n",
    "    GET /jobs/:id\n",
    "    GET /startups/:startup_id/jobs\n",
    "    GET /tags/:tag_id/jobs\n"
   ]
  },
  {
   "cell_type": "markdown",
   "metadata": {},
   "source": [
    "The first one gets all the jobs available (in pages, see below), the second gets the details for a particular job offering. The third gets the jobs offered by a particular startup. The fourth allows us to get the jobs that are assigned to particular tags. This is a typical structure of a REST API."
   ]
  },
  {
   "cell_type": "markdown",
   "metadata": {},
   "source": [
    "## Getting a piece of data"
   ]
  },
  {
   "cell_type": "markdown",
   "metadata": {},
   "source": [
    "Getting data is as simple as requesting one of these URIs."
   ]
  },
  {
   "cell_type": "code",
   "execution_count": 12,
   "metadata": {
    "collapsed": false
   },
   "outputs": [
    {
     "name": "stdout",
     "output_type": "stream",
     "text": [
      "200\n",
      "application/json; charset=utf-8\n",
      "{\"id\":6702,\"hidden\":false,\"community_profile\":false,\"name\":\"AngelList\",\"angellist_url\":\"https://angel.co/angellist\",\"logo_url\":\"https://d1qb2nb5cznatu.cloudfront.net/startups/i/6702-766d1ce00c99ce9a5cbc19d0c87a436e-medium_jpg.jpg?buster=1367604615\",\"thumb_url\":\"https://d1qb2nb5cznatu.cloudfront.net/startups/i/6702-766d1ce00c99ce9a5cbc19d0c87a436e-thumb_jpg.jpg?buster=1367604615\",\"quality\":10,\"product_desc\":\"AngelList is a platform for startups to meet investors, talent and incubators. \\n\\n- Meet investors http://angel.co/people/investors and raise money online http://angel.co/invest\\n\\n- Meet candidates http://angel.co/jobs\\n\\n- Apply to incubators http://angel.co/incubators/apply\\n\\n- We also have an API http://angel.co/api.\\n\\nAccredited investors can invest in syndicates alongside some of the best angel investors in the world. In 2014, we've invested more than $100m in over 240 startups.\\n\\n- Meet lead investors: angel.co/syndicates \\n\\n- Find great startups to back: angel.co/invest\",\"high_concept\":\"A platform for startups.\",\"follower_count\":7158,\"company_url\":\"http://angel.co\",\"created_at\":\"2011-03-18T00:24:29Z\",\"updated_at\":\"2015-04-07T15:37:59Z\",\"crunchbase_url\":null,\"twitter_url\":\"http://twitter.com/angellist\",\"blog_url\":\"http://blog.angel.co\",\"facebook_url\":\"\",\"linkedin_url\":\"\",\"video_url\":\"\",\"markets\":[{\"id\":448,\"tag_type\":\"MarketTag\",\"name\":\"startups\",\"display_name\":\"Startups\",\"angellist_url\":\"https://angel.co/startups-1\"},{\"id\":468,\"tag_type\":\"MarketTag\",\"name\":\"recruiting\",\"display_name\":\"Recruiting\",\"angellist_url\":\"https://angel.co/recruiting-1\"},{\"id\":856,\"tag_type\":\"MarketTag\",\"name\":\"venture capital\",\"display_name\":\"Venture Capital\",\"angellist_url\":\"https://angel.co/venture-capital\"},{\"id\":15805,\"tag_type\":\"MarketTag\",\"name\":\"angel investing\",\"display_name\":\"Angels\",\"angellist_url\":\"https://angel.co/angel-investing\"}],\"locations\":[{\"id\":1692,\"tag_type\":\"LocationTag\",\"name\":\"san francisco\",\"display_name\":\"San Francisco\",\"angellist_url\":\"https://angel.co/san-francisco\"},{\"id\":1664,\"tag_type\":\"LocationTag\",\"name\":\"new york, ny\",\"display_name\":\"New York City\",\"angellist_url\":\"https://angel.co/new-york-ny-1\"}],\"company_size\":\"11-50\",\"company_type\":[{\"id\":94212,\"tag_type\":\"CompanyTypeTag\",\"name\":\"startup\",\"display_name\":\"Startup\",\"angellist_url\":\"https://angel.co/startup\"}],\"status\":{\"id\":114778,\"message\":\"Done Deal: @lob raises $2.4M http://techcrunch.com/2013/11/04/cloud-printing-shipping-service-lob-raises-2-4-million-seed-round/ \\u0387 37 intros on AngelList \\u0387 Funded by @joshu @buchheit @sama @alexisohanian @daltonc @garrytan @kevinhale\",\"created_at\":\"2013-11-10T18:00:01Z\"},\"screenshots\":[{\"thumb\":\"https://d2gn4xht817m0g.cloudfront.net/p/product_screenshots/images/thumb/000/168/363/168363-f0a1f76354fb3d864c917344da571560694f00ac.jpg?1395429621\",\"original\":\"https://d2gn4xht817m0g.cloudfront.net/p/product_screenshots/images/original/000/168/363/168363-f2312f18b72ead04f2a85fc877e50a653e883a26.png?1395429621\"}]}\n"
     ]
    }
   ],
   "source": [
    "import requests as rq\n",
    "r = rq.get('https://api.angel.co/1/startups/6702')\n",
    "print r.status_code\n",
    "print r.headers['content-type']\n",
    "print r.text"
   ]
  },
  {
   "cell_type": "markdown",
   "metadata": {},
   "source": [
    "## Parsing Json"
   ]
  },
  {
   "cell_type": "markdown",
   "metadata": {},
   "source": [
    "Javascript Object Notation (JSON) is a format for encoding data in a hierarchical way similar to XML. Many REST APIs return JSON objects, as seen in the example above. We can parse JSON objects from inside Python. "
   ]
  },
  {
   "cell_type": "code",
   "execution_count": 13,
   "metadata": {
    "collapsed": false
   },
   "outputs": [
    {
     "name": "stdout",
     "output_type": "stream",
     "text": [
      "{\"id\":51171,\"title\":\"Data Analyst\",\"description\":\"We are hiring!\\n\\n\\n\\n\\nData Analyst in Athens, GA\\n\\n\\n\\n\\n\\n\\n\\n\\nIterative is looking for a Data Analyst to join our Business Analytics team.\\u00a0\\n\\n\\n\\n\\nHere at Iterative, we help brick-and-mortar retailers improve their operations and in-store experience to ultimately drive revenue.\\u00a0\\n\\n\\n\\n\\nResponsibilities\\u00a0\\n\\n\\n\\n\\nIterative is looking for Data Analyst to validate insights from retail data. As part of a growing and dynamic organisation, you will have a unique opportunity to work in an innovative product for the retail industry. \\u00a0\\n\\n\\n\\n\\nPosition Description:\\u00a0\\n\\n\\n\\n\\n\\u2022\\tValidate analysis of large data sets for key internal and external stakeholders.\\u00a0\\n\\u2022\\tPrepare customer-facing presentations for a variety of retail customers.\\u00a0\\n\\u2022\\tCollaborate with other analysts as well as other functional groups within the organization on existing and new data product development.\\u00a0\\n\\u2022\\tValidate insights from large sets of retail data.\\u00a0\\n\\u2022\\tAssist with ad-hoc numerical modeling requests.\\u00a0\\n\\n\\n\\n\\nProfessional Requirements:\\u00a0\\n\\n\\n\\n\\n\\u2022\\tRelated work experience preferred\\u00a0\\n\\u2022\\tExcellent attention to detail with regard to both numerical (spreadsheet) and presentation precision and elegance\\u00a0\\n\\u2022\\tStrong understanding of and sensitivity towards data integrity and cleanliness \\u2022 Passion for the retail industry and the application of analytics to enhance the retail experience. Understanding of telecom stores is a bonus.\\n\\u2022\\tAbility to thrive in a fast-paced environment and quickly organize and prioritise workload requirements \\u2022\\tStrong written and verbal communication skills\\u00a0\\n\\u2022\\tStrong project management skills and sensitivity toward deadlines\\u00a0\\n\\u2022\\tExpert knowledge of Excel\\n\\u2022\\tSkilled at working with spreadsheets and data visualisation\\u00a0\\n\\u2022\\tValidate actionable insights from large data sets and confirm the story within the data\\u00a0\\n\\u2022\\tProven track record as a resourceful self-starter who is creative and comfortable working cross-functionally Ability to work collaboratively, yet comfortable working independently with minimal supervision\",\"created_at\":\"2015-01-29T13:16:41Z\",\"updated_at\":\"2015-01-29T13:25:23Z\",\"equity_cliff\":\"1.0\",\"equity_min\":\"0.001\",\"equity_max\":\"0.002\",\"equity_vest\":\"4.0\",\"currency_code\":\"USD\",\"job_type\":\"full-time\",\"salary_min\":35000,\"salary_max\":38000,\"angellist_url\":\"https://angel.co/iterative/jobs/51171-data-analyst\",\"tags\":[{\"id\":15731,\"tag_type\":\"SkillTag\",\"name\":\"data analysis\",\"display_name\":\"Data Analysis\",\"angellist_url\":\"https://angel.co/data-analysis\"},{\"id\":26875,\"tag_type\":\"SkillTag\",\"name\":\"financial modeling\",\"display_name\":\"Financial Modeling\",\"angellist_url\":\"https://angel.co/financial-modeling\"},{\"id\":29625,\"tag_type\":\"SkillTag\",\"name\":\"financial analysis\",\"display_name\":\"Financial Analysis\",\"angellist_url\":\"https://angel.co/financial-analysis\"},{\"id\":61036,\"tag_type\":\"SkillTag\",\"name\":\"excel\",\"display_name\":\"Excel\",\"angellist_url\":\"https://angel.co/excel\"},{\"id\":109037,\"tag_type\":\"LocationTag\",\"name\":\"athens, ga\",\"display_name\":\"Athens, GA\",\"angellist_url\":\"https://angel.co/athens-ga\"},{\"id\":150979,\"tag_type\":\"RoleTag\",\"name\":\"devops\",\"display_name\":\"DevOps\",\"angellist_url\":\"https://angel.co/devops-3\"}],\"remote_ok\":false,\"startup\":{\"id\":359901,\"hidden\":false,\"community_profile\":false,\"name\":\"Iterative\",\"angellist_url\":\"https://angel.co/iterative\",\"logo_url\":\"https://d1qb2nb5cznatu.cloudfront.net/startups/i/359901-686be18becf13d1b4af60fc3ba708c90-medium_jpg.jpg?buster=1394710511\",\"thumb_url\":\"https://d1qb2nb5cznatu.cloudfront.net/startups/i/359901-686be18becf13d1b4af60fc3ba708c90-thumb_jpg.jpg?buster=1394710511\",\"quality\":4,\"product_desc\":\"Our product is a retail analytics platform for the brick mortar store. We are manager of managers and we turn complex unstructured pools of data into simple actions. Our data collection engine aggregates data from video sources, merchandise sensors, beacons, network traffic, data bases, etc. \\n\\nOur output is automated and specific to each store location. We provide the store managers (staff) with simple actions so each location archives maximum profitability.\",\"high_concept\":\"Retail analytics platform to turn data into simple automated actions\",\"follower_count\":33,\"company_url\":\"http://www.it-erative.com\",\"created_at\":\"2014-03-13T11:35:18Z\",\"updated_at\":\"2015-04-27T14:25:53Z\"}}\n"
     ]
    }
   ],
   "source": [
    "r = rq.get('https://api.angel.co/1/jobs/51171?access_token=ff0c51459704ba520fefe32bd86ba86b6d837ae6f5d4d93c') # Replace the id if not found.\n",
    "print r.text"
   ]
  },
  {
   "cell_type": "code",
   "execution_count": 14,
   "metadata": {
    "collapsed": false
   },
   "outputs": [
    {
     "name": "stdout",
     "output_type": "stream",
     "text": [
      "{\n",
      "  \"startup\": {\n",
      "    \"community_profile\": false, \n",
      "    \"thumb_url\": \"https://d1qb2nb5cznatu.cloudfront.net/startups/i/359901-686be18becf13d1b4af60fc3ba708c90-thumb_jpg.jpg?buster=1394710511\", \n",
      "    \"name\": \"Iterative\", \n",
      "    \"product_desc\": \"Our product is a retail analytics platform for the brick mortar store. We are manager of managers and we turn complex unstructured pools of data into simple actions. Our data collection engine aggregates data from video sources, merchandise sensors, beacons, network traffic, data bases, etc. \\n\\nOur output is automated and specific to each store location. We provide the store managers (staff) with simple actions so each location archives maximum profitability.\", \n",
      "    \"angellist_url\": \"https://angel.co/iterative\", \n",
      "    \"high_concept\": \"Retail analytics platform to turn data into simple automated actions\", \n",
      "    \"created_at\": \"2014-03-13T11:35:18Z\", \n",
      "    \"updated_at\": \"2015-04-27T14:25:53Z\", \n",
      "    \"company_url\": \"http://www.it-erative.com\", \n",
      "    \"follower_count\": 33, \n",
      "    \"hidden\": false, \n",
      "    \"logo_url\": \"https://d1qb2nb5cznatu.cloudfront.net/startups/i/359901-686be18becf13d1b4af60fc3ba708c90-medium_jpg.jpg?buster=1394710511\", \n",
      "    \"quality\": 4, \n",
      "    \"id\": 359901\n",
      "  }, \n",
      "  \"equity_vest\": \"4.0\", \n",
      "  \"description\": \"We are hiring!\\n\\n\\n\\n\\nData Analyst in Athens, GA\\n\\n\\n\\n\\n\\n\\n\\n\\nIterative is looking for a Data Analyst to join our Business Analytics team.\\u00a0\\n\\n\\n\\n\\nHere at Iterative, we help brick-and-mortar retailers improve their operations and in-store experience to ultimately drive revenue.\\u00a0\\n\\n\\n\\n\\nResponsibilities\\u00a0\\n\\n\\n\\n\\nIterative is looking for Data Analyst to validate insights from retail data. As part of a growing and dynamic organisation, you will have a unique opportunity to work in an innovative product for the retail industry. \\u00a0\\n\\n\\n\\n\\nPosition Description:\\u00a0\\n\\n\\n\\n\\n\\u2022\\tValidate analysis of large data sets for key internal and external stakeholders.\\u00a0\\n\\u2022\\tPrepare customer-facing presentations for a variety of retail customers.\\u00a0\\n\\u2022\\tCollaborate with other analysts as well as other functional groups within the organization on existing and new data product development.\\u00a0\\n\\u2022\\tValidate insights from large sets of retail data.\\u00a0\\n\\u2022\\tAssist with ad-hoc numerical modeling requests.\\u00a0\\n\\n\\n\\n\\nProfessional Requirements:\\u00a0\\n\\n\\n\\n\\n\\u2022\\tRelated work experience preferred\\u00a0\\n\\u2022\\tExcellent attention to detail with regard to both numerical (spreadsheet) and presentation precision and elegance\\u00a0\\n\\u2022\\tStrong understanding of and sensitivity towards data integrity and cleanliness \\u2022 Passion for the retail industry and the application of analytics to enhance the retail experience. Understanding of telecom stores is a bonus.\\n\\u2022\\tAbility to thrive in a fast-paced environment and quickly organize and prioritise workload requirements \\u2022\\tStrong written and verbal communication skills\\u00a0\\n\\u2022\\tStrong project management skills and sensitivity toward deadlines\\u00a0\\n\\u2022\\tExpert knowledge of Excel\\n\\u2022\\tSkilled at working with spreadsheets and data visualisation\\u00a0\\n\\u2022\\tValidate actionable insights from large data sets and confirm the story within the data\\u00a0\\n\\u2022\\tProven track record as a resourceful self-starter who is creative and comfortable working cross-functionally Ability to work collaboratively, yet comfortable working independently with minimal supervision\", \n",
      "  \"title\": \"Data Analyst\", \n",
      "  \"angellist_url\": \"https://angel.co/iterative/jobs/51171-data-analyst\", \n",
      "  \"salary_min\": 35000, \n",
      "  \"created_at\": \"2015-01-29T13:16:41Z\", \n",
      "  \"tags\": [\n",
      "    {\n",
      "      \"angellist_url\": \"https://angel.co/data-analysis\", \n",
      "      \"display_name\": \"Data Analysis\", \n",
      "      \"id\": 15731, \n",
      "      \"name\": \"data analysis\", \n",
      "      \"tag_type\": \"SkillTag\"\n",
      "    }, \n",
      "    {\n",
      "      \"angellist_url\": \"https://angel.co/financial-modeling\", \n",
      "      \"display_name\": \"Financial Modeling\", \n",
      "      \"id\": 26875, \n",
      "      \"name\": \"financial modeling\", \n",
      "      \"tag_type\": \"SkillTag\"\n",
      "    }, \n",
      "    {\n",
      "      \"angellist_url\": \"https://angel.co/financial-analysis\", \n",
      "      \"display_name\": \"Financial Analysis\", \n",
      "      \"id\": 29625, \n",
      "      \"name\": \"financial analysis\", \n",
      "      \"tag_type\": \"SkillTag\"\n",
      "    }, \n",
      "    {\n",
      "      \"angellist_url\": \"https://angel.co/excel\", \n",
      "      \"display_name\": \"Excel\", \n",
      "      \"id\": 61036, \n",
      "      \"name\": \"excel\", \n",
      "      \"tag_type\": \"SkillTag\"\n",
      "    }, \n",
      "    {\n",
      "      \"angellist_url\": \"https://angel.co/athens-ga\", \n",
      "      \"display_name\": \"Athens, GA\", \n",
      "      \"id\": 109037, \n",
      "      \"name\": \"athens, ga\", \n",
      "      \"tag_type\": \"LocationTag\"\n",
      "    }, \n",
      "    {\n",
      "      \"angellist_url\": \"https://angel.co/devops-3\", \n",
      "      \"display_name\": \"DevOps\", \n",
      "      \"id\": 150979, \n",
      "      \"name\": \"devops\", \n",
      "      \"tag_type\": \"RoleTag\"\n",
      "    }\n",
      "  ], \n",
      "  \"job_type\": \"full-time\", \n",
      "  \"updated_at\": \"2015-01-29T13:25:23Z\", \n",
      "  \"remote_ok\": false, \n",
      "  \"salary_max\": 38000, \n",
      "  \"equity_min\": \"0.001\", \n",
      "  \"equity_cliff\": \"1.0\", \n",
      "  \"equity_max\": \"0.002\", \n",
      "  \"id\": 51171, \n",
      "  \"currency_code\": \"USD\"\n",
      "}\n",
      "<type 'dict'>\n"
     ]
    }
   ],
   "source": [
    "import json\n",
    "job = json.loads(r.text)\n",
    "print(json.dumps(job, indent=2))\n",
    "print type(job)"
   ]
  },
  {
   "cell_type": "markdown",
   "metadata": {},
   "source": [
    "## Dictionaries in Python"
   ]
  },
  {
   "cell_type": "markdown",
   "metadata": {},
   "source": [
    "JSON is basically composed of dictionaries, i.e. maps of keys (strings) to values. And the values associated can be another dictionary. For example, in the above JSON, key \"title\" has as value an string, but key \"startup\" is associated to another dictionary with several key-value pairs describing the startup posting the job."
   ]
  },
  {
   "cell_type": "markdown",
   "metadata": {},
   "source": [
    "Python has a dictionary type that is very similar to JSON structures."
   ]
  },
  {
   "cell_type": "code",
   "execution_count": 15,
   "metadata": {
    "collapsed": false
   },
   "outputs": [
    {
     "name": "stdout",
     "output_type": "stream",
     "text": [
      "full-time\n",
      "3\n"
     ]
    }
   ],
   "source": [
    "myoffer = {\"title\": \"Data scientist\", \"job_type\": \"full-time\"}\n",
    "print myoffer[\"job_type\"]\n",
    "myoffer[\"salary_max\"] = 200000\n",
    "print len(myoffer)"
   ]
  },
  {
   "cell_type": "markdown",
   "metadata": {},
   "source": [
    "## Converting a JSON document to a Dictionary"
   ]
  },
  {
   "cell_type": "markdown",
   "metadata": {},
   "source": [
    "The <code>json.loads</code> converts JSON documents into Python data types using the following conventions:\n",
    "    https://docs.python.org/3/library/json.html#json.loads"
   ]
  },
  {
   "cell_type": "markdown",
   "metadata": {},
   "source": [
    "The single job above is a JSON object, so that it is directly converted to a dict."
   ]
  },
  {
   "cell_type": "code",
   "execution_count": 16,
   "metadata": {
    "collapsed": false
   },
   "outputs": [
    {
     "data": {
      "text/plain": [
       "[{u'angellist_url': u'https://angel.co/data-analysis',\n",
       "  u'display_name': u'Data Analysis',\n",
       "  u'id': 15731,\n",
       "  u'name': u'data analysis',\n",
       "  u'tag_type': u'SkillTag'},\n",
       " {u'angellist_url': u'https://angel.co/financial-modeling',\n",
       "  u'display_name': u'Financial Modeling',\n",
       "  u'id': 26875,\n",
       "  u'name': u'financial modeling',\n",
       "  u'tag_type': u'SkillTag'},\n",
       " {u'angellist_url': u'https://angel.co/financial-analysis',\n",
       "  u'display_name': u'Financial Analysis',\n",
       "  u'id': 29625,\n",
       "  u'name': u'financial analysis',\n",
       "  u'tag_type': u'SkillTag'},\n",
       " {u'angellist_url': u'https://angel.co/excel',\n",
       "  u'display_name': u'Excel',\n",
       "  u'id': 61036,\n",
       "  u'name': u'excel',\n",
       "  u'tag_type': u'SkillTag'},\n",
       " {u'angellist_url': u'https://angel.co/athens-ga',\n",
       "  u'display_name': u'Athens, GA',\n",
       "  u'id': 109037,\n",
       "  u'name': u'athens, ga',\n",
       "  u'tag_type': u'LocationTag'},\n",
       " {u'angellist_url': u'https://angel.co/devops-3',\n",
       "  u'display_name': u'DevOps',\n",
       "  u'id': 150979,\n",
       "  u'name': u'devops',\n",
       "  u'tag_type': u'RoleTag'}]"
      ]
     },
     "execution_count": 16,
     "metadata": {},
     "output_type": "execute_result"
    }
   ],
   "source": [
    "job[\"tags\"]"
   ]
  },
  {
   "cell_type": "markdown",
   "metadata": {},
   "source": [
    "Let's now work with a page of job results:"
   ]
  },
  {
   "cell_type": "code",
   "execution_count": 21,
   "metadata": {
    "collapsed": false
   },
   "outputs": [
    {
     "name": "stdout",
     "output_type": "stream",
     "text": [
      "<type 'dict'>\n",
      "<type 'list'>\n",
      "[u'per_page', u'last_page', u'total', u'jobs', u'page']\n",
      "50\n",
      "21603\n",
      "433\n"
     ]
    }
   ],
   "source": [
    "r = rq.get('https://api.angel.co/1/jobs?access_token=ff0c51459704ba520fefe32bd86ba86b6d837ae6f5d4d93c')\n",
    "jobs = json.loads(r.text)\n",
    "# print(json.dumps(job, indent=2))\n",
    "print type(jobs)\n",
    "print type(jobs[\"jobs\"])\n",
    "print jobs.keys()\n",
    "print jobs[\"per_page\"]\n",
    "print jobs[\"total\"]\n",
    "print jobs[\"last_page\"]"
   ]
  },
  {
   "cell_type": "markdown",
   "metadata": {},
   "source": [
    "The <code>per_page</code>, <code>last_page</code>, <code>total</code> and <code>page</code> allows us to retrieve all the job offerings using severall GET calls."
   ]
  },
  {
   "cell_type": "markdown",
   "metadata": {},
   "source": [
    "## Transforming data into DataFrames"
   ]
  },
  {
   "cell_type": "markdown",
   "metadata": {},
   "source": [
    "We can build data frames from JSON data by first creating the columns (Series) and then populating one row per JSON fragment that is retrieved."
   ]
  },
  {
   "cell_type": "code",
   "execution_count": 22,
   "metadata": {
    "collapsed": false
   },
   "outputs": [
    {
     "name": "stdout",
     "output_type": "stream",
     "text": [
      "<type 'numpy.float64'>\n",
      "<type 'numpy.float64'>\n"
     ]
    },
    {
     "data": {
      "text/html": [
       "<div style=\"max-height:1000px;max-width:1500px;overflow:auto;\">\n",
       "<table border=\"1\" class=\"dataframe\">\n",
       "  <thead>\n",
       "    <tr style=\"text-align: right;\">\n",
       "      <th></th>\n",
       "      <th>Name</th>\n",
       "      <th>Type</th>\n",
       "      <th>MaxSalary</th>\n",
       "      <th>MinSalary</th>\n",
       "      <th>Currency</th>\n",
       "      <th>MaxEquity</th>\n",
       "    </tr>\n",
       "  </thead>\n",
       "  <tbody>\n",
       "    <tr>\n",
       "      <th>65312</th>\n",
       "      <td>               WEPUL</td>\n",
       "      <td>  full-time</td>\n",
       "      <td>   60000</td>\n",
       "      <td>   40000</td>\n",
       "      <td> GBP</td>\n",
       "      <td>  0.0</td>\n",
       "    </tr>\n",
       "    <tr>\n",
       "      <th>65311</th>\n",
       "      <td>                Box8</td>\n",
       "      <td>  full-time</td>\n",
       "      <td> 3000000</td>\n",
       "      <td> 1000000</td>\n",
       "      <td> INR</td>\n",
       "      <td>  0.0</td>\n",
       "    </tr>\n",
       "    <tr>\n",
       "      <th>65310</th>\n",
       "      <td>  Graduate The Globe</td>\n",
       "      <td>  cofounder</td>\n",
       "      <td>       0</td>\n",
       "      <td>       0</td>\n",
       "      <td> USD</td>\n",
       "      <td> 20.0</td>\n",
       "    </tr>\n",
       "    <tr>\n",
       "      <th>65309</th>\n",
       "      <td>              Finerd</td>\n",
       "      <td> internship</td>\n",
       "      <td>       0</td>\n",
       "      <td>       0</td>\n",
       "      <td> USD</td>\n",
       "      <td>  0.0</td>\n",
       "    </tr>\n",
       "    <tr>\n",
       "      <th>65308</th>\n",
       "      <td>              Finerd</td>\n",
       "      <td> internship</td>\n",
       "      <td>       0</td>\n",
       "      <td>       0</td>\n",
       "      <td> USD</td>\n",
       "      <td>  0.0</td>\n",
       "    </tr>\n",
       "    <tr>\n",
       "      <th>65307</th>\n",
       "      <td>                Box8</td>\n",
       "      <td>  full-time</td>\n",
       "      <td>  300000</td>\n",
       "      <td> 1000000</td>\n",
       "      <td> INR</td>\n",
       "      <td>  0.0</td>\n",
       "    </tr>\n",
       "    <tr>\n",
       "      <th>65306</th>\n",
       "      <td>            Acomodeo</td>\n",
       "      <td>  full-time</td>\n",
       "      <td>    5000</td>\n",
       "      <td>    5000</td>\n",
       "      <td> EUR</td>\n",
       "      <td>  0.0</td>\n",
       "    </tr>\n",
       "    <tr>\n",
       "      <th>65305</th>\n",
       "      <td>              Monefy</td>\n",
       "      <td>  cofounder</td>\n",
       "      <td>     NaN</td>\n",
       "      <td>     NaN</td>\n",
       "      <td> USD</td>\n",
       "      <td>  2.0</td>\n",
       "    </tr>\n",
       "    <tr>\n",
       "      <th>65304</th>\n",
       "      <td>                TACS</td>\n",
       "      <td>   contract</td>\n",
       "      <td>   20000</td>\n",
       "      <td>   15000</td>\n",
       "      <td> USD</td>\n",
       "      <td>  0.0</td>\n",
       "    </tr>\n",
       "    <tr>\n",
       "      <th>65303</th>\n",
       "      <td> Omnisphyr Mobiquity</td>\n",
       "      <td>  full-time</td>\n",
       "      <td> 1200000</td>\n",
       "      <td>  300000</td>\n",
       "      <td> INR</td>\n",
       "      <td>  0.5</td>\n",
       "    </tr>\n",
       "  </tbody>\n",
       "</table>\n",
       "</div>"
      ],
      "text/plain": [
       "                      Name        Type  MaxSalary  MinSalary Currency  \\\n",
       "65312                WEPUL   full-time      60000      40000      GBP   \n",
       "65311                 Box8   full-time    3000000    1000000      INR   \n",
       "65310   Graduate The Globe   cofounder          0          0      USD   \n",
       "65309               Finerd  internship          0          0      USD   \n",
       "65308               Finerd  internship          0          0      USD   \n",
       "65307                 Box8   full-time     300000    1000000      INR   \n",
       "65306             Acomodeo   full-time       5000       5000      EUR   \n",
       "65305               Monefy   cofounder        NaN        NaN      USD   \n",
       "65304                 TACS    contract      20000      15000      USD   \n",
       "65303  Omnisphyr Mobiquity   full-time    1200000     300000      INR   \n",
       "\n",
       "       MaxEquity  \n",
       "65312        0.0  \n",
       "65311        0.0  \n",
       "65310       20.0  \n",
       "65309        0.0  \n",
       "65308        0.0  \n",
       "65307        0.0  \n",
       "65306        0.0  \n",
       "65305        2.0  \n",
       "65304        0.0  \n",
       "65303        0.5  "
      ]
     },
     "execution_count": 22,
     "metadata": {},
     "output_type": "execute_result"
    }
   ],
   "source": [
    "import pandas as pd\n",
    "\n",
    "jobsframe = pd.DataFrame(columns=[\"Name\", \"Type\", \"MaxSalary\", \"MinSalary\", \"Currency\", \"MaxEquity\"])\n",
    "\n",
    "\n",
    "def add_row(df, joboffer):\n",
    "    name = joboffer[\"startup\"][\"name\"]\n",
    "    typ = joboffer[\"job_type\"]\n",
    "    ms = joboffer[\"salary_max\"]\n",
    "    mis = joboffer[\"salary_min\"]\n",
    "    c = joboffer[\"currency_code\"]\n",
    "    me = joboffer[\"equity_max\"]\n",
    "    if me == None:\n",
    "        me = 0\n",
    "    else:\n",
    "        me = float(me)\n",
    "    df.loc[joboffer[\"id\"]] = [name, typ, ms, mis, c, me]\n",
    "    \n",
    "for row in jobs[\"jobs\"]:\n",
    "    add_row(jobsframe, row)\n",
    "\n",
    "print type(jobsframe[\"MaxEquity\"][65312])\n",
    "print type(jobsframe[\"MaxSalary\"][65312])\n",
    "\n",
    "\n",
    "jobsframe.head(10)    \n"
   ]
  },
  {
   "cell_type": "code",
   "execution_count": 23,
   "metadata": {
    "collapsed": false
   },
   "outputs": [
    {
     "name": "stdout",
     "output_type": "stream",
     "text": [
      "50\n"
     ]
    }
   ],
   "source": [
    "print len(jobsframe)"
   ]
  },
  {
   "cell_type": "code",
   "execution_count": 24,
   "metadata": {
    "collapsed": false
   },
   "outputs": [
    {
     "name": "stdout",
     "output_type": "stream",
     "text": [
      "41\n"
     ]
    }
   ],
   "source": [
    "print len(jobsframe[jobsframe[\"MaxSalary\"] !=0])"
   ]
  },
  {
   "cell_type": "code",
   "execution_count": null,
   "metadata": {
    "collapsed": false
   },
   "outputs": [],
   "source": []
  }
 ],
 "metadata": {
  "kernelspec": {
   "display_name": "Python 2",
   "language": "python",
   "name": "python2"
  },
  "language_info": {
   "codemirror_mode": {
    "name": "ipython",
    "version": 2
   },
   "file_extension": ".py",
   "mimetype": "text/x-python",
   "name": "python",
   "nbconvert_exporter": "python",
   "pygments_lexer": "ipython2",
   "version": "2.7.9"
  }
 },
 "nbformat": 4,
 "nbformat_minor": 0
}
