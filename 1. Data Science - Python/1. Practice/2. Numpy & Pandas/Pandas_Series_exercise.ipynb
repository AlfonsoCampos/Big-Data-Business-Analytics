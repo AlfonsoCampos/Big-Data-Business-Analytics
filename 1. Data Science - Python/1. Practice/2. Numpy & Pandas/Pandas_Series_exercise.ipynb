{
 "metadata": {
  "name": "",
  "signature": "sha256:22105fc1a6d3833ee1667d39fb0121262165e41bd069ca5dbe54cf7fafa475fd"
 },
 "nbformat": 3,
 "nbformat_minor": 0,
 "worksheets": [
  {
   "cells": [
    {
     "cell_type": "heading",
     "level": 1,
     "metadata": {},
     "source": [
      "Using pandas Series"
     ]
    },
    {
     "cell_type": "markdown",
     "metadata": {},
     "source": [
      "A Series is a 1D object containing an array of any NumPy data type. The key difference is that a Series object has an associated array of data labels, called the **index**.\n",
      "\n",
      "If we do not specify the index, numerical indexes are used like for NumPy arrays."
     ]
    },
    {
     "cell_type": "code",
     "collapsed": false,
     "input": [
      "import numpy as np\n",
      "import pandas as pd\n",
      "\n",
      "# Create the array\n",
      "array = np.random.randint(1, 100, 10)\n",
      "print array\n",
      "print type(array)\n",
      "\n",
      "\n",
      "# Create Series from array\n",
      "series = pd.Series(array)\n",
      "print series\n",
      "print type(series)\n",
      "print type(series.values)\n",
      "# Observe that the printing is different!"
     ],
     "language": "python",
     "metadata": {},
     "outputs": [
      {
       "output_type": "stream",
       "stream": "stdout",
       "text": [
        "[45 77 16 31 34  1 26 67 88  4]\n",
        "<type 'numpy.ndarray'>\n",
        "0    45\n",
        "1    77\n",
        "2    16\n",
        "3    31\n",
        "4    34\n",
        "5     1\n",
        "6    26\n",
        "7    67\n",
        "8    88\n",
        "9     4\n",
        "dtype: int64\n",
        "<class 'pandas.core.series.Series'>\n",
        "<type 'numpy.ndarray'>\n"
       ]
      }
     ],
     "prompt_number": 1
    },
    {
     "cell_type": "heading",
     "level": 2,
     "metadata": {},
     "source": [
      "Indexes in series"
     ]
    },
    {
     "cell_type": "markdown",
     "metadata": {},
     "source": [
      "The index is a different array, and it can be changed! (or you can provide it when you create the series)"
     ]
    },
    {
     "cell_type": "code",
     "collapsed": false,
     "input": [
      "print(series.index)\n",
      "print type(series.index)\n",
      "\n",
      "# Change the index:\n",
      "series.index=[list(\"abcdefghij\")]\n",
      "print series"
     ],
     "language": "python",
     "metadata": {},
     "outputs": [
      {
       "output_type": "stream",
       "stream": "stdout",
       "text": [
        "Int64Index([0, 1, 2, 3, 4, 5, 6, 7, 8, 9], dtype='int64')\n",
        "<class 'pandas.core.index.Int64Index'>\n",
        "a    45\n",
        "b    77\n",
        "c    16\n",
        "d    31\n",
        "e    34\n",
        "f     1\n",
        "g    26\n",
        "h    67\n",
        "i    88\n",
        "j     4\n",
        "dtype: int64\n"
       ]
      }
     ],
     "prompt_number": 2
    },
    {
     "cell_type": "markdown",
     "metadata": {},
     "source": [
      "**Reflection:** then a Series can be thought of as a **ordered** dictionary with fixed keys. Actually, it behaves as a Python dict in some situations, and you can create series from Python dicts."
     ]
    },
    {
     "cell_type": "code",
     "collapsed": false,
     "input": [
      "print \"a\" in series\n",
      "print \"x\" in series\n",
      "print series[\"c\"]"
     ],
     "language": "python",
     "metadata": {},
     "outputs": [
      {
       "output_type": "stream",
       "stream": "stdout",
       "text": [
        "True\n",
        "False\n",
        "16\n"
       ]
      }
     ],
     "prompt_number": 3
    },
    {
     "cell_type": "markdown",
     "metadata": {},
     "source": [
      "You can select using values in the index"
     ]
    },
    {
     "cell_type": "code",
     "collapsed": false,
     "input": [
      "series[[\"a\",\"c\",\"f\"]]"
     ],
     "language": "python",
     "metadata": {},
     "outputs": [
      {
       "metadata": {},
       "output_type": "pyout",
       "prompt_number": 4,
       "text": [
        "a    45\n",
        "c    16\n",
        "f     1\n",
        "dtype: int64"
       ]
      }
     ],
     "prompt_number": 4
    },
    {
     "cell_type": "heading",
     "level": 2,
     "metadata": {},
     "source": [
      "Series use indexes in a smart way"
     ]
    },
    {
     "cell_type": "markdown",
     "metadata": {},
     "source": [
      "Let's create two series with different indexes."
     ]
    },
    {
     "cell_type": "code",
     "collapsed": false,
     "input": [
      "sales1Q = pd.Series(np.random.randint(20,100, 4), \n",
      "                    index=[\"Europe\", \"USA\", \"LATAM\", \"Asia\"])\n",
      "sales1Q.index.name = \"regions\"\n",
      "print sales1Q\n",
      "\n",
      "print \"--------\"\n",
      "\n",
      "sales2Q = pd.Series(np.random.randint(20,100, 3), \n",
      "                    index=[\"Europe\", \"USA\", \"Asia\"])\n",
      "print sales2Q"
     ],
     "language": "python",
     "metadata": {},
     "outputs": [
      {
       "output_type": "stream",
       "stream": "stdout",
       "text": [
        "regions\n",
        "Europe     20\n",
        "USA        83\n",
        "LATAM      95\n",
        "Asia       66\n",
        "dtype: int64\n",
        "--------\n",
        "Europe    26\n",
        "USA       87\n",
        "Asia      86\n",
        "dtype: int64\n"
       ]
      }
     ],
     "prompt_number": 6
    },
    {
     "cell_type": "markdown",
     "metadata": {},
     "source": [
      "Now let's try to combine them."
     ]
    },
    {
     "cell_type": "code",
     "collapsed": false,
     "input": [
      "sales1Q + sales2Q"
     ],
     "language": "python",
     "metadata": {},
     "outputs": [
      {
       "metadata": {},
       "output_type": "pyout",
       "prompt_number": 7,
       "text": [
        "Asia      152\n",
        "Europe     46\n",
        "LATAM     NaN\n",
        "USA       170\n",
        "dtype: float64"
       ]
      }
     ],
     "prompt_number": 7
    },
    {
     "cell_type": "markdown",
     "metadata": {},
     "source": [
      "It took the labels at the indexes to add the values.\n",
      "But the problem is that \"LATAM\" was not in the second index, and then it was assumed it had no value, resulting in a NaN. We must care of missing values and replace them accordingly or remove the corresponding data depending on our data."
     ]
    },
    {
     "cell_type": "code",
     "collapsed": false,
     "input": [
      "sales1Q.add(sales2Q, fill_value=0)"
     ],
     "language": "python",
     "metadata": {},
     "outputs": [
      {
       "metadata": {},
       "output_type": "pyout",
       "prompt_number": 8,
       "text": [
        "Asia      152\n",
        "Europe     46\n",
        "LATAM      95\n",
        "USA       170\n",
        "dtype: float64"
       ]
      }
     ],
     "prompt_number": 8
    },
    {
     "cell_type": "heading",
     "level": 2,
     "metadata": {},
     "source": [
      "Manipulating Series"
     ]
    },
    {
     "cell_type": "markdown",
     "metadata": {},
     "source": [
      "You can use dates to index a Series"
     ]
    },
    {
     "cell_type": "code",
     "collapsed": false,
     "input": [
      "dates = pd.date_range('20130125',periods=10)\n",
      "\n",
      "values = pd.Series(np.random.randint(1,10, 10),index=dates)\n",
      "\n",
      "values.tail(4)"
     ],
     "language": "python",
     "metadata": {},
     "outputs": [
      {
       "metadata": {},
       "output_type": "pyout",
       "prompt_number": 9,
       "text": [
        "2013-01-31    1\n",
        "2013-02-01    4\n",
        "2013-02-02    7\n",
        "2013-02-03    9\n",
        "Freq: D, dtype: int64"
       ]
      }
     ],
     "prompt_number": 9
    },
    {
     "cell_type": "code",
     "collapsed": false,
     "input": [
      "\n",
      "# We can select based on comparing the indexes\n",
      "from datetime import datetime\n",
      "end_january = datetime(2013, 01, 31)\n",
      "february = values[values.index > end_january]\n",
      "print february\n",
      "\n",
      "print \"-------\"\n",
      "\n",
      "# And also comparing the values\n",
      "higher_than_five = values[values >5]\n",
      "print higher_than_five"
     ],
     "language": "python",
     "metadata": {},
     "outputs": [
      {
       "output_type": "stream",
       "stream": "stdout",
       "text": [
        "2013-02-01    4\n",
        "2013-02-02    7\n",
        "2013-02-03    9\n",
        "Freq: D, dtype: int64\n",
        "-------\n",
        "2013-01-25    9\n",
        "2013-01-26    8\n",
        "2013-01-29    8\n",
        "2013-01-30    9\n",
        "2013-02-02    7\n",
        "2013-02-03    9\n",
        "dtype: int64\n"
       ]
      }
     ],
     "prompt_number": 10
    },
    {
     "cell_type": "markdown",
     "metadata": {},
     "source": [
      "And there are a number of statistical functions on series also."
     ]
    },
    {
     "cell_type": "code",
     "collapsed": false,
     "input": [
      "s1 = pd.Series(np.random.randn(1000))\n",
      "\n",
      "s2 = pd.Series(np.random.randn(1000))\n",
      "\n",
      "print s1.corr(s2)\n",
      "print s1.cov(s2)\n"
     ],
     "language": "python",
     "metadata": {},
     "outputs": [
      {
       "output_type": "stream",
       "stream": "stdout",
       "text": [
        "0.0314924961171\n",
        "0.0327815337867\n"
       ]
      }
     ],
     "prompt_number": 11
    },
    {
     "cell_type": "code",
     "collapsed": false,
     "input": [
      "s1 = pd.Series(np.random.randn(1000))\n",
      "\n",
      "s2 = pd.Series(s1 + np.random.randn(1000)/10)\n",
      "\n",
      "print s1.corr(s2)\n",
      "print s1.cov(s2)"
     ],
     "language": "python",
     "metadata": {},
     "outputs": [
      {
       "output_type": "stream",
       "stream": "stdout",
       "text": [
        "0.99467852706\n",
        "0.986830980073\n"
       ]
      }
     ],
     "prompt_number": 12
    },
    {
     "cell_type": "markdown",
     "metadata": {},
     "source": [
      "More on statistical functions: http://pandas.pydata.org/pandas-docs/dev/computation.html"
     ]
    },
    {
     "cell_type": "code",
     "collapsed": false,
     "input": [
      "# compute one-way ANOVA P value   \n",
      "from scipy import stats  \n",
      "\n",
      "s1 = pd.Series(np.random.randn(1000))\n",
      "\n",
      "#s2 = pd.Series(np.random.randn(1000))\n",
      "\n",
      "s2 = pd.Series(np.random.gamma(0.2 ,0.3, 1000))\n",
      "\n",
      "f_val, p_val = stats.f_oneway(s1, s2)  \n",
      "      \n",
      "print \"One-way ANOVA P =\", p_val  \n",
      "       "
     ],
     "language": "python",
     "metadata": {},
     "outputs": [
      {
       "output_type": "stream",
       "stream": "stdout",
       "text": [
        "One-way ANOVA P = 0.712182522061\n"
       ]
      }
     ],
     "prompt_number": 13
    },
    {
     "cell_type": "markdown",
     "metadata": {},
     "source": [
      "If P > 0.05, we can claim with high confidence that the means of the results of the two experiments are not significantly different."
     ]
    },
    {
     "cell_type": "code",
     "collapsed": false,
     "input": [
      "from scipy.stats import ttest_1samp\n",
      "t, p = ttest_1samp(s1, 0)\n",
      "# If p is large, we can accept that the population has the mean indicated.\n",
      "print p"
     ],
     "language": "python",
     "metadata": {},
     "outputs": [
      {
       "output_type": "stream",
       "stream": "stdout",
       "text": [
        "0.161300986016\n"
       ]
      }
     ],
     "prompt_number": 14
    },
    {
     "cell_type": "heading",
     "level": 2,
     "metadata": {},
     "source": [
      "Statmodels"
     ]
    },
    {
     "cell_type": "markdown",
     "metadata": {},
     "source": [
      "More info at: http://statsmodels.sourceforge.net/documentation.html"
     ]
    },
    {
     "cell_type": "code",
     "collapsed": false,
     "input": [
      "import statsmodels.formula.api as smf\n",
      "import statsmodels.api as sm\n",
      "df = sm.datasets.get_rdataset(\"Guerry\", \"HistData\").data\n",
      "df = df[['Lottery', 'Literacy', 'Wealth', 'Region']].dropna()\n",
      "df.head()\n"
     ],
     "language": "python",
     "metadata": {},
     "outputs": [
      {
       "html": [
        "<div style=\"max-height:1000px;max-width:1500px;overflow:auto;\">\n",
        "<table border=\"1\" class=\"dataframe\">\n",
        "  <thead>\n",
        "    <tr style=\"text-align: right;\">\n",
        "      <th></th>\n",
        "      <th>Lottery</th>\n",
        "      <th>Literacy</th>\n",
        "      <th>Wealth</th>\n",
        "      <th>Region</th>\n",
        "    </tr>\n",
        "  </thead>\n",
        "  <tbody>\n",
        "    <tr>\n",
        "      <th>0</th>\n",
        "      <td> 41</td>\n",
        "      <td> 37</td>\n",
        "      <td> 73</td>\n",
        "      <td> E</td>\n",
        "    </tr>\n",
        "    <tr>\n",
        "      <th>1</th>\n",
        "      <td> 38</td>\n",
        "      <td> 51</td>\n",
        "      <td> 22</td>\n",
        "      <td> N</td>\n",
        "    </tr>\n",
        "    <tr>\n",
        "      <th>2</th>\n",
        "      <td> 66</td>\n",
        "      <td> 13</td>\n",
        "      <td> 61</td>\n",
        "      <td> C</td>\n",
        "    </tr>\n",
        "    <tr>\n",
        "      <th>3</th>\n",
        "      <td> 80</td>\n",
        "      <td> 46</td>\n",
        "      <td> 76</td>\n",
        "      <td> E</td>\n",
        "    </tr>\n",
        "    <tr>\n",
        "      <th>4</th>\n",
        "      <td> 79</td>\n",
        "      <td> 69</td>\n",
        "      <td> 83</td>\n",
        "      <td> E</td>\n",
        "    </tr>\n",
        "  </tbody>\n",
        "</table>\n",
        "</div>"
       ],
       "metadata": {},
       "output_type": "pyout",
       "prompt_number": 110,
       "text": [
        "   Lottery  Literacy  Wealth Region\n",
        "0       41        37      73      E\n",
        "1       38        51      22      N\n",
        "2       66        13      61      C\n",
        "3       80        46      76      E\n",
        "4       79        69      83      E"
       ]
      }
     ],
     "prompt_number": 110
    },
    {
     "cell_type": "code",
     "collapsed": false,
     "input": [
      "mod = smf.ols(formula='Lottery ~ Literacy + Wealth', data=df)\n",
      "res = mod.fit()\n",
      "print res.summary()"
     ],
     "language": "python",
     "metadata": {},
     "outputs": [
      {
       "output_type": "stream",
       "stream": "stdout",
       "text": [
        "                            OLS Regression Results                            \n",
        "==============================================================================\n",
        "Dep. Variable:                Lottery   R-squared:                       0.309\n",
        "Model:                            OLS   Adj. R-squared:                  0.292\n",
        "Method:                 Least Squares   F-statistic:                     18.32\n",
        "Date:                Wed, 19 Nov 2014   Prob (F-statistic):           2.66e-07\n",
        "Time:                        06:34:31   Log-Likelihood:                -377.13\n",
        "No. Observations:                  85   AIC:                             760.3\n",
        "Df Residuals:                      82   BIC:                             767.6\n",
        "Df Model:                           2                                         \n",
        "==============================================================================\n",
        "                 coef    std err          t      P>|t|      [95.0% Conf. Int.]\n",
        "------------------------------------------------------------------------------\n",
        "Intercept     39.7979      7.873      5.055      0.000        24.135    55.460\n",
        "Literacy      -0.3780      0.136     -2.790      0.007        -0.648    -0.108\n",
        "Wealth         0.4138      0.094      4.398      0.000         0.227     0.601\n",
        "==============================================================================\n",
        "Omnibus:                        4.586   Durbin-Watson:                   1.951\n",
        "Prob(Omnibus):                  0.101   Jarque-Bera (JB):                3.294\n",
        "Skew:                          -0.335   Prob(JB):                        0.193\n",
        "Kurtosis:                       2.307   Cond. No.                         215.\n",
        "==============================================================================\n"
       ]
      }
     ],
     "prompt_number": 111
    },
    {
     "cell_type": "code",
     "collapsed": false,
     "input": [],
     "language": "python",
     "metadata": {},
     "outputs": []
    }
   ],
   "metadata": {}
  }
 ]
}