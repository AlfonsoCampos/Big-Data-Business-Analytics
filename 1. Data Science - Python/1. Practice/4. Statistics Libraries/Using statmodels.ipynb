{
 "cells": [
  {
   "cell_type": "markdown",
   "metadata": {},
   "source": [
    "# Using statmodels"
   ]
  },
  {
   "cell_type": "markdown",
   "metadata": {},
   "source": [
    "<a href=\"http://statsmodels.sourceforge.net/\">Statmodels</a> is a library integrated with pandas that provides a framework for statistical analysis. The module <code>scipy.stats</code> provides also statistica analysis libraries."
   ]
  },
  {
   "cell_type": "markdown",
   "metadata": {},
   "source": [
    "Before starting, some imports..."
   ]
  },
  {
   "cell_type": "code",
   "execution_count": 1,
   "metadata": {
    "collapsed": false
   },
   "outputs": [],
   "source": [
    "# Overall imports \n",
    "import numpy as np\n",
    "import pandas as pd\n",
    "import matplotlib.pyplot as plt\n",
    "%matplotlib inline\n",
    "import scipy as scipy\n",
    "import statsmodels.api as sm # statmodels import convention"
   ]
  },
  {
   "cell_type": "markdown",
   "metadata": {},
   "source": [
    "## Overview of package structure"
   ]
  },
  {
   "cell_type": "markdown",
   "metadata": {},
   "source": [
    "Statsmodels organizes different models in different modules, e.g. <code>statsmodels.nonparametric</code>. You will need to import some of them for particular types of analysis. \n",
    "Some of the models are in <code>statmodels.formulas.api</code> also, that allows for using R-style <a href=\"https://patsy.readthedocs.org/en/v0.1.0/overview.html\">patsy formulas</a>.\n"
   ]
  },
  {
   "cell_type": "code",
   "execution_count": 2,
   "metadata": {
    "collapsed": false
   },
   "outputs": [
    {
     "data": {
      "text/plain": [
       "['GEE',\n",
       " 'GLM',\n",
       " 'GLS',\n",
       " 'GLSAR',\n",
       " 'Logit',\n",
       " 'MNLogit',\n",
       " 'MixedLM',\n",
       " 'NegativeBinomial',\n",
       " 'NominalGEE',\n",
       " 'OLS',\n",
       " 'OrdinalGEE',\n",
       " 'PHReg',\n",
       " 'Poisson',\n",
       " 'Probit',\n",
       " 'QuantReg',\n",
       " 'RLM',\n",
       " 'WLS',\n",
       " '__builtins__',\n",
       " '__doc__',\n",
       " '__file__',\n",
       " '__name__',\n",
       " '__package__',\n",
       " 'gee',\n",
       " 'glm',\n",
       " 'gls',\n",
       " 'glsar',\n",
       " 'logit',\n",
       " 'mixedlm',\n",
       " 'mnlogit',\n",
       " 'negativebinomial',\n",
       " 'nominal_gee',\n",
       " 'ols',\n",
       " 'ordinal_gee',\n",
       " 'phreg',\n",
       " 'poisson',\n",
       " 'probit',\n",
       " 'quantreg',\n",
       " 'rlm',\n",
       " 'wls']"
      ]
     },
     "execution_count": 2,
     "metadata": {},
     "output_type": "execute_result"
    }
   ],
   "source": [
    "import statsmodels.formula.api as smf\n",
    "dir(smf) # See the contents in the package. "
   ]
  },
  {
   "cell_type": "markdown",
   "metadata": {},
   "source": [
    "## Getting started: linear models"
   ]
  },
  {
   "cell_type": "code",
   "execution_count": 3,
   "metadata": {
    "collapsed": false
   },
   "outputs": [],
   "source": [
    "from statsmodels.formula.api import ols # ordinary least squares."
   ]
  },
  {
   "cell_type": "markdown",
   "metadata": {},
   "source": [
    "Example: Salary data\n",
    "* Output: S, salary of employees\n",
    "* Input:\n",
    "   * X, experience in years\n",
    "   * M, mangement experience (0/1, no/yes)\n",
    "   * E, educational level (1/2/3 = bachelor/master/phd)"
   ]
  },
  {
   "cell_type": "code",
   "execution_count": 4,
   "metadata": {
    "collapsed": false
   },
   "outputs": [
    {
     "data": {
      "text/html": [
       "<div style=\"max-height:1000px;max-width:1500px;overflow:auto;\">\n",
       "<table border=\"1\" class=\"dataframe\">\n",
       "  <thead>\n",
       "    <tr style=\"text-align: right;\">\n",
       "      <th></th>\n",
       "      <th>S</th>\n",
       "      <th>X</th>\n",
       "      <th>E</th>\n",
       "      <th>M</th>\n",
       "    </tr>\n",
       "  </thead>\n",
       "  <tbody>\n",
       "    <tr>\n",
       "      <th>0</th>\n",
       "      <td> 13876</td>\n",
       "      <td> 1</td>\n",
       "      <td> 1</td>\n",
       "      <td> 1</td>\n",
       "    </tr>\n",
       "    <tr>\n",
       "      <th>1</th>\n",
       "      <td> 11608</td>\n",
       "      <td> 1</td>\n",
       "      <td> 3</td>\n",
       "      <td> 0</td>\n",
       "    </tr>\n",
       "    <tr>\n",
       "      <th>2</th>\n",
       "      <td> 18701</td>\n",
       "      <td> 1</td>\n",
       "      <td> 3</td>\n",
       "      <td> 1</td>\n",
       "    </tr>\n",
       "  </tbody>\n",
       "</table>\n",
       "</div>"
      ],
      "text/plain": [
       "       S  X  E  M\n",
       "0  13876  1  1  1\n",
       "1  11608  1  3  0\n",
       "2  18701  1  3  1"
      ]
     },
     "execution_count": 4,
     "metadata": {},
     "output_type": "execute_result"
    }
   ],
   "source": [
    "# From Standford's Stats 191 course:\n",
    "url = \"http://web.stanford.edu/class/stats191/data/salary.table\"\n",
    "df = pd.read_table(url)\n",
    "df.head(3)"
   ]
  },
  {
   "cell_type": "markdown",
   "metadata": {},
   "source": [
    "We can check that it seems that people with management experience earn more."
   ]
  },
  {
   "cell_type": "code",
   "execution_count": 6,
   "metadata": {
    "collapsed": false
   },
   "outputs": [
    {
     "data": {
      "text/plain": [
       "M\n",
       "0    14285.307692\n",
       "1    21150.550000\n",
       "Name: S, dtype: float64"
      ]
     },
     "execution_count": 6,
     "metadata": {},
     "output_type": "execute_result"
    }
   ],
   "source": [
    "by_mng = df.groupby(\"M\")\n",
    "by_mng[\"S\"].mean()"
   ]
  },
  {
   "cell_type": "markdown",
   "metadata": {},
   "source": [
    "But the same happens with people with higher education levels, less clearly, as there seems not to be a clear difference for PhD."
   ]
  },
  {
   "cell_type": "code",
   "execution_count": 7,
   "metadata": {
    "collapsed": false
   },
   "outputs": [
    {
     "data": {
      "text/html": [
       "<div style=\"max-height:1000px;max-width:1500px;overflow:auto;\">\n",
       "<table border=\"1\" class=\"dataframe\">\n",
       "  <thead>\n",
       "    <tr style=\"text-align: right;\">\n",
       "      <th></th>\n",
       "      <th>S</th>\n",
       "      <th>X</th>\n",
       "      <th>M</th>\n",
       "    </tr>\n",
       "    <tr>\n",
       "      <th>E</th>\n",
       "      <th></th>\n",
       "      <th></th>\n",
       "      <th></th>\n",
       "    </tr>\n",
       "  </thead>\n",
       "  <tbody>\n",
       "    <tr>\n",
       "      <th>1</th>\n",
       "      <td> 14941.500000</td>\n",
       "      <td> 8.142857</td>\n",
       "      <td> 0.357143</td>\n",
       "    </tr>\n",
       "    <tr>\n",
       "      <th>2</th>\n",
       "      <td> 18286.368421</td>\n",
       "      <td> 8.368421</td>\n",
       "      <td> 0.368421</td>\n",
       "    </tr>\n",
       "    <tr>\n",
       "      <th>3</th>\n",
       "      <td> 18292.846154</td>\n",
       "      <td> 5.538462</td>\n",
       "      <td> 0.615385</td>\n",
       "    </tr>\n",
       "  </tbody>\n",
       "</table>\n",
       "</div>"
      ],
      "text/plain": [
       "              S         X         M\n",
       "E                                  \n",
       "1  14941.500000  8.142857  0.357143\n",
       "2  18286.368421  8.368421  0.368421\n",
       "3  18292.846154  5.538462  0.615385"
      ]
     },
     "execution_count": 7,
     "metadata": {},
     "output_type": "execute_result"
    }
   ],
   "source": [
    "df.groupby(\"E\").mean()"
   ]
  },
  {
   "cell_type": "markdown",
   "metadata": {},
   "source": [
    "These are only a couple of observations that we can get from exploring data. Now, let's try to find a linear model. "
   ]
  },
  {
   "cell_type": "code",
   "execution_count": 8,
   "metadata": {
    "collapsed": false
   },
   "outputs": [
    {
     "data": {
      "text/html": [
       "<table class=\"simpletable\">\n",
       "<caption>OLS Regression Results</caption>\n",
       "<tr>\n",
       "  <th>Dep. Variable:</th>            <td>S</td>        <th>  R-squared:         </th> <td>   0.957</td>\n",
       "</tr>\n",
       "<tr>\n",
       "  <th>Model:</th>                   <td>OLS</td>       <th>  Adj. R-squared:    </th> <td>   0.953</td>\n",
       "</tr>\n",
       "<tr>\n",
       "  <th>Method:</th>             <td>Least Squares</td>  <th>  F-statistic:       </th> <td>   226.8</td>\n",
       "</tr>\n",
       "<tr>\n",
       "  <th>Date:</th>             <td>Fri, 08 May 2015</td> <th>  Prob (F-statistic):</th> <td>2.23e-27</td>\n",
       "</tr>\n",
       "<tr>\n",
       "  <th>Time:</th>                 <td>15:26:59</td>     <th>  Log-Likelihood:    </th> <td> -381.63</td>\n",
       "</tr>\n",
       "<tr>\n",
       "  <th>No. Observations:</th>      <td>    46</td>      <th>  AIC:               </th> <td>   773.3</td>\n",
       "</tr>\n",
       "<tr>\n",
       "  <th>Df Residuals:</th>          <td>    41</td>      <th>  BIC:               </th> <td>   782.4</td>\n",
       "</tr>\n",
       "<tr>\n",
       "  <th>Df Model:</th>              <td>     4</td>      <th>                     </th>     <td> </td>   \n",
       "</tr>\n",
       "<tr>\n",
       "  <th>Covariance Type:</th>      <td>nonrobust</td>    <th>                     </th>     <td> </td>   \n",
       "</tr>\n",
       "</table>\n",
       "<table class=\"simpletable\">\n",
       "<tr>\n",
       "      <td></td>         <th>coef</th>     <th>std err</th>      <th>t</th>      <th>P>|t|</th> <th>[95.0% Conf. Int.]</th> \n",
       "</tr>\n",
       "<tr>\n",
       "  <th>Intercept</th> <td> 8035.5976</td> <td>  386.689</td> <td>   20.781</td> <td> 0.000</td> <td> 7254.663  8816.532</td>\n",
       "</tr>\n",
       "<tr>\n",
       "  <th>C(E)[T.2]</th> <td> 3144.0352</td> <td>  361.968</td> <td>    8.686</td> <td> 0.000</td> <td> 2413.025  3875.045</td>\n",
       "</tr>\n",
       "<tr>\n",
       "  <th>C(E)[T.3]</th> <td> 2996.2103</td> <td>  411.753</td> <td>    7.277</td> <td> 0.000</td> <td> 2164.659  3827.762</td>\n",
       "</tr>\n",
       "<tr>\n",
       "  <th>C(M)[T.1]</th> <td> 6883.5310</td> <td>  313.919</td> <td>   21.928</td> <td> 0.000</td> <td> 6249.559  7517.503</td>\n",
       "</tr>\n",
       "<tr>\n",
       "  <th>X</th>         <td>  546.1840</td> <td>   30.519</td> <td>   17.896</td> <td> 0.000</td> <td>  484.549   607.819</td>\n",
       "</tr>\n",
       "</table>\n",
       "<table class=\"simpletable\">\n",
       "<tr>\n",
       "  <th>Omnibus:</th>       <td> 2.293</td> <th>  Durbin-Watson:     </th> <td>   2.237</td>\n",
       "</tr>\n",
       "<tr>\n",
       "  <th>Prob(Omnibus):</th> <td> 0.318</td> <th>  Jarque-Bera (JB):  </th> <td>   1.362</td>\n",
       "</tr>\n",
       "<tr>\n",
       "  <th>Skew:</th>          <td>-0.077</td> <th>  Prob(JB):          </th> <td>   0.506</td>\n",
       "</tr>\n",
       "<tr>\n",
       "  <th>Kurtosis:</th>      <td> 2.171</td> <th>  Cond. No.          </th> <td>    33.5</td>\n",
       "</tr>\n",
       "</table>"
      ],
      "text/plain": [
       "<class 'statsmodels.iolib.summary.Summary'>\n",
       "\"\"\"\n",
       "                            OLS Regression Results                            \n",
       "==============================================================================\n",
       "Dep. Variable:                      S   R-squared:                       0.957\n",
       "Model:                            OLS   Adj. R-squared:                  0.953\n",
       "Method:                 Least Squares   F-statistic:                     226.8\n",
       "Date:                Fri, 08 May 2015   Prob (F-statistic):           2.23e-27\n",
       "Time:                        15:26:59   Log-Likelihood:                -381.63\n",
       "No. Observations:                  46   AIC:                             773.3\n",
       "Df Residuals:                      41   BIC:                             782.4\n",
       "Df Model:                           4                                         \n",
       "Covariance Type:            nonrobust                                         \n",
       "==============================================================================\n",
       "                 coef    std err          t      P>|t|      [95.0% Conf. Int.]\n",
       "------------------------------------------------------------------------------\n",
       "Intercept   8035.5976    386.689     20.781      0.000      7254.663  8816.532\n",
       "C(E)[T.2]   3144.0352    361.968      8.686      0.000      2413.025  3875.045\n",
       "C(E)[T.3]   2996.2103    411.753      7.277      0.000      2164.659  3827.762\n",
       "C(M)[T.1]   6883.5310    313.919     21.928      0.000      6249.559  7517.503\n",
       "X            546.1840     30.519     17.896      0.000       484.549   607.819\n",
       "==============================================================================\n",
       "Omnibus:                        2.293   Durbin-Watson:                   2.237\n",
       "Prob(Omnibus):                  0.318   Jarque-Bera (JB):                1.362\n",
       "Skew:                          -0.077   Prob(JB):                        0.506\n",
       "Kurtosis:                       2.171   Cond. No.                         33.5\n",
       "==============================================================================\n",
       "\n",
       "Warnings:\n",
       "[1] Standard Errors assume that the covariance matrix of the errors is correctly specified.\n",
       "\"\"\""
      ]
     },
     "execution_count": 8,
     "metadata": {},
     "output_type": "execute_result"
    }
   ],
   "source": [
    "# This is patsy formula syntax.\n",
    "formula = \"S ~ C(E) + C(M) + X\"  # C(xx) means treat as categorical & create dummy variables.\n",
    "model = ols(formula, df).fit()\n",
    "model.summary()"
   ]
  },
  {
   "cell_type": "markdown",
   "metadata": {},
   "source": [
    "And now you can use the model as predictor."
   ]
  },
  {
   "cell_type": "code",
   "execution_count": 17,
   "metadata": {
    "collapsed": false
   },
   "outputs": [
    {
     "name": "stdout",
     "output_type": "stream",
     "text": [
      "[ 13910.55293412]\n"
     ]
    }
   ],
   "source": [
    "salary = model.predict({'X':[5], 'M':[0], 'E':[2]})\n",
    "print salary"
   ]
  },
  {
   "cell_type": "markdown",
   "metadata": {},
   "source": [
    "## Outlier detection"
   ]
  },
  {
   "cell_type": "code",
   "execution_count": 18,
   "metadata": {
    "collapsed": false
   },
   "outputs": [
    {
     "name": "stdout",
     "output_type": "stream",
     "text": [
      "46\n"
     ]
    },
    {
     "data": {
      "text/plain": [
       "student_resid    1.838014\n",
       "unadj_p          0.988292\n",
       "bonf(p)          1.000000\n",
       "dtype: float64"
      ]
     },
     "execution_count": 18,
     "metadata": {},
     "output_type": "execute_result"
    }
   ],
   "source": [
    "outliers = model.outlier_test()\n",
    "print len(outliers)\n",
    "outliers.sort(\"unadj_p\", inplace=True, ascending=False)\n",
    "outliers.max() # P-values are far from zero, so no outliers evident."
   ]
  },
  {
   "cell_type": "markdown",
   "metadata": {},
   "source": [
    "## Is the model good enough?"
   ]
  },
  {
   "cell_type": "markdown",
   "metadata": {},
   "source": [
    "If we check the residuals we get the following."
   ]
  },
  {
   "cell_type": "code",
   "execution_count": 11,
   "metadata": {
    "collapsed": false
   },
   "outputs": [
    {
     "data": {
      "text/plain": [
       "<matplotlib.collections.PathCollection at 0x10aa75890>"
      ]
     },
     "execution_count": 11,
     "metadata": {},
     "output_type": "execute_result"
    },
    {
     "data": {
      "image/png": "[encoded data removed]",
      "text/plain": [
       "<matplotlib.figure.Figure at 0x10a0887d0>"
      ]
     },
     "metadata": {},
     "output_type": "display_data"
    }
   ],
   "source": [
    "plt.scatter(df[\"S\"], model.resid)"
   ]
  },
  {
   "cell_type": "markdown",
   "metadata": {},
   "source": [
    "It seems residuals do not follow a completely random pattern, which suggests some model may provide a better fit."
   ]
  },
  {
   "cell_type": "markdown",
   "metadata": {},
   "source": [
    "Now we plot residuals by groups."
   ]
  },
  {
   "cell_type": "code",
   "execution_count": 12,
   "metadata": {
    "collapsed": false
   },
   "outputs": [
    {
     "name": "stdout",
     "output_type": "stream",
     "text": [
      "1 0\n",
      "1 1\n",
      "2 0\n",
      "2 1\n",
      "3 0\n",
      "3 1\n"
     ]
    },
    {
     "data": {
      "image/png": "[encoded data removed]",
      "text/plain": [
       "<matplotlib.figure.Figure at 0x10c24c750>"
      ]
     },
     "metadata": {},
     "output_type": "display_data"
    }
   ],
   "source": [
    "df[\"resid\"] = model.resid\n",
    "by_factor = df.groupby([\"E\", \"M\"])\n",
    "colors = ['r', 'g', 'b', 'm', 'y', 'k']\n",
    "i =0\n",
    "for values, group in by_factor:\n",
    "    e, m = values\n",
    "    print e,m\n",
    "    plt.scatter(group[\"S\"], group[\"resid\"], color = colors[i])\n",
    "    i+=1\n",
    "    "
   ]
  },
  {
   "cell_type": "markdown",
   "metadata": {},
   "source": [
    "## Testing interaction"
   ]
  },
  {
   "cell_type": "markdown",
   "metadata": {},
   "source": [
    "We can test interaction by creating a new model, then using ANOVA."
   ]
  },
  {
   "cell_type": "markdown",
   "metadata": {},
   "source": [
    "You can test there is an interarction between experience in years and level of education or for example, that there is an interaction between education level and management level. "
   ]
  },
  {
   "cell_type": "code",
   "execution_count": 13,
   "metadata": {
    "collapsed": false
   },
   "outputs": [
    {
     "data": {
      "text/html": [
       "<table class=\"simpletable\">\n",
       "<caption>OLS Regression Results</caption>\n",
       "<tr>\n",
       "  <th>Dep. Variable:</th>            <td>S</td>        <th>  R-squared:         </th> <td>   0.961</td>\n",
       "</tr>\n",
       "<tr>\n",
       "  <th>Model:</th>                   <td>OLS</td>       <th>  Adj. R-squared:    </th> <td>   0.955</td>\n",
       "</tr>\n",
       "<tr>\n",
       "  <th>Method:</th>             <td>Least Squares</td>  <th>  F-statistic:       </th> <td>   158.6</td>\n",
       "</tr>\n",
       "<tr>\n",
       "  <th>Date:</th>             <td>Fri, 08 May 2015</td> <th>  Prob (F-statistic):</th> <td>8.23e-26</td>\n",
       "</tr>\n",
       "<tr>\n",
       "  <th>Time:</th>                 <td>15:27:19</td>     <th>  Log-Likelihood:    </th> <td> -379.47</td>\n",
       "</tr>\n",
       "<tr>\n",
       "  <th>No. Observations:</th>      <td>    46</td>      <th>  AIC:               </th> <td>   772.9</td>\n",
       "</tr>\n",
       "<tr>\n",
       "  <th>Df Residuals:</th>          <td>    39</td>      <th>  BIC:               </th> <td>   785.7</td>\n",
       "</tr>\n",
       "<tr>\n",
       "  <th>Df Model:</th>              <td>     6</td>      <th>                     </th>     <td> </td>   \n",
       "</tr>\n",
       "<tr>\n",
       "  <th>Covariance Type:</th>      <td>nonrobust</td>    <th>                     </th>     <td> </td>   \n",
       "</tr>\n",
       "</table>\n",
       "<table class=\"simpletable\">\n",
       "<tr>\n",
       "       <td></td>          <th>coef</th>     <th>std err</th>      <th>t</th>      <th>P>|t|</th> <th>[95.0% Conf. Int.]</th> \n",
       "</tr>\n",
       "<tr>\n",
       "  <th>Intercept</th>   <td> 7256.2800</td> <td>  549.494</td> <td>   13.205</td> <td> 0.000</td> <td> 6144.824  8367.736</td>\n",
       "</tr>\n",
       "<tr>\n",
       "  <th>C(E)[T.2]</th>   <td> 4172.5045</td> <td>  674.966</td> <td>    6.182</td> <td> 0.000</td> <td> 2807.256  5537.753</td>\n",
       "</tr>\n",
       "<tr>\n",
       "  <th>C(E)[T.3]</th>   <td> 3946.3649</td> <td>  686.693</td> <td>    5.747</td> <td> 0.000</td> <td> 2557.396  5335.333</td>\n",
       "</tr>\n",
       "<tr>\n",
       "  <th>C(M)[T.1]</th>   <td> 7102.4539</td> <td>  333.442</td> <td>   21.300</td> <td> 0.000</td> <td> 6428.005  7776.903</td>\n",
       "</tr>\n",
       "<tr>\n",
       "  <th>X</th>           <td>  632.2878</td> <td>   53.185</td> <td>   11.888</td> <td> 0.000</td> <td>  524.710   739.865</td>\n",
       "</tr>\n",
       "<tr>\n",
       "  <th>C(E)[T.2]:X</th> <td> -125.5147</td> <td>   69.863</td> <td>   -1.797</td> <td> 0.080</td> <td> -266.826    15.796</td>\n",
       "</tr>\n",
       "<tr>\n",
       "  <th>C(E)[T.3]:X</th> <td> -141.2741</td> <td>   89.281</td> <td>   -1.582</td> <td> 0.122</td> <td> -321.861    39.313</td>\n",
       "</tr>\n",
       "</table>\n",
       "<table class=\"simpletable\">\n",
       "<tr>\n",
       "  <th>Omnibus:</th>       <td> 0.432</td> <th>  Durbin-Watson:     </th> <td>   2.179</td>\n",
       "</tr>\n",
       "<tr>\n",
       "  <th>Prob(Omnibus):</th> <td> 0.806</td> <th>  Jarque-Bera (JB):  </th> <td>   0.590</td>\n",
       "</tr>\n",
       "<tr>\n",
       "  <th>Skew:</th>          <td> 0.144</td> <th>  Prob(JB):          </th> <td>   0.744</td>\n",
       "</tr>\n",
       "<tr>\n",
       "  <th>Kurtosis:</th>      <td> 2.526</td> <th>  Cond. No.          </th> <td>    69.7</td>\n",
       "</tr>\n",
       "</table>"
      ],
      "text/plain": [
       "<class 'statsmodels.iolib.summary.Summary'>\n",
       "\"\"\"\n",
       "                            OLS Regression Results                            \n",
       "==============================================================================\n",
       "Dep. Variable:                      S   R-squared:                       0.961\n",
       "Model:                            OLS   Adj. R-squared:                  0.955\n",
       "Method:                 Least Squares   F-statistic:                     158.6\n",
       "Date:                Fri, 08 May 2015   Prob (F-statistic):           8.23e-26\n",
       "Time:                        15:27:19   Log-Likelihood:                -379.47\n",
       "No. Observations:                  46   AIC:                             772.9\n",
       "Df Residuals:                      39   BIC:                             785.7\n",
       "Df Model:                           6                                         \n",
       "Covariance Type:            nonrobust                                         \n",
       "===============================================================================\n",
       "                  coef    std err          t      P>|t|      [95.0% Conf. Int.]\n",
       "-------------------------------------------------------------------------------\n",
       "Intercept    7256.2800    549.494     13.205      0.000      6144.824  8367.736\n",
       "C(E)[T.2]    4172.5045    674.966      6.182      0.000      2807.256  5537.753\n",
       "C(E)[T.3]    3946.3649    686.693      5.747      0.000      2557.396  5335.333\n",
       "C(M)[T.1]    7102.4539    333.442     21.300      0.000      6428.005  7776.903\n",
       "X             632.2878     53.185     11.888      0.000       524.710   739.865\n",
       "C(E)[T.2]:X  -125.5147     69.863     -1.797      0.080      -266.826    15.796\n",
       "C(E)[T.3]:X  -141.2741     89.281     -1.582      0.122      -321.861    39.313\n",
       "==============================================================================\n",
       "Omnibus:                        0.432   Durbin-Watson:                   2.179\n",
       "Prob(Omnibus):                  0.806   Jarque-Bera (JB):                0.590\n",
       "Skew:                           0.144   Prob(JB):                        0.744\n",
       "Kurtosis:                       2.526   Cond. No.                         69.7\n",
       "==============================================================================\n",
       "\n",
       "Warnings:\n",
       "[1] Standard Errors assume that the covariance matrix of the errors is correctly specified.\n",
       "\"\"\""
      ]
     },
     "execution_count": 13,
     "metadata": {},
     "output_type": "execute_result"
    }
   ],
   "source": [
    "\n",
    "\n",
    "intermodel_1 = ols('S ~ C(E)*X + C(M)', df).fit()\n",
    "\n",
    "intermodel_2 = ols('S ~ X + C(E)*C(M)', df).fit()\n",
    "\n",
    "# Are the fit of the new terms of the regression significant? \n",
    "intermodel_1.summary()\n"
   ]
  },
  {
   "cell_type": "code",
   "execution_count": 14,
   "metadata": {
    "collapsed": false
   },
   "outputs": [
    {
     "data": {
      "text/html": [
       "<table class=\"simpletable\">\n",
       "<caption>OLS Regression Results</caption>\n",
       "<tr>\n",
       "  <th>Dep. Variable:</th>            <td>S</td>        <th>  R-squared:         </th> <td>   0.999</td>\n",
       "</tr>\n",
       "<tr>\n",
       "  <th>Model:</th>                   <td>OLS</td>       <th>  Adj. R-squared:    </th> <td>   0.999</td>\n",
       "</tr>\n",
       "<tr>\n",
       "  <th>Method:</th>             <td>Least Squares</td>  <th>  F-statistic:       </th> <td>   5517.</td>\n",
       "</tr>\n",
       "<tr>\n",
       "  <th>Date:</th>             <td>Fri, 08 May 2015</td> <th>  Prob (F-statistic):</th> <td>1.67e-55</td>\n",
       "</tr>\n",
       "<tr>\n",
       "  <th>Time:</th>                 <td>15:27:23</td>     <th>  Log-Likelihood:    </th> <td> -298.74</td>\n",
       "</tr>\n",
       "<tr>\n",
       "  <th>No. Observations:</th>      <td>    46</td>      <th>  AIC:               </th> <td>   611.5</td>\n",
       "</tr>\n",
       "<tr>\n",
       "  <th>Df Residuals:</th>          <td>    39</td>      <th>  BIC:               </th> <td>   624.3</td>\n",
       "</tr>\n",
       "<tr>\n",
       "  <th>Df Model:</th>              <td>     6</td>      <th>                     </th>     <td> </td>   \n",
       "</tr>\n",
       "<tr>\n",
       "  <th>Covariance Type:</th>      <td>nonrobust</td>    <th>                     </th>     <td> </td>   \n",
       "</tr>\n",
       "</table>\n",
       "<table class=\"simpletable\">\n",
       "<tr>\n",
       "           <td></td>              <th>coef</th>     <th>std err</th>      <th>t</th>      <th>P>|t|</th> <th>[95.0% Conf. Int.]</th> \n",
       "</tr>\n",
       "<tr>\n",
       "  <th>Intercept</th>           <td> 9472.6854</td> <td>   80.344</td> <td>  117.902</td> <td> 0.000</td> <td> 9310.175  9635.196</td>\n",
       "</tr>\n",
       "<tr>\n",
       "  <th>C(E)[T.2]</th>           <td> 1381.6706</td> <td>   77.319</td> <td>   17.870</td> <td> 0.000</td> <td> 1225.279  1538.063</td>\n",
       "</tr>\n",
       "<tr>\n",
       "  <th>C(E)[T.3]</th>           <td> 1730.7483</td> <td>  105.334</td> <td>   16.431</td> <td> 0.000</td> <td> 1517.690  1943.806</td>\n",
       "</tr>\n",
       "<tr>\n",
       "  <th>C(M)[T.1]</th>           <td> 3981.3769</td> <td>  101.175</td> <td>   39.351</td> <td> 0.000</td> <td> 3776.732  4186.022</td>\n",
       "</tr>\n",
       "<tr>\n",
       "  <th>C(E)[T.2]:C(M)[T.1]</th> <td> 4902.5231</td> <td>  131.359</td> <td>   37.322</td> <td> 0.000</td> <td> 4636.825  5168.222</td>\n",
       "</tr>\n",
       "<tr>\n",
       "  <th>C(E)[T.3]:C(M)[T.1]</th> <td> 3066.0351</td> <td>  149.330</td> <td>   20.532</td> <td> 0.000</td> <td> 2763.986  3368.084</td>\n",
       "</tr>\n",
       "<tr>\n",
       "  <th>X</th>                   <td>  496.9870</td> <td>    5.566</td> <td>   89.283</td> <td> 0.000</td> <td>  485.728   508.246</td>\n",
       "</tr>\n",
       "</table>\n",
       "<table class=\"simpletable\">\n",
       "<tr>\n",
       "  <th>Omnibus:</th>       <td>74.761</td> <th>  Durbin-Watson:     </th> <td>   2.244</td> \n",
       "</tr>\n",
       "<tr>\n",
       "  <th>Prob(Omnibus):</th> <td> 0.000</td> <th>  Jarque-Bera (JB):  </th> <td>1037.873</td> \n",
       "</tr>\n",
       "<tr>\n",
       "  <th>Skew:</th>          <td>-4.103</td> <th>  Prob(JB):          </th> <td>4.25e-226</td>\n",
       "</tr>\n",
       "<tr>\n",
       "  <th>Kurtosis:</th>      <td>24.776</td> <th>  Cond. No.          </th> <td>    79.0</td> \n",
       "</tr>\n",
       "</table>"
      ],
      "text/plain": [
       "<class 'statsmodels.iolib.summary.Summary'>\n",
       "\"\"\"\n",
       "                            OLS Regression Results                            \n",
       "==============================================================================\n",
       "Dep. Variable:                      S   R-squared:                       0.999\n",
       "Model:                            OLS   Adj. R-squared:                  0.999\n",
       "Method:                 Least Squares   F-statistic:                     5517.\n",
       "Date:                Fri, 08 May 2015   Prob (F-statistic):           1.67e-55\n",
       "Time:                        15:27:23   Log-Likelihood:                -298.74\n",
       "No. Observations:                  46   AIC:                             611.5\n",
       "Df Residuals:                      39   BIC:                             624.3\n",
       "Df Model:                           6                                         \n",
       "Covariance Type:            nonrobust                                         \n",
       "=======================================================================================\n",
       "                          coef    std err          t      P>|t|      [95.0% Conf. Int.]\n",
       "---------------------------------------------------------------------------------------\n",
       "Intercept            9472.6854     80.344    117.902      0.000      9310.175  9635.196\n",
       "C(E)[T.2]            1381.6706     77.319     17.870      0.000      1225.279  1538.063\n",
       "C(E)[T.3]            1730.7483    105.334     16.431      0.000      1517.690  1943.806\n",
       "C(M)[T.1]            3981.3769    101.175     39.351      0.000      3776.732  4186.022\n",
       "C(E)[T.2]:C(M)[T.1]  4902.5231    131.359     37.322      0.000      4636.825  5168.222\n",
       "C(E)[T.3]:C(M)[T.1]  3066.0351    149.330     20.532      0.000      2763.986  3368.084\n",
       "X                     496.9870      5.566     89.283      0.000       485.728   508.246\n",
       "==============================================================================\n",
       "Omnibus:                       74.761   Durbin-Watson:                   2.244\n",
       "Prob(Omnibus):                  0.000   Jarque-Bera (JB):             1037.873\n",
       "Skew:                          -4.103   Prob(JB):                    4.25e-226\n",
       "Kurtosis:                      24.776   Cond. No.                         79.0\n",
       "==============================================================================\n",
       "\n",
       "Warnings:\n",
       "[1] Standard Errors assume that the covariance matrix of the errors is correctly specified.\n",
       "\"\"\""
      ]
     },
     "execution_count": 14,
     "metadata": {},
     "output_type": "execute_result"
    }
   ],
   "source": [
    "# This seems to be a better fitted model:\n",
    "intermodel_2.summary()"
   ]
  },
  {
   "cell_type": "markdown",
   "metadata": {},
   "source": [
    "What does ANOVA say?"
   ]
  },
  {
   "cell_type": "code",
   "execution_count": 15,
   "metadata": {
    "collapsed": false
   },
   "outputs": [],
   "source": [
    "from statsmodels.stats.anova import anova_lm\n",
    "\n",
    "t1 = anova_lm(model, intermodel_1)\n",
    "\n",
    "t2 = anova_lm(model, intermodel_2)"
   ]
  },
  {
   "cell_type": "code",
   "execution_count": 20,
   "metadata": {
    "collapsed": false
   },
   "outputs": [],
   "source": [
    "anova_lm?"
   ]
  },
  {
   "cell_type": "code",
   "execution_count": 16,
   "metadata": {
    "collapsed": false
   },
   "outputs": [
    {
     "name": "stdout",
     "output_type": "stream",
     "text": [
      "   df_resid              ssr  df_diff         ss_diff         F    Pr(>F)\n",
      "0        41  43280719.492876        0             NaN       NaN       NaN\n",
      "1        39  39410679.807560        2  3870039.685316  1.914856  0.160964\n",
      "------\n",
      "   df_resid              ssr  df_diff          ss_diff           F  \\\n",
      "0        41  43280719.492876        0              NaN         NaN   \n",
      "1        39   1178167.864864        2  42102551.628012  696.844466   \n",
      "\n",
      "         Pr(>F)  \n",
      "0           NaN  \n",
      "1  3.025504e-31  \n"
     ]
    }
   ],
   "source": [
    "# High p-value, not significant differences with the original model:\n",
    "print t1\n",
    "print \"------\"\n",
    "# Low p-value, significant differences with the original model:\n",
    "print t2"
   ]
  },
  {
   "cell_type": "markdown",
   "metadata": {},
   "source": [
    "The difference between Master's and PhD in the management group is different than in the non-management group. This is an interaction between the two qualitative variables management,M and education,E."
   ]
  },
  {
   "cell_type": "markdown",
   "metadata": {},
   "source": [
    "## More on the example!"
   ]
  },
  {
   "cell_type": "markdown",
   "metadata": {},
   "source": [
    "Go to: http://web.stanford.edu/class/stats191/\n",
    "        \n",
    "And check the \"Interactions and qualitatitve variables\"."
   ]
  },
  {
   "cell_type": "code",
   "execution_count": 15,
   "metadata": {
    "collapsed": false
   },
   "outputs": [],
   "source": []
  }
 ],
 "metadata": {
  "kernelspec": {
   "display_name": "Python 2",
   "language": "python",
   "name": "python2"
  },
  "language_info": {
   "codemirror_mode": {
    "name": "ipython",
    "version": 2
   },
   "file_extension": ".py",
   "mimetype": "text/x-python",
   "name": "python",
   "nbconvert_exporter": "python",
   "pygments_lexer": "ipython2",
   "version": "2.7.9"
  }
 },
 "nbformat": 4,
 "nbformat_minor": 0
}
