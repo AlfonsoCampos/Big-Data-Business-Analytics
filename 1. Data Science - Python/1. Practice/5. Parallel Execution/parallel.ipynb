{
 "cells": [
  {
   "cell_type": "markdown",
   "metadata": {},
   "source": [
    "# Going parallel with IPython: the basics"
   ]
  },
  {
   "cell_type": "markdown",
   "metadata": {},
   "source": [
    "## Checking execution in a cluster"
   ]
  },
  {
   "cell_type": "markdown",
   "metadata": {},
   "source": [
    "We are dealing here with clusters of IPython engines in your same computer. The easiest way to start a cluster is going back to the Notebook main interface, click on \"Clusters\" tab, type 4 in \"# of engines\" field, then press start.\n",
    "If you execute the following code, you will see the ids of the four engines you have started up."
   ]
  },
  {
   "cell_type": "code",
   "execution_count": 1,
   "metadata": {
    "collapsed": false
   },
   "outputs": [
    {
     "data": {
      "text/plain": [
       "[0, 1, 2, 3]"
      ]
     },
     "execution_count": 1,
     "metadata": {},
     "output_type": "execute_result"
    }
   ],
   "source": [
    "from IPython import parallel\n",
    "rc = parallel.Client()\n",
    "rc.ids"
   ]
  },
  {
   "cell_type": "markdown",
   "metadata": {},
   "source": [
    "Now for a simple execution on the cluster we are going to use the following function."
   ]
  },
  {
   "cell_type": "code",
   "execution_count": 2,
   "metadata": {
    "collapsed": false
   },
   "outputs": [],
   "source": [
    "def longrun(n):\n",
    "    from random import randint\n",
    "    bignumber = 0\n",
    "    for i in range(n):\n",
    "       bignumber += randint(1,100)\n",
    "    return bignumber"
   ]
  },
  {
   "cell_type": "code",
   "execution_count": 3,
   "metadata": {
    "collapsed": false
   },
   "outputs": [
    {
     "name": "stdout",
     "output_type": "stream",
     "text": [
      "100 loops, best of 3: 11.6 ms per loop\n"
     ]
    }
   ],
   "source": [
    "%timeit longrun(10000)"
   ]
  },
  {
   "cell_type": "markdown",
   "metadata": {},
   "source": [
    "The code has been executed in the default engine, we can see its process id with the following."
   ]
  },
  {
   "cell_type": "code",
   "execution_count": 4,
   "metadata": {
    "collapsed": false
   },
   "outputs": [
    {
     "name": "stdout",
     "output_type": "stream",
     "text": [
      "1812\n"
     ]
    }
   ],
   "source": [
    "from os import getpid\n",
    "print getpid()"
   ]
  },
  {
   "cell_type": "markdown",
   "metadata": {},
   "source": [
    "Now it is time to use the cluster for executing the function. We have to use apply_sync to execute it synchronously."
   ]
  },
  {
   "cell_type": "code",
   "execution_count": 5,
   "metadata": {
    "collapsed": false
   },
   "outputs": [
    {
     "name": "stdout",
     "output_type": "stream",
     "text": [
      "The slowest run took 13.85 times longer than the fastest. This could mean that an intermediate result is being cached \n",
      "1 loops, best of 3: 15.6 ms per loop\n"
     ]
    }
   ],
   "source": [
    "%timeit rc[3].apply_sync(longrun, 10000)"
   ]
  },
  {
   "cell_type": "code",
   "execution_count": 6,
   "metadata": {
    "collapsed": false
   },
   "outputs": [
    {
     "data": {
      "text/plain": [
       "1804"
      ]
     },
     "execution_count": 6,
     "metadata": {},
     "output_type": "execute_result"
    }
   ],
   "source": [
    "rc[0].apply_sync(getpid)"
   ]
  },
  {
   "cell_type": "markdown",
   "metadata": {},
   "source": [
    "You can do parallel execution simply by referring to a view, i.e. a list of engines."
   ]
  },
  {
   "cell_type": "code",
   "execution_count": 7,
   "metadata": {
    "collapsed": false
   },
   "outputs": [
    {
     "data": {
      "text/plain": [
       "[1804, 1805, 1806, 1807]"
      ]
     },
     "execution_count": 7,
     "metadata": {},
     "output_type": "execute_result"
    }
   ],
   "source": [
    "rc[:].apply_sync(getpid)"
   ]
  },
  {
   "cell_type": "code",
   "execution_count": 8,
   "metadata": {
    "collapsed": false
   },
   "outputs": [
    {
     "name": "stdout",
     "output_type": "stream",
     "text": [
      "10 loops, best of 3: 32.5 ms per loop\n"
     ]
    }
   ],
   "source": [
    "%timeit rc[:].apply_sync(longrun, 10000)"
   ]
  },
  {
   "cell_type": "code",
   "execution_count": 9,
   "metadata": {
    "collapsed": false
   },
   "outputs": [
    {
     "name": "stdout",
     "output_type": "stream",
     "text": [
      "2\n",
      "<class 'IPython.parallel.client.view.DirectView'>\n"
     ]
    }
   ],
   "source": [
    "print len(rc[1:3])\n",
    "print type(rc[:])"
   ]
  },
  {
   "cell_type": "markdown",
   "metadata": {},
   "source": [
    "This is called the <b>direct view</b> that basically works as a multiplexer."
   ]
  },
  {
   "cell_type": "markdown",
   "metadata": {},
   "source": [
    "We can use the <a href=\"https://docs.python.org/2/library/functions.html#map\">map built-in</a> to spread execution among engines. The following example calls longrun four times, one per each of the elements in the list passed."
   ]
  },
  {
   "cell_type": "code",
   "execution_count": 10,
   "metadata": {
    "collapsed": false
   },
   "outputs": [
    {
     "name": "stdout",
     "output_type": "stream",
     "text": [
      "[49164, 24479, 50544, 9895]\n",
      "100 loops, best of 3: 3.2 ms per loop\n"
     ]
    }
   ],
   "source": [
    "# This is the regular map built-in in Python:\n",
    "print map(longrun, [1000, 500, 1000, 200])\n",
    "%timeit map(longrun, [1000, 500, 1000, 200])"
   ]
  },
  {
   "cell_type": "markdown",
   "metadata": {},
   "source": [
    "Views have a map method that works similarly to the map built-in but does parallel execution."
   ]
  },
  {
   "cell_type": "code",
   "execution_count": 11,
   "metadata": {
    "collapsed": false
   },
   "outputs": [
    {
     "name": "stdout",
     "output_type": "stream",
     "text": [
      "100 loops, best of 3: 14.9 ms per loop\n"
     ]
    }
   ],
   "source": [
    "view = rc.load_balanced_view()\n",
    "view.map_sync(longrun, [1000, 500, 1000, 200])\n",
    "%timeit view.map_sync(longrun, [1000, 500, 1000, 200])"
   ]
  },
  {
   "cell_type": "code",
   "execution_count": 12,
   "metadata": {
    "collapsed": false
   },
   "outputs": [
    {
     "data": {
      "text/plain": [
       "IPython.parallel.client.view.LoadBalancedView"
      ]
     },
     "execution_count": 12,
     "metadata": {},
     "output_type": "execute_result"
    }
   ],
   "source": [
    "type(view)"
   ]
  },
  {
   "cell_type": "markdown",
   "metadata": {},
   "source": [
    "This is using the controller to load balance so leaving decisions to the underlying infrastructure."
   ]
  },
  {
   "cell_type": "markdown",
   "metadata": {},
   "source": [
    "Using dict syntax with views works as push/pull operations of variables in particular processes."
   ]
  },
  {
   "cell_type": "code",
   "execution_count": 13,
   "metadata": {
    "collapsed": false
   },
   "outputs": [],
   "source": [
    "rc[1][\"myVarIn1\"] = \"I am in 1\""
   ]
  },
  {
   "cell_type": "code",
   "execution_count": 14,
   "metadata": {
    "collapsed": false
   },
   "outputs": [
    {
     "ename": "NameError",
     "evalue": "name 'myVarIn1' is not defined",
     "output_type": "error",
     "traceback": [
      "\u001b[0;31m---------------------------------------------------------------------------\u001b[0m",
      "\u001b[0;31mNameError\u001b[0m                                 Traceback (most recent call last)",
      "\u001b[0;32m<ipython-input-14-4ba05ebbd0c4>\u001b[0m in \u001b[0;36m<module>\u001b[0;34m()\u001b[0m\n\u001b[0;32m----> 1\u001b[0;31m \u001b[0;32mprint\u001b[0m \u001b[0mmyVarIn1\u001b[0m\u001b[0;34m\u001b[0m\u001b[0m\n\u001b[0m",
      "\u001b[0;31mNameError\u001b[0m: name 'myVarIn1' is not defined"
     ]
    }
   ],
   "source": [
    "print myVarIn1"
   ]
  },
  {
   "cell_type": "code",
   "execution_count": 15,
   "metadata": {
    "collapsed": false
   },
   "outputs": [
    {
     "name": "stdout",
     "output_type": "stream",
     "text": [
      "I am in 1\n"
     ]
    },
    {
     "ename": "RemoteError",
     "evalue": "NameError(name 'myVarIn1' is not defined)",
     "output_type": "error",
     "traceback": [
      "\u001b[0;31m---------------------------------------------------------------------------\u001b[0m\u001b[0;31mNameError\u001b[0m                                 Traceback (most recent call last)\u001b[0;32m<string>\u001b[0m in \u001b[0;36m<module>\u001b[0;34m()\u001b[0m",
      "\u001b[0;32m/Users/msicilia/anaconda/lib/python2.7/site-packages/IPython/parallel/util.py\u001b[0m in \u001b[0;36m_pull\u001b[0;34m(keys)\u001b[0m",
      "\u001b[1;32m    264\u001b[0m         \u001b[0;32mreturn\u001b[0m \u001b[0;34m[\u001b[0m\u001b[0meval\u001b[0m\u001b[0;34m(\u001b[0m\u001b[0mkey\u001b[0m\u001b[0;34m,\u001b[0m \u001b[0mglobals\u001b[0m\u001b[0;34m(\u001b[0m\u001b[0;34m)\u001b[0m\u001b[0;34m)\u001b[0m \u001b[0;32mfor\u001b[0m \u001b[0mkey\u001b[0m \u001b[0;32min\u001b[0m \u001b[0mkeys\u001b[0m\u001b[0;34m]\u001b[0m\u001b[0;34m\u001b[0m\u001b[0m",
      "\u001b[1;32m    265\u001b[0m     \u001b[0;32melse\u001b[0m\u001b[0;34m:\u001b[0m\u001b[0;34m\u001b[0m\u001b[0m",
      "\u001b[0;32m--> 266\u001b[0;31m         \u001b[0;32mreturn\u001b[0m \u001b[0meval\u001b[0m\u001b[0;34m(\u001b[0m\u001b[0mkeys\u001b[0m\u001b[0;34m,\u001b[0m \u001b[0mglobals\u001b[0m\u001b[0;34m(\u001b[0m\u001b[0;34m)\u001b[0m\u001b[0;34m)\u001b[0m\u001b[0;34m\u001b[0m\u001b[0m",
      "\u001b[0m\u001b[1;32m    267\u001b[0m \u001b[0;34m\u001b[0m\u001b[0m",
      "\u001b[1;32m    268\u001b[0m \u001b[0;34m@\u001b[0m\u001b[0minteractive\u001b[0m\u001b[0;34m\u001b[0m\u001b[0m",
      "\u001b[0;32m<string>\u001b[0m in \u001b[0;36m<module>\u001b[0;34m()\u001b[0m",
      "\u001b[0;31mNameError\u001b[0m: name 'myVarIn1' is not defined"
     ]
    }
   ],
   "source": [
    "print rc[1][\"myVarIn1\"]\n",
    "print rc[0][\"myVarIn1\"]"
   ]
  },
  {
   "cell_type": "markdown",
   "metadata": {},
   "source": [
    "If we use parallel.Reference(\"x\") in apply() functions, we are referring to a variable x that is already remote. This way, we can avoid copying the same variable through the network in several calls to apply. Think if x is a large array, this will save a lot of time."
   ]
  },
  {
   "cell_type": "markdown",
   "metadata": {},
   "source": [
    "## Partitioning data"
   ]
  },
  {
   "cell_type": "markdown",
   "metadata": {},
   "source": [
    "Clusters start to become useful when you can partition data to do operations in pieces of data."
   ]
  },
  {
   "cell_type": "code",
   "execution_count": 16,
   "metadata": {
    "collapsed": false
   },
   "outputs": [],
   "source": [
    "import numpy as np\n",
    "%px import numpy as np # The magic is needed to execute it in every instance:\n",
    "def CostlyOperation():\n",
    "    global a  \n",
    "    array = np.copy(a)\n",
    "    return array*array"
   ]
  },
  {
   "cell_type": "markdown",
   "metadata": {},
   "source": [
    "Scatter/gather take an array and partition it among the parallel instances available."
   ]
  },
  {
   "cell_type": "code",
   "execution_count": 23,
   "metadata": {
    "collapsed": false
   },
   "outputs": [
    {
     "name": "stdout",
     "output_type": "stream",
     "text": [
      "[ 1.59055493  2.12341237  1.25481426 ...,  0.23470997  1.83227583\n",
      "  0.52413171] 200000\n",
      "<DirectView [0, 1, 2, 3]>\n"
     ]
    },
    {
     "data": {
      "text/plain": [
       "[array([ 1.59055493,  2.12341237,  1.25481426, ...,  0.05001647,\n",
       "        -0.18774725, -0.95678693]),\n",
       " array([ 0.97191601,  2.40042363, -1.11058922, ...,  2.79939157,\n",
       "        -0.31333175,  1.23305503]),\n",
       " array([ 1.43366825,  0.7725019 , -0.19259581, ...,  1.84885727,\n",
       "         0.18619352,  2.23002061]),\n",
       " array([ 1.8583023 ,  0.59344644,  1.20996072, ...,  0.23470997,\n",
       "         1.83227583,  0.52413171])]"
      ]
     },
     "execution_count": 23,
     "metadata": {},
     "output_type": "execute_result"
    }
   ],
   "source": [
    "a = np.random.randn(200000)+1\n",
    "print a, len(a)\n",
    "other_view = rc[:]\n",
    "print other_view\n",
    "\n",
    "other_view.scatter('a', a)\n",
    "# With other_view['a'] you can see the partitions\n",
    "other_view['a']\n",
    "\n"
   ]
  },
  {
   "cell_type": "code",
   "execution_count": 25,
   "metadata": {
    "collapsed": false
   },
   "outputs": [
    {
     "name": "stdout",
     "output_type": "stream",
     "text": [
      "100 loops, best of 3: 11.8 ms per loop\n",
      "1000 loops, best of 3: 381 µs per loop\n"
     ]
    },
    {
     "data": {
      "text/plain": [
       "[array([  2.52986499e+00,   4.50888010e+00,   1.57455882e+00, ...,\n",
       "          2.50164760e-03,   3.52490289e-02,   9.15441232e-01]),\n",
       " array([ 0.94462073,  5.76203359,  1.23340842, ...,  7.83659316,\n",
       "         0.09817679,  1.5204247 ]),\n",
       " array([ 2.05540466,  0.59675919,  0.03709315, ...,  3.4182732 ,\n",
       "         0.03466803,  4.97299191]),\n",
       " array([ 3.45328744,  0.35217867,  1.46400495, ...,  0.05508877,\n",
       "         3.35723472,  0.27471405])]"
      ]
     },
     "execution_count": 25,
     "metadata": {},
     "output_type": "execute_result"
    }
   ],
   "source": [
    "\n",
    "# In this case, parallel execution is slower, as we are\n",
    "# doing it in the same machine, but with more data transfer.\n",
    "%timeit other_view.apply_sync(CostlyOperation)\n",
    "%timeit CostlyOperation()\n",
    "\n",
    "other_view.apply_sync(CostlyOperation)"
   ]
  },
  {
   "cell_type": "markdown",
   "metadata": {},
   "source": [
    "Now you can recover values with gather:"
   ]
  },
  {
   "cell_type": "code",
   "execution_count": 26,
   "metadata": {
    "collapsed": false
   },
   "outputs": [
    {
     "name": "stdout",
     "output_type": "stream",
     "text": [
      "[ 1.59055493  2.12341237  1.25481426 ...,  0.23470997  1.83227583\n",
      "  0.52413171] 200000\n"
     ]
    }
   ],
   "source": [
    "other_view.block=True # Needed so that we wait for all the \n",
    "\n",
    "# We can get the original a that was distributed this way:\n",
    "b = other_view.gather(\"a\")\n",
    "print b, len(b)"
   ]
  },
  {
   "cell_type": "code",
   "execution_count": null,
   "metadata": {
    "collapsed": false
   },
   "outputs": [],
   "source": []
  }
 ],
 "metadata": {
  "kernelspec": {
   "display_name": "Python 2",
   "language": "python",
   "name": "python2"
  },
  "language_info": {
   "codemirror_mode": {
    "name": "ipython",
    "version": 2
   },
   "file_extension": ".py",
   "mimetype": "text/x-python",
   "name": "python",
   "nbconvert_exporter": "python",
   "pygments_lexer": "ipython2",
   "version": "2.7.9"
  }
 },
 "nbformat": 4,
 "nbformat_minor": 0
}
