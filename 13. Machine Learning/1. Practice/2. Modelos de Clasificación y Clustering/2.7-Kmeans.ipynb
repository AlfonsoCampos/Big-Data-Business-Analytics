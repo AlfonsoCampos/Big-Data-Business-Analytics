{
 "cells": [
  {
   "cell_type": "markdown",
   "metadata": {},
   "source": [
    "# Ejemplo de implementación de kmeans"
   ]
  },
  {
   "cell_type": "code",
   "execution_count": 1,
   "metadata": {
    "collapsed": false
   },
   "outputs": [
    {
     "name": "stdout",
     "output_type": "stream",
     "text": [
      "Using matplotlib backend: MacOSX\n",
      "Populating the interactive namespace from numpy and matplotlib\n"
     ]
    }
   ],
   "source": [
    "%pylab\n",
    "%matplotlib inline"
   ]
  },
  {
   "cell_type": "markdown",
   "metadata": {},
   "source": [
    "## Creación de un conjunto de datos de ejemplo"
   ]
  },
  {
   "cell_type": "code",
   "execution_count": 2,
   "metadata": {
    "collapsed": true
   },
   "outputs": [],
   "source": [
    "from sklearn.datasets import make_blobs\n",
    "\n",
    "color_map = array(['b','g','r','c','m','y','k','b','g','r',\n",
    "                   'c','m','y','k','b','g','r','c','m','y',\n",
    "                   'k','b','g','r','c','m','y','k'])\n",
    "\n",
    "blobs_3, classes_3 = make_blobs(300,\n",
    "                                centers      = 3,\n",
    "                                cluster_std  = 0.5,\n",
    "                                random_state = 0)\n",
    "blobs_5, classes_5 = make_blobs(300,\n",
    "                                centers      = 5,\n",
    "                                cluster_std  = 0.5,\n",
    "                                random_state = 0)"
   ]
  },
  {
   "cell_type": "markdown",
   "metadata": {},
   "source": [
    "## Implementación de k-means"
   ]
  },
  {
   "cell_type": "code",
   "execution_count": 3,
   "metadata": {
    "collapsed": false
   },
   "outputs": [
    {
     "name": "stdout",
     "output_type": "stream",
     "text": [
      "Iteración: 1\n",
      "[[-0.8676141   3.38628804]\n",
      " [ 1.77448225  1.98751104]\n",
      " [ 0.          0.        ]]\n",
      "\n",
      "Iteración: 2\n",
      "[[-0.61908121  3.52659864]\n",
      " [ 1.89669384  1.68858372]\n",
      " [ 1.60602218  0.16407947]]\n",
      "\n",
      "Iteración: 3\n",
      "[[-0.36876936  3.61435545]\n",
      " [ 1.98995086  1.44481736]\n",
      " [ 1.91982226  0.50180782]]\n",
      "\n",
      "Iteración: 4\n",
      "[[-0.34105117  3.61487282]\n",
      " [ 1.96692135  1.40337951]\n",
      " [ 1.97168006  0.56041412]]\n",
      "\n",
      "Iteración: 5\n",
      "[[-0.34105117  3.61487282]\n",
      " [ 1.92010354  1.41431769]\n",
      " [ 2.00180835  0.56695345]]\n",
      "\n",
      "Iteración: 6\n",
      "[[-0.34105117  3.61487282]\n",
      " [ 1.87639467  1.4102323 ]\n",
      " [ 2.03000762  0.56958918]]\n",
      "\n",
      "Iteración: 7\n",
      "[[-0.34105117  3.61487282]\n",
      " [ 1.81959565  1.43707633]\n",
      " [ 2.05524954  0.59310764]]\n",
      "\n",
      "Iteración: 8\n",
      "[[-0.34105117  3.61487282]\n",
      " [ 1.803074    1.46066622]\n",
      " [ 2.05684581  0.60597766]]\n",
      "\n",
      "Iteración: 9\n",
      "[[-0.34105117  3.61487282]\n",
      " [ 1.803074    1.46066622]\n",
      " [ 2.05684581  0.60597766]]\n",
      "\n",
      "Iteración: 1\n",
      "[[ 0.          0.        ]\n",
      " [ 5.58004648 -0.77966805]\n",
      " [ 0.          0.        ]\n",
      " [ 0.          0.        ]\n",
      " [-0.64068852  5.02979641]]\n",
      "\n",
      "Iteración: 2\n",
      "[[ 1.52808273  0.99845574]\n",
      " [ 8.86382145 -2.23667337]\n",
      " [ 0.          0.        ]\n",
      " [ 0.          0.        ]\n",
      " [-0.6015377   5.16170923]]\n",
      "\n",
      "Iteración: 3\n",
      "[[ 1.97472255  0.96439698]\n",
      " [ 9.14753506 -2.41204648]\n",
      " [-1.64315922  2.18942101]\n",
      " [ 0.          0.        ]\n",
      " [-0.62622903  5.19676686]]\n",
      "\n",
      "Iteración: 4\n",
      "[[ 2.01262043  0.94143767]\n",
      " [ 9.14753506 -2.41204648]\n",
      " [-1.64579332  2.89760725]\n",
      " [ 0.          0.        ]\n",
      " [-0.1869842   6.11090768]]\n",
      "\n",
      "Iteración: 5\n",
      "[[ 1.99277403  1.02486212]\n",
      " [ 9.14753506 -2.41204648]\n",
      " [-1.5067595   2.95416182]\n",
      " [ 0.          0.        ]\n",
      " [-0.22924455  6.26668255]]\n",
      "\n",
      "Iteración: 6\n",
      "[[ 1.99277403  1.02486212]\n",
      " [ 9.14753506 -2.41204648]\n",
      " [-1.37924224  3.01415122]\n",
      " [ 0.          0.        ]\n",
      " [-0.26221783  6.35159739]]\n",
      "\n",
      "Iteración: 7\n",
      "[[ 1.99277403  1.02486212]\n",
      " [ 9.14753506 -2.41204648]\n",
      " [-1.18985333  3.09546334]\n",
      " [ 0.          0.        ]\n",
      " [-0.33391031  6.48892661]]\n",
      "\n",
      "Iteración: 8\n",
      "[[ 2.00521328  0.98500809]\n",
      " [ 9.14753506 -2.41204648]\n",
      " [-0.94009469  3.24388588]\n",
      " [ 0.          0.        ]\n",
      " [-0.44555269  6.7254366 ]]\n",
      "\n",
      "Iteración: 9\n",
      "[[ 2.01262043  0.94143767]\n",
      " [ 9.14753506 -2.41204648]\n",
      " [-0.60970445  3.44713655]\n",
      " [ 0.          0.        ]\n",
      " [-0.75214568  7.19143307]]\n",
      "\n",
      "Iteración: 10\n",
      "[[ 2.01417411  0.89736439]\n",
      " [ 9.14753506 -2.41204648]\n",
      " [-0.35161592  3.68001644]\n",
      " [-1.32738084  1.53158588]\n",
      " [-1.24361702  7.76688706]]\n",
      "\n",
      "Iteración: 11\n",
      "[[ 2.01255789  0.85271039]\n",
      " [ 9.14753506 -2.41204648]\n",
      " [ 0.23806042  4.0819488 ]\n",
      " [-1.74120135  2.63955662]\n",
      " [-1.24361702  7.76688706]]\n",
      "\n"
     ]
    },
    {
     "name": "stderr",
     "output_type": "stream",
     "text": [
      "/Users/daniel/anaconda/lib/python2.7/site-packages/numpy/core/_methods.py:59: RuntimeWarning: Mean of empty slice.\n",
      "  warnings.warn(\"Mean of empty slice.\", RuntimeWarning)\n",
      "/Users/daniel/anaconda/lib/python2.7/site-packages/numpy/core/_methods.py:69: RuntimeWarning: invalid value encountered in true_divide\n",
      "  ret, rcount, out=ret, casting='unsafe', subok=False)\n"
     ]
    }
   ],
   "source": [
    "from scipy.spatial.distance import cdist\n",
    "\n",
    "def shout_continue(old_centroids, centroids, iterations, max_iter = 10, stop_limit = 0):    \n",
    "    if old_centroids is None:\n",
    "        return True\n",
    "    elif iterations > max_iter:\n",
    "        return False\n",
    "    elif sum(abs(centroids - old_centroids)) <= stop_limit:\n",
    "        return False\n",
    "    else:\n",
    "        return True\n",
    "\n",
    "def k_means(data, num_k):\n",
    "    num_features = data.shape[1]\n",
    "    num_values = data.shape[0]\n",
    "\n",
    "    centroids = np.random.randn(num_k * num_features).reshape(num_k, num_features)\n",
    "    \n",
    "    iterations = 0\n",
    "    old_centroids = None\n",
    "\n",
    "    while shout_continue(old_centroids, centroids, iterations):\n",
    "        iterations += 1\n",
    "        old_centroids = centroids.copy()\n",
    "\n",
    "        distance = cdist(data, centroids)\n",
    "        labels = np.zeros(num_values)\n",
    "        for i in range(num_values):\n",
    "            labels[i] = numpy.argmin(distance[i])\n",
    "\n",
    "        for i in range(num_k):\n",
    "            centroids[i] = mean(data[labels == i, :], axis = 0)\n",
    "\n",
    "        centroids[np.where(np.isnan(centroids))] = 0\n",
    "        \n",
    "        print \"Iteración:\", iterations\n",
    "        print centroids\n",
    "        print \n",
    "        \n",
    "    return centroids\n",
    "\n",
    "k_means_3 = k_means(blobs_3, 3)\n",
    "k_means_5 = k_means(blobs_5, 5)"
   ]
  },
  {
   "cell_type": "markdown",
   "metadata": {},
   "source": [
    "## Comparación de los resultados\n",
    "\n",
    "Ejemplo con 3 clusters."
   ]
  },
  {
   "cell_type": "code",
   "execution_count": 4,
   "metadata": {
    "collapsed": false
   },
   "outputs": [
    {
     "name": "stdout",
     "output_type": "stream",
     "text": [
      "Algoritmo implementado\n",
      "[[-0.34105117  3.61487282]\n",
      " [ 1.803074    1.46066622]\n",
      " [ 2.05684581  0.60597766]]\n",
      "Algortimo sklearn\n",
      "[[ 1.96887266  0.84517309]\n",
      " [-1.59458393  2.86866086]\n",
      " [ 0.95959254  4.36085244]]\n"
     ]
    }
   ],
   "source": [
    "from sklearn.cluster import KMeans\n",
    "\n",
    "kmeans_3 = KMeans(n_clusters = 3).fit(blobs_3)\n",
    "\n",
    "print \"Algoritmo implementado\"\n",
    "print k_means_3\n",
    "print \"Algortimo sklearn\"\n",
    "print kmeans_3.cluster_centers_"
   ]
  },
  {
   "cell_type": "markdown",
   "metadata": {},
   "source": [
    "Ejemplo con 3 clusters."
   ]
  },
  {
   "cell_type": "code",
   "execution_count": 5,
   "metadata": {
    "collapsed": false
   },
   "outputs": [
    {
     "name": "stdout",
     "output_type": "stream",
     "text": [
      "Algoritmo implementado\n",
      "[[ 2.01255789  0.85271039]\n",
      " [ 9.14753506 -2.41204648]\n",
      " [ 0.23806042  4.0819488 ]\n",
      " [-1.74120135  2.63955662]\n",
      " [-1.24361702  7.76688706]]\n",
      "Algortimo sklearn\n",
      "[[ 9.14753506 -2.41204648]\n",
      " [ 0.96667719  4.40575097]\n",
      " [-1.24361702  7.76688706]\n",
      " [ 2.01255789  0.85271039]\n",
      " [-1.64512572  2.91675119]]\n"
     ]
    }
   ],
   "source": [
    "kmeans_5 = KMeans(n_clusters = 5).fit(blobs_5)\n",
    "\n",
    "print \"Algoritmo implementado\"\n",
    "print k_means_5\n",
    "print \"Algortimo sklearn\"\n",
    "print kmeans_5.cluster_centers_"
   ]
  }
 ],
 "metadata": {
  "kernelspec": {
   "display_name": "Python 2",
   "language": "python",
   "name": "python2"
  },
  "language_info": {
   "codemirror_mode": {
    "name": "ipython",
    "version": 2
   },
   "file_extension": ".py",
   "mimetype": "text/x-python",
   "name": "python",
   "nbconvert_exporter": "python",
   "pygments_lexer": "ipython2",
   "version": "2.7.10"
  }
 },
 "nbformat": 4,
 "nbformat_minor": 0
}
