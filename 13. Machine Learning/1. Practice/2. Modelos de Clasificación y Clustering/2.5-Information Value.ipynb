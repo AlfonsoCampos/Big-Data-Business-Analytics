{
 "cells": [
  {
   "cell_type": "markdown",
   "metadata": {},
   "source": [
    "# Selección de variables con Information Value (IV)"
   ]
  },
  {
   "cell_type": "code",
   "execution_count": 1,
   "metadata": {
    "collapsed": false
   },
   "outputs": [
    {
     "name": "stdout",
     "output_type": "stream",
     "text": [
      "Using matplotlib backend: MacOSX\n",
      "Populating the interactive namespace from numpy and matplotlib\n"
     ]
    }
   ],
   "source": [
    "%pylab\n",
    "%matplotlib inline"
   ]
  },
  {
   "cell_type": "markdown",
   "metadata": {},
   "source": [
    "## Importación de los datos"
   ]
  },
  {
   "cell_type": "code",
   "execution_count": 2,
   "metadata": {
    "collapsed": true
   },
   "outputs": [],
   "source": [
    "from sklearn.metrics import accuracy_score, auc, confusion_matrix, f1_score, precision_score, recall_score, roc_curve\n",
    "import pandas as pd\n",
    "\n",
    "def metricas_modelos(y_true, y_pred):\n",
    "    from sklearn.metrics import accuracy_score, auc, confusion_matrix, f1_score, precision_score, recall_score, roc_curve\n",
    "\n",
    "    # Obtención de matriz de confusión\n",
    "    confusion_matrix = confusion_matrix(y_true, y_pred)\n",
    "\n",
    "    print \"La matriz de confusión es \"\n",
    "    print confusion_matrix\n",
    "\n",
    "    print 'Precisión:', accuracy_score(y_true, y_pred)\n",
    "    print 'Exactitud:', precision_score(y_true, y_pred)\n",
    "    print 'Exhaustividad:', recall_score(y_true, y_pred)\n",
    "    print 'F1:', f1_score(y_true, y_pred)\n",
    "\n",
    "    false_positive_rate, recall, thresholds = roc_curve(y_true, y_pred)\n",
    "    roc_auc = auc(false_positive_rate, recall)\n",
    "\n",
    "    print 'AUC:', auc(false_positive_rate, recall)\n",
    "\n",
    "    plot(false_positive_rate, recall, 'b')\n",
    "    plot([0, 1], [0, 1], 'r--')\n",
    "    title('AUC = %0.2f' % roc_auc)\n",
    "\n",
    "# Importación de los datos\n",
    "credit_approval = pd.read_csv('crx_data.txt', sep = ',')\n",
    "credit_approval.head()\n",
    "mask = credit_approval.applymap(lambda x: x in ['?'])\n",
    "credit_not_null = credit_approval[-mask.any(axis=1)]\n",
    "\n",
    "# Separación de las variables\n",
    "var_categoricas = ['A1', 'A4', 'A5', 'A6', 'A7', 'A9', 'A10', 'A11', 'A12', 'A13']\n",
    "var_numericas   = ['A2', 'A3', 'A8', 'A14', 'A15']\n",
    "var_target      = credit_not_null['A16'] == '+'"
   ]
  },
  {
   "cell_type": "markdown",
   "metadata": {},
   "source": [
    "## Information Value\n",
    "\n",
    "Se procede a la estimación del IV utilizando la expresión:\n",
    "$$\n",
    "    IV =  \\sum_{i = 1}^{N} (R_i(T) - R_i(F)) \\ln \\left| \\frac{R_i(T)}{R_i(F)} \\right|\n",
    "$$"
   ]
  },
  {
   "cell_type": "code",
   "execution_count": 3,
   "metadata": {
    "collapsed": false
   },
   "outputs": [
    {
     "name": "stdout",
     "output_type": "stream",
     "text": [
      "La variable A1 el IV es 0.0310557839282\n",
      "La variable A4 el IV es 0.353312725336\n",
      "La variable A5 el IV es 0.353312725336\n",
      "La variable A6 el IV es 5.30149147134\n",
      "La variable A7 el IV es 2.34839349885\n",
      "La variable A9 el IV es 3.24769074169\n",
      "La variable A10 el IV es 0.895478013341\n",
      "La variable A11 el IV es 11.0569990916\n",
      "La variable A12 el IV es 0.0423925791404\n",
      "La variable A13 el IV es 0.411470398153\n"
     ]
    }
   ],
   "source": [
    "from sklearn.linear_model.logistic import LogisticRegression\n",
    "\n",
    "result_IV = []\n",
    "\n",
    "for v_cat in var_categoricas:\n",
    "    var_target = array(var_target)\n",
    "    var_values = array(credit_not_null[v_cat])\n",
    "    var_levels = unique(var_values)\n",
    "\n",
    "    mat_values = numpy.zeros(shape=(len(var_levels),2))\n",
    "\n",
    "    for i in range(len(var_target)):\n",
    "        # Obtención de la posición en los niveles del valor\n",
    "        for j in range(len(var_levels)):\n",
    "            if var_levels[j] == var_values[i]:\n",
    "                pos = j\n",
    "                break\n",
    "\n",
    "        # Estimación del número valores en cada nivel\n",
    "        if var_target[i]:\n",
    "            mat_values[pos][0] += 1\n",
    "        else:\n",
    "            mat_values[pos][1] += 1\n",
    "\n",
    "        # Obtención del IV\n",
    "        IV = 0\n",
    "        for j in range(len(var_levels)):\n",
    "            if mat_values[j][0] > 0 and mat_values[j][1] > 0:\n",
    "                rt = mat_values[j][0] / (mat_values[j][0] + mat_values[j][1])\n",
    "                rf = mat_values[j][1] / (mat_values[j][0] + mat_values[j][1])\n",
    "                IV += (rt - rf) * np.log(rt / rf)\n",
    "        \n",
    "    # Se agrega el IV al listado\n",
    "    result_IV.append(IV)\n",
    "\n",
    "for i in range(len(var_categoricas)):\n",
    "    print \"La variable\", var_categoricas[i], \"el IV es\", result_IV[i]"
   ]
  },
  {
   "cell_type": "markdown",
   "metadata": {},
   "source": [
    "Las únicas variables que no permiten separar la variable objetivo por encima de la media son `A1` y `A12`. Por otro lado, las que muestran una relación fuertes (> 0,5) son las `A6`, `A7`, `A9`, `A10` y `A11`"
   ]
  },
  {
   "cell_type": "code",
   "execution_count": 4,
   "metadata": {
    "collapsed": false
   },
   "outputs": [
    {
     "name": "stdout",
     "output_type": "stream",
     "text": [
      "La matriz de confusión es \n",
      "[[297  24]\n",
      " [ 60 272]]\n",
      "Precisión: 0.871362940276\n",
      "Exactitud: 0.918918918919\n",
      "Exhaustividad: 0.819277108434\n",
      "F1: 0.866242038217\n",
      "AUC: 0.872255376647\n"
     ]
    },
    {
     "data": {
      "image/png": "[encoded data removed]",
      "text/plain": [
       "<matplotlib.figure.Figure at 0x105374390>"
      ]
     },
     "metadata": {},
     "output_type": "display_data"
    }
   ],
   "source": [
    "data_model = concatenate((pd.get_dummies(credit_not_null['A6']),\n",
    "                          pd.get_dummies(credit_not_null['A7']),\n",
    "                          pd.get_dummies(credit_not_null['A9']),\n",
    "                          pd.get_dummies(credit_not_null['A10']),\n",
    "                          pd.get_dummies(credit_not_null['A11'])), axis = 1)\n",
    "\n",
    "classifier = LogisticRegression().fit(data_model, var_target)\n",
    "y_pred     = classifier.predict(data_model)\n",
    "\n",
    "metricas_modelos(y_pred, var_target)"
   ]
  },
  {
   "cell_type": "code",
   "execution_count": null,
   "metadata": {
    "collapsed": true
   },
   "outputs": [],
   "source": []
  }
 ],
 "metadata": {
  "kernelspec": {
   "display_name": "Python 2",
   "language": "python",
   "name": "python2"
  },
  "language_info": {
   "codemirror_mode": {
    "name": "ipython",
    "version": 2
   },
   "file_extension": ".py",
   "mimetype": "text/x-python",
   "name": "python",
   "nbconvert_exporter": "python",
   "pygments_lexer": "ipython2",
   "version": "2.7.10"
  }
 },
 "nbformat": 4,
 "nbformat_minor": 0
}
