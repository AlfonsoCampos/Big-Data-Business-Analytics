{
 "cells": [
  {
   "cell_type": "markdown",
   "metadata": {},
   "source": [
    "# IPython Notebook\n",
    "\n",
    "El IPython Notebook es un entorno de computación interactivo en el que se puede combinar la ejecución de \n",
    "\n",
    "* código Python,\n",
    "* texto enriquecido mediante [Markdown](http://daringfireball.net/projects/markdown/syntax) y HTML,\n",
    "* expresiones matemáticas con la sintaxis de [LaTeX](http://www.latex-project.org) mediante [MathJax](http://www.mathjax.org) y\n",
    "* otros datos\n",
    "\n",
    "Su objetivo es se una herramienta ágil tanto para el cálculo como el análisis como el exploratorio de datos, siendo una plataforma ideal para ayudar a la realización de investigaciones reproducibles, ya que todas las entradas y salidas se pueden almacenar en `notebooks`.\n",
    "\n",
    "##  Markdown\n",
    "[Markdown](http://daringfireball.net/projects/markdown/syntax) es un lenguaje de marcado ligero creado originalmente por John Gruber y Aaron Swartz que trata de conseguir la máxima legibilidad y \"publicabilidad\" tanto en sus forma de entrada como de salida, inspirándose en muchas convenciones existentes para marcar mensajes de correo electrónico usando texto plano.\n",
    "\n",
    "## LaTeX\n",
    "$\\LaTeX$  es un sistema de composición de textos, orientado a la creación de documentos escritos que presenten una alta calidad tipográfica. Las ecuaciones se pueden integrar en linea al rodearlas por `$`, como por ejemplo `$\\alpha = \\frac{1}{2}$` que produce $\\alpha = \\frac{1}{2}$ o en un parrafo `$$\\alpha = \\frac{1}{2}$$` que produce $$\\alpha = \\frac{1}{2}$$\n",
    "\n",
    "## Tutoriales\n",
    "Un tutorial de IPython Notebook se puede en el video de la conferencia sobre Python científica SciPy 2013:\n",
    "[![Tutorial de IPython Notebook](http://img.youtube.com/vi/xe_ATRmw0KM/0.jpg)](http://www.youtube.com/watch?v=xe_ATRmw0KM)"
   ]
  },
  {
   "cell_type": "code",
   "execution_count": null,
   "metadata": {
    "collapsed": true
   },
   "outputs": [],
   "source": []
  }
 ],
 "metadata": {
  "kernelspec": {
   "display_name": "Python 2",
   "language": "python",
   "name": "python2"
  },
  "language_info": {
   "codemirror_mode": {
    "name": "ipython",
    "version": 2
   },
   "file_extension": ".py",
   "mimetype": "text/x-python",
   "name": "python",
   "nbconvert_exporter": "python",
   "pygments_lexer": "ipython2",
   "version": "2.7.10"
  }
 },
 "nbformat": 4,
 "nbformat_minor": 0
}
