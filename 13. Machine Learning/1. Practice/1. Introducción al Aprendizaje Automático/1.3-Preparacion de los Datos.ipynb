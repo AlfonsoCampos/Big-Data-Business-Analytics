{
 "cells": [
  {
   "cell_type": "markdown",
   "metadata": {},
   "source": [
    "# Preparación de los datos\n",
    "Antes de entrar en los detalles de scikit-learn, es importante entender cómo preparar los datos que utilizan los algoritmos. Esto requiere repasar conceptos de NumPy.\n",
    "\n",
    "Básicamente, podemos imaginar que scikit-learn toma como entrada para el aprendizaje **una tabla** donde cada fila es un individuo o instancia, y cada columna un atributo, característica o variable.\n",
    "\n",
    "## Machine learning y datos\n",
    "La idea fundamental del machine learning (ML) es obtener **modelos**. Estos modelos no son otra cosa que programas que implementan fórmulas matemáticas o procedimientos de decisión con **parámetros ajustables** a partir de **datos**.\n",
    "\n",
    "Por ejemplo, en un modelo de regresión lineal simple, el modelo matemático es el de la ecuación de una recta, y los parámetros ajustables son los parámetros de esa ecuación. Si tenemos la ecuación $$y= \\alpha x + \\beta$$\n",
    "\n",
    "* El parámetro $\\alpha$ indica la inclinación (slope) de la recta.\n",
    "* El parámetro $\\beta$ indica dónde corta la recta al eje y (intercept).\n",
    "\n",
    "Entonces la tarea del algoritmo de ML (en nuestro caso, un algoritmo de regresión de mínimos cuadrados por ejemplo) es **hallar los parámetros del modelo que se ajustan a los datos.**\n",
    "\n",
    "Típicamente, los parámetros son un array de valores reales (float), y en muchas ocasiones, los datos se representan con matrices numéricas.\n",
    "\n",
    "Ahora bien, el modelo de regresión que acabamos de describir es muy simple y tiene bastantes limitaciones. Por eso, para una tarea similar, como es la regresión, nos encontramos con **diferentes algoritmos**, que generan modelos también diferentes, más simples o complicados, o bien con diferentes propiedades que los hacen más útiles para ciertras situaciones.\n",
    "\n",
    "Por ejemplo, si vemos la \"chuleta\" de uso de scikit-learn:\n",
    "\n",
    "![scikit-learn cheatsheet](http://1.bp.blogspot.com/-ME24ePzpzIM/UQLWTwurfXI/AAAAAAAAANw/W3EETIroA80/s1600/drop_shadows_background.png)\n",
    "\n",
    "Vemos que nos indica que los [regresores SGD](http://scikit-learn.org/stable/modules/sgd.html) se recomiendan para datasets grandes. Aunque es sólo una recomendación, es un ejemplo de criterio de decisión en este caso sobre el número de instancias. Cada algoritmo tiene unas ventajas e inconvenientes para diferentes tipos de problemas. En cualquier caso, seleccionar el mejor algoritmo para un problema dado no es fácil, por lo que en ocasiones la mejor aproximación es \"ensayo y error\" con varios de ellos.\n",
    "\n",
    "## Arrays y matrices con NumPy para machine learning\n",
    "Las listas en Python permiten crear arrays y matrices y manipularlos."
   ]
  },
  {
   "cell_type": "code",
   "execution_count": 1,
   "metadata": {
    "collapsed": false
   },
   "outputs": [
    {
     "name": "stdout",
     "output_type": "stream",
     "text": [
      "1\n",
      "[7.0, -6]\n"
     ]
    }
   ],
   "source": [
    "a = [2.5, 3.2, 1, 7., -6]\n",
    "print a[2]\n",
    "print a[3:5] # Este es un \"slice\" de a."
   ]
  },
  {
   "cell_type": "code",
   "execution_count": 2,
   "metadata": {
    "collapsed": false
   },
   "outputs": [
    {
     "name": "stdout",
     "output_type": "stream",
     "text": [
      "-2.1\n",
      "[[3, 4, -2.1, 3], [7, 2, 4.05, 4]]\n"
     ]
    }
   ],
   "source": [
    "m = [ [3, 4, -2.1, 3],\n",
    "      [7, 2, 4.05, 4], \n",
    "      [88, 22, 23, 11],\n",
    "      [0, 1, 0, 1, 12]\n",
    "     ]\n",
    "print m[0][2]\n",
    "print m[0:2]"
   ]
  },
  {
   "cell_type": "markdown",
   "metadata": {},
   "source": [
    "No obstante, en SciPy se utiliza para representar estructuras de arrays o matrices la biblioteca NumPy, dado que es mucho **más eficiente** y tiene asociadas funciones y utilidades que hacen la manipulación más sencilla para el análisis de datos"
   ]
  },
  {
   "cell_type": "code",
   "execution_count": 3,
   "metadata": {
    "collapsed": false
   },
   "outputs": [
    {
     "name": "stdout",
     "output_type": "stream",
     "text": [
      "1.0\n",
      "[ 7. -6.]\n",
      "-------\n",
      "[[ 1  2  3  4  5]\n",
      " [ 6  7  8  9 10]\n",
      " [11 12 13 14 15]]\n",
      "-------\n",
      "[ 2  7 12]\n",
      "[11 12 13 14 15]\n"
     ]
    }
   ],
   "source": [
    "import numpy as np\n",
    "a = np.array([2.5, 3.2, 1, 7., -6]) # Construimos el array NumPy a partir de una lista.\n",
    "print a[2]\n",
    "print a[3:5] # Este es un \"slice\" de a. \n",
    "\n",
    "print \"-------\"\n",
    "b = np.array([1, 2, 3, 4, 5, 6, 7, 8, 9, 10, 11, 12, 13, 14, 15])\n",
    "b = b.reshape((3, 5))\n",
    "print b\n",
    "\n",
    "print \"-------\"\n",
    "\n",
    "# una columna:\n",
    "print b[:,1]\n",
    "\n",
    "# una fila:\n",
    "print b[2]"
   ]
  },
  {
   "cell_type": "markdown",
   "metadata": {},
   "source": [
    "En el paquete np.random tenemos muchas utilidades para generar datos aleatorios. También hay en NumPy diferentes funciones para crear datos, como `np.ones()` o `np.linspace()."
   ]
  },
  {
   "cell_type": "code",
   "execution_count": 4,
   "metadata": {
    "collapsed": false
   },
   "outputs": [
    {
     "name": "stdout",
     "output_type": "stream",
     "text": [
      "[ 1.74755657 -0.37533362 -1.01075949  0.32084206 -1.31220502 -1.09837878\n",
      "  0.02177289  0.33593112 -0.68611156  0.53584027  1.63813018  0.01900862\n",
      " -1.7123645   1.64379798  0.18785116  1.21648242  0.18013121  0.72872432\n",
      " -0.82346166 -0.70799147]\n",
      "[72 76 40 92 42 59 95 89 80 52]\n"
     ]
    }
   ],
   "source": [
    "c = np.random.randn(20) # 20 números de una distribución normal.\n",
    "print c\n",
    "c = np.random.randint(1, 100, 10) # 10 números enteros entre 1 y 100.\n",
    "print c"
   ]
  },
  {
   "cell_type": "markdown",
   "metadata": {},
   "source": [
    "También en muchas ocasiones es interesante convertir un vector de filas en un vector de columnas. Esto se utiliza con frecuencia en scikit-learn por la forma que tienen los algoritmos de tomar los datos de entrada."
   ]
  },
  {
   "cell_type": "code",
   "execution_count": 5,
   "metadata": {
    "collapsed": false
   },
   "outputs": [
    {
     "name": "stdout",
     "output_type": "stream",
     "text": [
      "[  0.   3.   6.   9.  12.  15.  18.  21.  24.]\n",
      "-------\n",
      "[[  0.]\n",
      " [  3.]\n",
      " [  6.]\n",
      " [  9.]\n",
      " [ 12.]\n",
      " [ 15.]\n",
      " [ 18.]\n",
      " [ 21.]\n",
      " [ 24.]]\n"
     ]
    }
   ],
   "source": [
    "y = np.linspace(0, 24, 9)\n",
    "print y\n",
    "\n",
    "print \"-------\"\n",
    "y = y[:, np.newaxis]\n",
    "print y"
   ]
  },
  {
   "cell_type": "markdown",
   "metadata": {},
   "source": [
    "## Un ejemplo simple\n",
    "En el siguiente código utilizamos una función que entrena y visualiza el resultado de un clasificador. El clasificador concreto no es importante, de momento nos fijamos solo en el resultado."
   ]
  },
  {
   "cell_type": "code",
   "execution_count": 6,
   "metadata": {
    "collapsed": false
   },
   "outputs": [
    {
     "data": {
      "image/png": "[encoded data removed]",
      "text/plain": [
       "<matplotlib.figure.Figure at 0x1043c8050>"
      ]
     },
     "metadata": {},
     "output_type": "display_data"
    }
   ],
   "source": [
    "import matplotlib.pyplot as plt\n",
    "%matplotlib inline\n",
    "from sgd_separator import plot_sgd_separator\n",
    "plot_sgd_separator()"
   ]
  },
  {
   "cell_type": "markdown",
   "metadata": {},
   "source": [
    "La imagen resultante nos muestra:\n",
    "* Dos nubes de puntos, que son las instancias originales del problema. En este caso, para poder visualizarlo bien, tenemos sólo dos atributos o características.\n",
    "* Cada nube de puntos está en un color diferente que indica su clase. Nos encontramos con un problema de aprendizaje supervisado, porque esas clases son conocidas de antemano para los datos de entrenamiento y se utilizan en el aprendizaje.\n",
    "* El **modelo** resultante es en este caso una línea que vemos que divide el plano en dos, permitiendo diferenciar las dos clases.\n",
    "\n",
    "Es importante resaltar dos cosas de este ejemplo:\n",
    "* Lo primero, a diferencia de una regresión, la línea solo sirve para discriminar dos partes del plano que serían las dos clases. En la regresión, la recta trata de ajustarse a los puntos, en la clasificación, sirve para separarlos.\n",
    "* Cualquier punto nuevo (una instancia nueva, un nuevo cliente por ejemplo) estará a un lado un otro de la línea. Es decir, el modelo permite predecir la clase. Incluso cuando el punto no sea uno de los utilizados en el entrenamiento. Esto quiere decir que el modelo generaliza.\n",
    "\n",
    "## Datos en scikit-learn\n",
    "Se asume en general que se representa como un array de dos **dimensiones** de tamaño `[n_samples, n_features]`, donde:\n",
    "* `n_samples` es el número de instancias, individuos u observaciones. Por ejemplo, cada instancia puede representar la información de un cliente.\n",
    "* `n_features` es el numero de características (campos, atributos, variables). Por ejemplo, puede ser una caracterísitica del cliente el gasto que hace, las veces que visita nuestra página o la región en la que vive.\n",
    "\n",
    "Normalmente pensamos en los datos como numéricos o etiquetas, pero un individuo puede ser también un documento o una imagen.\n",
    "\n",
    "Scikit-learn incluye una biblioteca de **datasets preparados para probar y utilizar** como ejemplo. En esa biblioteca se trata con objetos Bunch que contienen los datos y su descripción."
   ]
  },
  {
   "cell_type": "code",
   "execution_count": 7,
   "metadata": {
    "collapsed": false
   },
   "outputs": [
    {
     "name": "stdout",
     "output_type": "stream",
     "text": [
      "['data', 'feature_names', 'DESCR', 'target']\n",
      "['CRIM' 'ZN' 'INDUS' 'CHAS' 'NOX' 'RM' 'AGE' 'DIS' 'RAD' 'TAX' 'PTRATIO'\n",
      " 'B' 'LSTAT']\n",
      "(506, 13)\n"
     ]
    }
   ],
   "source": [
    "from sklearn.datasets import load_boston\n",
    "boston = load_boston()\n",
    "print boston.keys()\n",
    "print boston.feature_names # Los nombres de los atributos.\n",
    "print boston.data.shape\n",
    "# Con esto obtenemos la descripción del dataset:\n",
    "# print boston.DESCR"
   ]
  },
  {
   "cell_type": "markdown",
   "metadata": {},
   "source": [
    "También se pueden descargar datasets del sitio http://mldata.org con una función de utilidad [`fetch_mldata()`](http://scikit-learn.org/0.12/modules/generated/sklearn.datasets.fetch_mldata.html). Se puede consultar [aquí](http://scikit-learn.org/stable/datasets/) todas las utilidades relacionadas con cargar datos.\n",
    "\n",
    "## Un ejemplo simple con arrays\n",
    "Vamos a ver un ejemplo de juguete para poner en práctica el uso básico de un clasificador. Utilizaremos matrices en este caso."
   ]
  },
  {
   "cell_type": "code",
   "execution_count": 8,
   "metadata": {
    "collapsed": false
   },
   "outputs": [
    {
     "name": "stdout",
     "output_type": "stream",
     "text": [
      "RadiusNeighborsClassifier(algorithm='auto', leaf_size=30, metric='minkowski',\n",
      "             metric_params=None, outlier_label=None, p=2, radius=1,\n",
      "             weights='uniform')\n",
      "['a' 'b' 'b']\n"
     ]
    }
   ],
   "source": [
    "X = np.array([\n",
    "    [1, 1], [1.5, 0.95], [1.5, 1.75], [1.9, 2], [2.2, 1.8]\n",
    "])\n",
    "y = [\"a\", \"a\", \"a\", \"b\", \"b\"]\n",
    "\n",
    "\n",
    "from sklearn.neighbors import RadiusNeighborsClassifier\n",
    "# Creamos el modelo sin entrenar:\n",
    "model = RadiusNeighborsClassifier(radius = 1)\n",
    "print model\n",
    "\n",
    "# Entrenamos el modelo:\n",
    "model.fit(X,y)\n",
    "\n",
    "# Predecimos la clase para tres puntos diferentes:\n",
    "print model.predict([[0.8, 1.5], [2.3, 2.8], [2, 2]])"
   ]
  },
  {
   "cell_type": "markdown",
   "metadata": {},
   "source": [
    "En el ejemplo anterior es importante resaltar:\n",
    "* Que el clasificador implementa diferentes tipos de variantes, que se pueden controlar con el parámetro `algorithm.\n",
    "* Que hay otros parámetros ajustables, como en este caso el radio.\n",
    "\n",
    "El ejemplo que hemos visto pertenece a la familia de métodos basados en vecinos (neighbors). En este caso, el clasificador no ajusta parámetros sino que simplemente \"recuerda\" los puntos que se le han dado para entrenar, y clasifica tomando otros puntos cercanos al punto nuevo dado, en el radio especificado."
   ]
  },
  {
   "cell_type": "code",
   "execution_count": 9,
   "metadata": {
    "collapsed": false
   },
   "outputs": [
    {
     "data": {
      "text/plain": [
       "<matplotlib.patches.Circle at 0x10817efd0>"
      ]
     },
     "execution_count": 9,
     "metadata": {},
     "output_type": "execute_result"
    },
    {
     "data": {
      "image/png": "[encoded data removed]",
      "text/plain": [
       "<matplotlib.figure.Figure at 0x1043b9710>"
      ]
     },
     "metadata": {},
     "output_type": "display_data"
    }
   ],
   "source": [
    "from matplotlib.patches import Circle\n",
    "# Pintamos con diferente marcador dos partes del array, una por clase:\n",
    "plt.scatter(X[0:2,0], X[0:2,1])\n",
    "plt.scatter(X[2:5,0], X[2:5,1], marker=\"^\")\n",
    "\n",
    "plt.axes().set_aspect(1) # Ejes iguales, evita que salga una elipse.\n",
    "plt.xlim(0, 2.5)  # Limites de los ejes\n",
    "plt.ylim(0, 2.5)\n",
    "\n",
    "# Incluimos el círculo, probar con diferentes valores de \"nuevo\".\n",
    "nuevo = (0.8, 1.5)\n",
    "circle=Circle(nuevo, radius=1, alpha=.2)\n",
    "plt.axes().add_patch(circle)"
   ]
  },
  {
   "cell_type": "markdown",
   "metadata": {},
   "source": [
    "Aunque en el radio que hemos dibujado aparecen puntos de las dos clases, el clasificador encuentra dos puntos de la clase \"a\" y solo uno de la clase \"b\" por lo que se decanta por la segunda.\n",
    "\n",
    "## Cargando datos con pandas\n",
    "En muchos casos descargamos de la Web datos u los obtenemos por otra vía como ficheros o en otros formatos. El tipo `DataFrame` de la biblioteca pandas nos permite tratar con esos datos de manera sencilla."
   ]
  },
  {
   "cell_type": "code",
   "execution_count": 10,
   "metadata": {
    "collapsed": false
   },
   "outputs": [
    {
     "data": {
      "text/html": [
       "<div>\n",
       "<table border=\"1\" class=\"dataframe\">\n",
       "  <thead>\n",
       "    <tr style=\"text-align: right;\">\n",
       "      <th></th>\n",
       "      <th>fixed acidity</th>\n",
       "      <th>volatile acidity</th>\n",
       "      <th>citric acid</th>\n",
       "      <th>residual sugar</th>\n",
       "      <th>chlorides</th>\n",
       "      <th>free sulfur dioxide</th>\n",
       "      <th>total sulfur dioxide</th>\n",
       "      <th>density</th>\n",
       "      <th>pH</th>\n",
       "      <th>sulphates</th>\n",
       "      <th>alcohol</th>\n",
       "      <th>quality</th>\n",
       "    </tr>\n",
       "  </thead>\n",
       "  <tbody>\n",
       "    <tr>\n",
       "      <th>0</th>\n",
       "      <td>7.0</td>\n",
       "      <td>0.27</td>\n",
       "      <td>0.36</td>\n",
       "      <td>20.7</td>\n",
       "      <td>0.045</td>\n",
       "      <td>45</td>\n",
       "      <td>170</td>\n",
       "      <td>1.0010</td>\n",
       "      <td>3.00</td>\n",
       "      <td>0.45</td>\n",
       "      <td>8.8</td>\n",
       "      <td>6</td>\n",
       "    </tr>\n",
       "    <tr>\n",
       "      <th>1</th>\n",
       "      <td>6.3</td>\n",
       "      <td>0.30</td>\n",
       "      <td>0.34</td>\n",
       "      <td>1.6</td>\n",
       "      <td>0.049</td>\n",
       "      <td>14</td>\n",
       "      <td>132</td>\n",
       "      <td>0.9940</td>\n",
       "      <td>3.30</td>\n",
       "      <td>0.49</td>\n",
       "      <td>9.5</td>\n",
       "      <td>6</td>\n",
       "    </tr>\n",
       "    <tr>\n",
       "      <th>2</th>\n",
       "      <td>8.1</td>\n",
       "      <td>0.28</td>\n",
       "      <td>0.40</td>\n",
       "      <td>6.9</td>\n",
       "      <td>0.050</td>\n",
       "      <td>30</td>\n",
       "      <td>97</td>\n",
       "      <td>0.9951</td>\n",
       "      <td>3.26</td>\n",
       "      <td>0.44</td>\n",
       "      <td>10.1</td>\n",
       "      <td>6</td>\n",
       "    </tr>\n",
       "    <tr>\n",
       "      <th>3</th>\n",
       "      <td>7.2</td>\n",
       "      <td>0.23</td>\n",
       "      <td>0.32</td>\n",
       "      <td>8.5</td>\n",
       "      <td>0.058</td>\n",
       "      <td>47</td>\n",
       "      <td>186</td>\n",
       "      <td>0.9956</td>\n",
       "      <td>3.19</td>\n",
       "      <td>0.40</td>\n",
       "      <td>9.9</td>\n",
       "      <td>6</td>\n",
       "    </tr>\n",
       "    <tr>\n",
       "      <th>4</th>\n",
       "      <td>7.2</td>\n",
       "      <td>0.23</td>\n",
       "      <td>0.32</td>\n",
       "      <td>8.5</td>\n",
       "      <td>0.058</td>\n",
       "      <td>47</td>\n",
       "      <td>186</td>\n",
       "      <td>0.9956</td>\n",
       "      <td>3.19</td>\n",
       "      <td>0.40</td>\n",
       "      <td>9.9</td>\n",
       "      <td>6</td>\n",
       "    </tr>\n",
       "  </tbody>\n",
       "</table>\n",
       "</div>"
      ],
      "text/plain": [
       "   fixed acidity  volatile acidity  citric acid  residual sugar  chlorides  \\\n",
       "0            7.0              0.27         0.36            20.7      0.045   \n",
       "1            6.3              0.30         0.34             1.6      0.049   \n",
       "2            8.1              0.28         0.40             6.9      0.050   \n",
       "3            7.2              0.23         0.32             8.5      0.058   \n",
       "4            7.2              0.23         0.32             8.5      0.058   \n",
       "\n",
       "   free sulfur dioxide  total sulfur dioxide  density    pH  sulphates  \\\n",
       "0                   45                   170   1.0010  3.00       0.45   \n",
       "1                   14                   132   0.9940  3.30       0.49   \n",
       "2                   30                    97   0.9951  3.26       0.44   \n",
       "3                   47                   186   0.9956  3.19       0.40   \n",
       "4                   47                   186   0.9956  3.19       0.40   \n",
       "\n",
       "   alcohol  quality  \n",
       "0      8.8        6  \n",
       "1      9.5        6  \n",
       "2     10.1        6  \n",
       "3      9.9        6  \n",
       "4      9.9        6  "
      ]
     },
     "execution_count": 10,
     "metadata": {},
     "output_type": "execute_result"
    }
   ],
   "source": [
    "import pandas as pd\n",
    "# Leemos un fichero con formato de texto, con campos separados por comas (\"comma separated values\")\n",
    "datos = pd.read_csv(\"winequality-white.csv\", sep=\";\")\n",
    "datos.head(5)"
   ]
  },
  {
   "cell_type": "markdown",
   "metadata": {},
   "source": [
    "Al igual que `read_csv()`, hay otras funciones para otros formatos de datos, por ejemplo `read_excel()`. Puede consultarse la documentación de pandas para ver todas las opciones disponibles.\n",
    "\n",
    "Una vez tenemos el dataset cargado, podemos seleccionar los atributos para entrenar y el atributo objetivo indexando el `DataFrame`. El siguiente es un ejemplo utilizando el mismo algoritmo de búsqueda de \"vecinos\" pero en este caso para predecir un valor, y no para clasificar. "
   ]
  },
  {
   "cell_type": "code",
   "execution_count": 11,
   "metadata": {
    "collapsed": false
   },
   "outputs": [
    {
     "name": "stdout",
     "output_type": "stream",
     "text": [
      "RadiusNeighborsRegressor(algorithm='auto', leaf_size=30, metric='minkowski',\n",
      "             metric_params=None, p=2, radius=1, weights='uniform')\n",
      "[ 5.4935567]\n"
     ]
    }
   ],
   "source": [
    "atributos = [\"pH\", \"sulphates\", \"alcohol\"]\n",
    "X = datos[atributos]\n",
    "y = datos[\"quality\"]\n",
    "\n",
    "# Intentamos utilizar una regresión con k-vecinos:\n",
    "from sklearn.neighbors import RadiusNeighborsRegressor\n",
    "\n",
    "model = RadiusNeighborsRegressor(radius = 1)\n",
    "print model\n",
    "\n",
    "# Entrenamos el modelo:\n",
    "model.fit(X,y)\n",
    "\n",
    "# Predecimos la clase para tres puntos diferentes:\n",
    "print model.predict([3, 0.39, 8.7])"
   ]
  },
  {
   "cell_type": "markdown",
   "metadata": {},
   "source": [
    "Según la documentación del `dataset`, la calidad es un valor entre 1 y 10, por lo que el vino que hemos utilizado en el ejemplo es mediocre. Hasta el momento simplemente preparamos los datos, entrenamos un clasificador y lo utilizamos. Lógicamente, es necesario evaluar cuán buenos son los modelos.\n",
    "\n",
    "También en este último caso hemos simplemente tomado algunos atributos arbitrariamente de entre todos los posibles en el `dataset`, sin ningún criterio. Realmente, la selección de los atributos más relevantes es un paso muy importante que se denomina ingeniería de características (**feature engineering**) y que es determinante para la calidad del resultado final.\n",
    "\n",
    "## Creando datos con sklearn\n",
    "scikit-learn nos proporciona en su módulo sklearn.datasets algunas funciones para crear datos ficticios que se ajusten a diferentes tipos de problemas. Esto es muy útil para probar diferentes algoritmos.\n",
    "\n",
    "Por ejemplo, si queremos generar datos para un problema de clasificación ficticio con tres atributos (y dos de ellos redundantes, es decir, correlacionados) y tres clases, podríamos utilizar la función [`make_classification`](http://scikit-learn.org/stable/modules/generated/sklearn.datasets.make_classification.html#sklearn.datasets.make_classification)."
   ]
  },
  {
   "cell_type": "code",
   "execution_count": 12,
   "metadata": {
    "collapsed": false
   },
   "outputs": [
    {
     "name": "stdout",
     "output_type": "stream",
     "text": [
      "[[-0.02927079  2.40615706  1.93451376 -1.45200973  1.75678331]\n",
      " [ 0.61025991 -2.05895715  1.15604793 -3.04529295 -1.58977143]\n",
      " [ 0.25689234 -1.16621081  1.19161726 -1.98127362 -1.21496064]\n",
      " [-0.92836572  1.88162073  1.40439892  1.50601275  0.0649857 ]\n",
      " [-0.07117144 -0.81863797  0.68088261 -0.53897308 -1.17371233]]\n",
      "100\n"
     ]
    }
   ],
   "source": [
    "import sklearn\n",
    "from sklearn.datasets import make_classification\n",
    "X, Y = sklearn.datasets.make_classification(n_features=5, n_redundant=2, \n",
    "                                            n_informative=3, n_classes=3)\n",
    "\n",
    "print X [0:5, :]\n",
    "print len(X)  # Por defecto genera 100 instancias."
   ]
  },
  {
   "cell_type": "code",
   "execution_count": 13,
   "metadata": {
    "collapsed": false
   },
   "outputs": [
    {
     "data": {
      "text/plain": [
       "<matplotlib.collections.PathCollection at 0x109a90210>"
      ]
     },
     "execution_count": 13,
     "metadata": {},
     "output_type": "execute_result"
    },
    {
     "data": {
      "image/png": "[encoded data removed]",
      "text/plain": [
       "<matplotlib.figure.Figure at 0x104e96190>"
      ]
     },
     "metadata": {},
     "output_type": "display_data"
    }
   ],
   "source": [
    "plt.scatter(X[:, 0], X[:, 1])"
   ]
  },
  {
   "cell_type": "markdown",
   "metadata": {},
   "source": [
    "Veamos un ejemplo con un clasificador cualquiera."
   ]
  },
  {
   "cell_type": "code",
   "execution_count": 14,
   "metadata": {
    "collapsed": false
   },
   "outputs": [
    {
     "name": "stdout",
     "output_type": "stream",
     "text": [
      "0.8475\n"
     ]
    }
   ],
   "source": [
    "X, Y = sklearn.datasets.make_classification(n_samples = 50000, n_features=5, n_redundant=0, \n",
    "                                            n_informative=3, n_classes=2)\n",
    "\n",
    "from sklearn.linear_model import SGDClassifier\n",
    "m = SGDClassifier()\n",
    "m.fit(X, Y)\n",
    "print m.score(X, Y)"
   ]
  },
  {
   "cell_type": "markdown",
   "metadata": {},
   "source": [
    "Una forma de observar la calidad del modelo son las **matrices de confusión**. Una matriz de confusión nos resume los errores y aciertos del modelo para un conjunto de datos. Para dos clases, nos proporciona una matriz 2x2, con el significado que nos describe [Wikipedia](https://en.wikipedia.org/wiki/Confusion_matrix)."
   ]
  },
  {
   "cell_type": "code",
   "execution_count": 15,
   "metadata": {
    "collapsed": false
   },
   "outputs": [
    {
     "name": "stdout",
     "output_type": "stream",
     "text": [
      "[[19961  4991]\n",
      " [ 2634 22414]]\n"
     ]
    },
    {
     "data": {
      "image/png": "[encoded data removed]",
      "text/plain": [
       "<matplotlib.figure.Figure at 0x109ac0f90>"
      ]
     },
     "metadata": {},
     "output_type": "display_data"
    }
   ],
   "source": [
    "from sklearn.metrics import confusion_matrix\n",
    "\n",
    "# Usamos el clasificador sobre todos los datos:\n",
    "y_pred = m.predict(X)\n",
    "\n",
    "cm = confusion_matrix(Y, y_pred)\n",
    "print cm\n",
    "\n",
    "# Dibujamos la matriz\n",
    "plt.matshow(cm)\n",
    "plt.title('Confusion matrix')\n",
    "plt.colorbar()\n",
    "plt.ylabel('Real')\n",
    "plt.xlabel('Predicted')\n",
    "plt.show()"
   ]
  },
  {
   "cell_type": "markdown",
   "metadata": {},
   "source": [
    "Vemos que el número de falsos positivos y falsos negativos es significativamente menor al de los verdaderos (positivos y negativos). NOTA: Los valores concretos dependen de la generación aleatoria del `dataset`.\n",
    "\n",
    "## Apéndice: matrices dispersas\n",
    "En ocasiones tenemos conjuntos de datos donde realmente la mayoría de los valores son nulos, a esto se le llama **matrices dispersas**. Como se puede apreciar, usar arrays de `NumPy` para estos datos consume mucho espacio en memoria para representar pocos datos no nulos.\n",
    "\n",
    "No vamos a trabajar con matrices dispersas, pero es importante conocerlo para los casos en que sean necesario optimizar la memoria."
   ]
  },
  {
   "cell_type": "code",
   "execution_count": 16,
   "metadata": {
    "collapsed": false
   },
   "outputs": [
    {
     "name": "stdout",
     "output_type": "stream",
     "text": [
      "[[ 0.          0.          0.          0.          0.          0.\n",
      "   0.83522032  0.          0.85540767  0.        ]\n",
      " [ 0.          0.          0.          0.          0.          0.\n",
      "   0.87133794  0.          0.          0.        ]\n",
      " [ 0.          0.          0.93835262  0.82021112  0.          0.\n",
      "   0.82094808  0.89316577  0.          0.        ]\n",
      " [ 0.          0.          0.          0.          0.          0.          0.\n",
      "   0.87767057  0.          0.        ]\n",
      " [ 0.          0.          0.          0.          0.          0.\n",
      "   0.86754004  0.          0.          0.80792359]\n",
      " [ 0.          0.          0.82276416  0.          0.          0.          0.\n",
      "   0.          0.          0.        ]\n",
      " [ 0.99776587  0.          0.95624253  0.          0.          0.88294331\n",
      "   0.          0.          0.8110774   0.        ]\n",
      " [ 0.          0.          0.93203938  0.98937145  0.          0.          0.886301\n",
      "   0.          0.          0.        ]\n",
      " [ 0.          0.          0.          0.          0.          0.92482555\n",
      "   0.          0.          0.89646686  0.89063555]\n",
      " [ 0.          0.          0.          0.          0.          0.89957388\n",
      "   0.92956539  0.          0.94478203  0.        ]]\n"
     ]
    }
   ],
   "source": [
    "x = np.random.random( (10, 10))\n",
    "# Ponemos a cero los valores menores de 0.8\n",
    "x[x<0.8] = 0\n",
    "print x"
   ]
  },
  {
   "cell_type": "markdown",
   "metadata": {},
   "source": [
    "Hay una forma de hacer representaciones compactas, que solo guardan los valores no nulos."
   ]
  },
  {
   "cell_type": "code",
   "execution_count": 17,
   "metadata": {
    "collapsed": false
   },
   "outputs": [
    {
     "name": "stdout",
     "output_type": "stream",
     "text": [
      "  (0, 6)\t0.835220323446\n",
      "  (0, 8)\t0.855407670689\n",
      "  (1, 6)\t0.871337937618\n",
      "  (2, 2)\t0.93835262218\n",
      "  (2, 3)\t0.820211120075\n",
      "  (2, 6)\t0.820948081792\n",
      "  (2, 7)\t0.893165774507\n",
      "  (3, 7)\t0.877670571821\n",
      "  (4, 6)\t0.867540037441\n",
      "  (4, 9)\t0.807923585847\n",
      "  (5, 2)\t0.822764155241\n",
      "  (6, 0)\t0.997765873927\n",
      "  (6, 2)\t0.956242530306\n",
      "  (6, 5)\t0.88294331108\n",
      "  (6, 8)\t0.811077404727\n",
      "  (7, 2)\t0.932039381525\n",
      "  (7, 3)\t0.989371447816\n",
      "  (7, 6)\t0.886300998852\n",
      "  (8, 5)\t0.924825553988\n",
      "  (8, 8)\t0.896466862323\n",
      "  (8, 9)\t0.890635545943\n",
      "  (9, 5)\t0.899573884693\n",
      "  (9, 6)\t0.929565390742\n",
      "  (9, 8)\t0.944782030088\n"
     ]
    }
   ],
   "source": [
    "from scipy.sparse import csr_matrix\n",
    "x2 = csr_matrix(x)\n",
    "print x2"
   ]
  },
  {
   "cell_type": "code",
   "execution_count": 18,
   "metadata": {
    "collapsed": false
   },
   "outputs": [
    {
     "name": "stdout",
     "output_type": "stream",
     "text": [
      "[[ 0.          0.          0.          0.          0.          0.\n",
      "   0.83522032  0.          0.85540767  0.        ]\n",
      " [ 0.          0.          0.          0.          0.          0.\n",
      "   0.87133794  0.          0.          0.        ]\n",
      " [ 0.          0.          0.93835262  0.82021112  0.          0.\n",
      "   0.82094808  0.89316577  0.          0.        ]\n",
      " [ 0.          0.          0.          0.          0.          0.          0.\n",
      "   0.87767057  0.          0.        ]\n",
      " [ 0.          0.          0.          0.          0.          0.\n",
      "   0.86754004  0.          0.          0.80792359]\n",
      " [ 0.          0.          0.82276416  0.          0.          0.          0.\n",
      "   0.          0.          0.        ]\n",
      " [ 0.99776587  0.          0.95624253  0.          0.          0.88294331\n",
      "   0.          0.          0.8110774   0.        ]\n",
      " [ 0.          0.          0.93203938  0.98937145  0.          0.          0.886301\n",
      "   0.          0.          0.        ]\n",
      " [ 0.          0.          0.          0.          0.          0.92482555\n",
      "   0.          0.          0.89646686  0.89063555]\n",
      " [ 0.          0.          0.          0.          0.          0.89957388\n",
      "   0.92956539  0.          0.94478203  0.        ]]\n"
     ]
    }
   ],
   "source": [
    "# Podemos recuperar la forma original:\n",
    "print x2.toarray()"
   ]
  },
  {
   "cell_type": "markdown",
   "metadata": {},
   "source": [
    "También se pueden utilizar otras técnicas para matrices dispersas, tales como las matrices [LIL](http://docs.scipy.org/doc/scipy-0.14.0/reference/generated/scipy.sparse.lil_matrix.html). El módulo [`scipy.sparse`](http://docs.scipy.org/doc/scipy-0.14.0/reference/sparse.html) tiene utilidades para muchos otros formatos."
   ]
  },
  {
   "cell_type": "code",
   "execution_count": null,
   "metadata": {
    "collapsed": true
   },
   "outputs": [],
   "source": []
  }
 ],
 "metadata": {
  "kernelspec": {
   "display_name": "Python 2",
   "language": "python",
   "name": "python2"
  },
  "language_info": {
   "codemirror_mode": {
    "name": "ipython",
    "version": 2
   },
   "file_extension": ".py",
   "mimetype": "text/x-python",
   "name": "python",
   "nbconvert_exporter": "python",
   "pygments_lexer": "ipython2",
   "version": "2.7.10"
  }
 },
 "nbformat": 4,
 "nbformat_minor": 0
}
