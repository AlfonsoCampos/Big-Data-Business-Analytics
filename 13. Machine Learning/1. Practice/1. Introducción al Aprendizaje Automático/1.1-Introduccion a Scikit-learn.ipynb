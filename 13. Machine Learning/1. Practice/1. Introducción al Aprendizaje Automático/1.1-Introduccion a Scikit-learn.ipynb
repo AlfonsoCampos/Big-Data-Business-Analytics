{
 "cells": [
  {
   "cell_type": "markdown",
   "metadata": {},
   "source": [
    "# Introducción a scikit-learn\n",
    "\n",
    "scikit-learn es una biblioteca de aprendizaje automático que se integra con la distribución de software científico y de análisis de datos SciPy.\n",
    "\n",
    "Hay muchas bibliotecas de aprendizaje automático en diferentes lenguajes, y varias en Python. Por eso es importante entender qué es scikit-learn para poder diferenciarlo de otras bibliotecas.\n",
    "\n",
    "## ¿Qué es un scikit?\n",
    "Son paquetes especializados que se añaden a la distribución científica de Python [SciPy](http://www.scipy.org). Puede consultarse una lista de estos paquetes en este [enlace](https://scikits.appspot.com).\n",
    "\n",
    "## ¿Qué es scikit-learn?\n",
    "Un scikit especializado en aprendizaje automático (machine learning). Hay muchos otros paquetes de machine learning en diferentes lenguajes, [aquí hay una lista](https://github.com/josephmisiti/awesome-machine-learning). scikit-learn tiene las siguientes características:\n",
    "\n",
    "* Integrado en SciPy.\n",
    "* Una comunidad fuerte de usuarios.\n",
    "* La política es incluir algoritmos de **propósito general** y que se utilicen de manera **generalizada.**\n",
    "\n",
    "Hay otras bibliotecas más específicas que incluyen alguna forma de integración con scikit-learn. Por ejemplo:\n",
    "\n",
    "* [NLTK](http://www.nltk.org) especializada en procesamiento del lenguaje natural.\n",
    "* [Theano](http://deeplearning.net/software/theano/index.html) especializada en depp learning.\n",
    "\n",
    "## ¿Qué dependencias tiene?\n",
    "Está basado lógicamente en SciPy, concretamente, las siguientes dependencias son necesarias siempre que lo utilicemos. Es importante ver las versiones porque a veces la documentación que encontramos en la Web puede ser de una versión diferente."
   ]
  },
  {
   "cell_type": "code",
   "execution_count": 1,
   "metadata": {
    "collapsed": false
   },
   "outputs": [
    {
     "name": "stdout",
     "output_type": "stream",
     "text": [
      "numpy version: 1.9.2\n",
      "matplotlib version: 1.4.3\n"
     ]
    }
   ],
   "source": [
    "# Arrays homogéneos eficientes con NumPy:\n",
    "import numpy as np\n",
    "print 'numpy version:', np.__version__\n",
    "\n",
    "# Plotting 2D con matplotlib:\n",
    "import matplotlib\n",
    "print 'matplotlib version:', matplotlib.__version__\n",
    "\n",
    "# Indica que se incrusten los gráficos en el Notebook.\n",
    "%matplotlib inline "
   ]
  },
  {
   "cell_type": "markdown",
   "metadata": {},
   "source": [
    "Aunque scikit-learn no tiene una dependencia con él, es decir, no lo utiliza, el paquete **pandas** es muy útil para leer datos tabulares y manipularlos. Es decir, para las tareas de preparación de datos que incluyan limpieza, transformación o selección."
   ]
  },
  {
   "cell_type": "code",
   "execution_count": 2,
   "metadata": {
    "collapsed": false
   },
   "outputs": [
    {
     "name": "stdout",
     "output_type": "stream",
     "text": [
      "pandas version: 0.16.2\n"
     ]
    }
   ],
   "source": [
    "import pandas as pd\n",
    "print 'pandas version:', pd.__version__"
   ]
  },
  {
   "cell_type": "markdown",
   "metadata": {},
   "source": [
    "Finalmente, es importante también tener presente la versión de scikit-learn, para estar seguros cuando veamos ejemplos o documentación en Internet."
   ]
  },
  {
   "cell_type": "code",
   "execution_count": 3,
   "metadata": {
    "collapsed": false
   },
   "outputs": [
    {
     "name": "stdout",
     "output_type": "stream",
     "text": [
      "scikit-learn version: 0.15.2\n"
     ]
    }
   ],
   "source": [
    "import sklearn\n",
    "print 'scikit-learn version:', sklearn.__version__"
   ]
  },
  {
   "cell_type": "markdown",
   "metadata": {},
   "source": [
    "## ¿Dónde encuentro documentación?\n",
    "\n",
    "* Documentación oficial de scikit_learn: http://scikit-learn.org/stable/documentation.html \n",
    "* El tutorial de SciPy \"Python Scientific Lecture Notes\" incluye una sección de scikit-learn: https://scipy-lectures.github.io/\n",
    "\n",
    "## ¿Hay alguna visión general rápida?\n",
    "\n",
    "Además de la introducción de la documentación oficial, hay muchos tutoriales en la Web que describen la forma de uso básica de scikit-learn.\n",
    "\n",
    "Una visión general y sencilla de los principios de scikit-learn se puede encontrar en este video."
   ]
  },
  {
   "cell_type": "code",
   "execution_count": 4,
   "metadata": {
    "collapsed": false
   },
   "outputs": [
    {
     "data": {
      "text/html": [
       "\n",
       "        <iframe\n",
       "            width=\"400\"\n",
       "            height=\"300\"\n",
       "            src=\"https://www.youtube.com/embed/zVPfVkC5qDk\"\n",
       "            frameborder=\"0\"\n",
       "            allowfullscreen\n",
       "        ></iframe>\n",
       "        "
      ],
      "text/plain": [
       "<IPython.lib.display.YouTubeVideo at 0x1075bcfd0>"
      ]
     },
     "execution_count": 4,
     "metadata": {},
     "output_type": "execute_result"
    }
   ],
   "source": [
    "from IPython.display import YouTubeVideo\n",
    "YouTubeVideo('zVPfVkC5qDk')"
   ]
  }
 ],
 "metadata": {
  "kernelspec": {
   "display_name": "Python 2",
   "language": "python",
   "name": "python2"
  },
  "language_info": {
   "codemirror_mode": {
    "name": "ipython",
    "version": 2
   },
   "file_extension": ".py",
   "mimetype": "text/x-python",
   "name": "python",
   "nbconvert_exporter": "python",
   "pygments_lexer": "ipython2",
   "version": "2.7.10"
  }
 },
 "nbformat": 4,
 "nbformat_minor": 0
}
