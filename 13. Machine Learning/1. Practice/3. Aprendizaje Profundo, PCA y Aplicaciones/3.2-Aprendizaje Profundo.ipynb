{
 "cells": [
  {
   "cell_type": "markdown",
   "metadata": {},
   "source": [
    "# Aprendizaje profundo"
   ]
  },
  {
   "cell_type": "code",
   "execution_count": 1,
   "metadata": {
    "collapsed": false
   },
   "outputs": [
    {
     "name": "stdout",
     "output_type": "stream",
     "text": [
      "Using matplotlib backend: MacOSX\n",
      "Populating the interactive namespace from numpy and matplotlib\n"
     ]
    }
   ],
   "source": [
    "%pylab\n",
    "%matplotlib inline"
   ]
  },
  {
   "cell_type": "markdown",
   "metadata": {},
   "source": [
    "# Introducción a Theano\n",
    "\n",
    "Theano es un paquete de software que le permite escribir código simbólico y compilarlo. Fue desarrollado por investigadores de aprendizaje automático en la Universidad de Montreal. Su uso no se limita a las aplicaciones de aprendizaje automático, pero fue diseñado con el aprendizaje automático en mente.\n",
    "\n",
    "Para la instalación de Theano en Anaconda se han de ejecutar los siguientes comandos en la terminal:\n",
    "\n",
    "        pip install Theano\n",
    "        conda install pydot\n",
    "\n",
    "Ahora se puede utilizar Theano en Anaconda."
   ]
  },
  {
   "cell_type": "code",
   "execution_count": 2,
   "metadata": {
    "collapsed": false
   },
   "outputs": [
    {
     "name": "stdout",
     "output_type": "stream",
     "text": [
      "Couldn't import dot_parser, loading of dot files will not be possible.\n"
     ]
    }
   ],
   "source": [
    "import theano\n",
    "import theano.tensor as T"
   ]
  },
  {
   "cell_type": "markdown",
   "metadata": {},
   "source": [
    "## Variables simbólicas\n",
    "\n",
    "En Theano, todos los algoritmos se definen simbólicamente."
   ]
  },
  {
   "cell_type": "code",
   "execution_count": 3,
   "metadata": {
    "collapsed": false
   },
   "outputs": [
    {
     "name": "stdout",
     "output_type": "stream",
     "text": [
      "<TensorType(float64, scalar)> <class 'theano.tensor.var.TensorVariable'>\n",
      "Elemwise{pow,no_inplace}.0 <class 'theano.tensor.var.TensorVariable'>\n"
     ]
    }
   ],
   "source": [
    "x = T.scalar()\n",
    "y = x**2\n",
    "\n",
    "print x, type(x)\n",
    "print y, type(y)"
   ]
  },
  {
   "cell_type": "markdown",
   "metadata": {},
   "source": [
    "En el ejemplo anterior las variables simbólicas `x` e `y` no continente ningún valor, solamente le indica el tipo de variable a Theano.\n",
    "\n",
    "Para ver el contenido de las variables Theano se puede utilizar la función `pp` (pretty print)"
   ]
  },
  {
   "cell_type": "code",
   "execution_count": 4,
   "metadata": {
    "collapsed": false
   },
   "outputs": [
    {
     "name": "stdout",
     "output_type": "stream",
     "text": [
      "<TensorType(float64, scalar)>\n",
      "(<TensorType(float64, scalar)> ** TensorConstant{2})\n"
     ]
    }
   ],
   "source": [
    "print theano.pp(x)\n",
    "print theano.pp(y)"
   ]
  },
  {
   "cell_type": "markdown",
   "metadata": {},
   "source": [
    "## Funciones\n",
    "\n",
    "Para calcular realmente las cosas con Theano, se definen las funciones simbólicas, que luego se pueden utilizar con valores reales.\n",
    "\n",
    "Para esto se utiliza el método `theano.function`, a la cual se le ha de indicar los variables de entrada y las variables de salida."
   ]
  },
  {
   "cell_type": "code",
   "execution_count": 5,
   "metadata": {
    "collapsed": false
   },
   "outputs": [
    {
     "name": "stdout",
     "output_type": "stream",
     "text": [
      "9.0\n"
     ]
    }
   ],
   "source": [
    "f = theano.function(inputs = [x], outputs = y)\n",
    "print f(3)"
   ]
  },
  {
   "cell_type": "markdown",
   "metadata": {},
   "source": [
    "Alternativamente se puede utilizar el método eval de las variables simbólicas para llamar a las funciones."
   ]
  },
  {
   "cell_type": "code",
   "execution_count": 6,
   "metadata": {
    "collapsed": false
   },
   "outputs": [
    {
     "name": "stdout",
     "output_type": "stream",
     "text": [
      "9.0\n"
     ]
    }
   ],
   "source": [
    "print y.eval({x: 3})"
   ]
  },
  {
   "cell_type": "markdown",
   "metadata": {},
   "source": [
    "También es posible utilizar las funciones de Python para construir variables en Theano"
   ]
  },
  {
   "cell_type": "code",
   "execution_count": 7,
   "metadata": {
    "collapsed": false
   },
   "outputs": [
    {
     "name": "stdout",
     "output_type": "stream",
     "text": [
      "9.0\n"
     ]
    }
   ],
   "source": [
    "def square(x):\n",
    "    return x**2\n",
    "\n",
    "y = square(x)\n",
    "\n",
    "f = theano.function(inputs = [x], outputs = y)\n",
    "print f(3)"
   ]
  },
  {
   "cell_type": "markdown",
   "metadata": {},
   "source": [
    "Las funciones implementadas pueden tan complejas como sea necesario"
   ]
  },
  {
   "cell_type": "code",
   "execution_count": 8,
   "metadata": {
    "collapsed": false
   },
   "outputs": [
    {
     "name": "stdout",
     "output_type": "stream",
     "text": [
      "3.0\n",
      "7.0\n"
     ]
    }
   ],
   "source": [
    "x = T.scalar()\n",
    "y = T.scalar()\n",
    "\n",
    "z = x + y\n",
    "\n",
    "f = theano.function(inputs = [x, y], outputs = z)\n",
    "print f(1, 2)\n",
    "\n",
    "def sum_vars(x, y):\n",
    "    return x + y\n",
    "\n",
    "z = sum_vars(x, y)\n",
    "\n",
    "f = theano.function(inputs = [x, y], outputs = z)\n",
    "print f(3, 4)"
   ]
  },
  {
   "cell_type": "markdown",
   "metadata": {},
   "source": [
    "## Tipos de datos\n",
    "\n",
    "En Theano existen otros tipos de variables para contener vectores, matrices y tensores, así como las funciones para realizar operaciones con estas variables."
   ]
  },
  {
   "cell_type": "code",
   "execution_count": 9,
   "metadata": {
    "collapsed": false
   },
   "outputs": [
    {
     "name": "stdout",
     "output_type": "stream",
     "text": [
      "[array([ 18.,  37.]), array(91.0)]\n",
      "[array([ 14.,  32.]), array(91.0)]\n"
     ]
    }
   ],
   "source": [
    "A = T.matrix()\n",
    "x = T.vector()\n",
    "b = T.vector()\n",
    "\n",
    "y = T.dot(A, x) + b\n",
    "z = T.sum(A**2)\n",
    "\n",
    "# Las funciones pueden tener valores por defecto.\n",
    "b_default = np.array([0, 0], dtype = theano.config.floatX)\n",
    "\n",
    "# Las funciones pueden evaluar varias operaciones.\n",
    "linear_mix = theano.function(inputs = [A, x, theano.Param(b, default=b_default)], outputs = [y, z])\n",
    "\n",
    "# Utilizando un valor de b.\n",
    "print linear_mix(np.array([[1, 2, 3],\n",
    "                           [4, 5, 6]], dtype = theano.config.floatX), #A\n",
    "                 np.array([1, 2, 3], dtype = theano.config.floatX), #x\n",
    "                 np.array([4, 5], dtype = theano.config.floatX)) #b\n",
    "\n",
    "# Utilizando el valor de b por defecto.\n",
    "print linear_mix(np.array([[1, 2, 3],\n",
    "                           [4, 5, 6]]), #A\n",
    "                 np.array([1, 2, 3])) #x"
   ]
  },
  {
   "cell_type": "markdown",
   "metadata": {},
   "source": [
    "## Variables compartidas\n",
    "\n",
    "La variables simbólicas de Theano no tienen valores explícitos, solamente se utilizan para indicar las operaciones a realizar. Las variables compartidas son las que se han de utilizar cuando se desee indicar un valor explícito."
   ]
  },
  {
   "cell_type": "code",
   "execution_count": 10,
   "metadata": {
    "collapsed": false
   },
   "outputs": [
    {
     "name": "stdout",
     "output_type": "stream",
     "text": [
      "[[ 1.  2.]\n",
      " [ 3.  4.]]\n",
      "[[ 3.  4.]\n",
      " [ 2.  1.]]\n"
     ]
    }
   ],
   "source": [
    "shared_var = theano.shared(np.array([[1, 2], [3, 4]], dtype = theano.config.floatX))\n",
    "print shared_var.get_value()\n",
    "\n",
    "shared_var.set_value(np.array([[3, 4], [2, 1]], dtype=theano.config.floatX))\n",
    "print shared_var.get_value()"
   ]
  },
  {
   "cell_type": "markdown",
   "metadata": {},
   "source": [
    "Se pueden crear funciones con variables compartidas que no necesitan parámetros de entrada."
   ]
  },
  {
   "cell_type": "code",
   "execution_count": 11,
   "metadata": {
    "collapsed": false
   },
   "outputs": [
    {
     "name": "stdout",
     "output_type": "stream",
     "text": [
      "[[ 3.  4.]\n",
      " [ 2.  1.]]\n",
      "[[  9.  16.]\n",
      " [  4.   1.]]\n"
     ]
    }
   ],
   "source": [
    "f = theano.function([], shared_var)\n",
    "print f()\n",
    "\n",
    "share_fun = shared_var ** 2\n",
    "\n",
    "f = theano.function(inputs = [], outputs = share_fun)\n",
    "print f()"
   ]
  },
  {
   "cell_type": "markdown",
   "metadata": {},
   "source": [
    "### Actualización de variables compartidas\n",
    "\n",
    "Los valores de una variable compartida se pueden actualizar en las funciones utilizando argumentos de actualización. Esto hace que el valor de la variable se cambie también en Python."
   ]
  },
  {
   "cell_type": "code",
   "execution_count": 12,
   "metadata": {
    "collapsed": false
   },
   "outputs": [
    {
     "name": "stdout",
     "output_type": "stream",
     "text": [
      "[[ 3.  4.]\n",
      " [ 2.  1.]]\n",
      "[[ 2.  3.]\n",
      " [ 1.  0.]]\n",
      "[[ 4.  9.]\n",
      " [ 1.  0.]]\n"
     ]
    }
   ],
   "source": [
    "subtract = T.matrix()\n",
    "f_2      = theano.function(inputs = [subtract], outputs = shared_var, updates = {shared_var: shared_var - subtract})\n",
    "\n",
    "print shared_var.get_value()\n",
    "\n",
    "f_2(np.array([[1, 1], [1, 1]]))\n",
    "\n",
    "print shared_var.get_value()\n",
    "\n",
    "print f()"
   ]
  },
  {
   "cell_type": "markdown",
   "metadata": {},
   "source": [
    "## Gradientes\n",
    "\n",
    "Una de las ventajas de utilizar Theano es su capacidad para calcular gradientes de funciones. Esto permite definir una función simbólica y calculas si derivada numérica."
   ]
  },
  {
   "cell_type": "code",
   "execution_count": 13,
   "metadata": {
    "collapsed": false
   },
   "outputs": [
    {
     "data": {
      "text/plain": [
       "array(20.0)"
      ]
     },
     "execution_count": 13,
     "metadata": {},
     "output_type": "execute_result"
    }
   ],
   "source": [
    "x = T.scalar()\n",
    "y = x**2\n",
    "\n",
    "# y_grad = dy/dx\n",
    "y_grad = T.grad(y, x)\n",
    "\n",
    "# dy/dx = 2 * x\n",
    "y_grad.eval({x: 10})"
   ]
  },
  {
   "cell_type": "markdown",
   "metadata": {},
   "source": [
    "## Uso de la GPU en Theano\n",
    "\n",
    "Theano puede compilar de forma transparente en el CPU o el GPU del ordenador (en hardware soportado). Las opciones se pueden configurar en archivos de configuración y consultar en código."
   ]
  },
  {
   "cell_type": "code",
   "execution_count": 14,
   "metadata": {
    "collapsed": false
   },
   "outputs": [
    {
     "name": "stdout",
     "output_type": "stream",
     "text": [
      "cpu\n",
      "float64\n"
     ]
    }
   ],
   "source": [
    "print theano.config.device\n",
    "print theano.config.floatX"
   ]
  },
  {
   "cell_type": "markdown",
   "metadata": {},
   "source": [
    "## Uso de Theano para la estimación de una regresión\n",
    "\n",
    "En Theano se puede utilizar el gradiente para implementar una función de coste y realizar una estimación lineal."
   ]
  },
  {
   "cell_type": "code",
   "execution_count": 15,
   "metadata": {
    "collapsed": false
   },
   "outputs": [
    {
     "name": "stdout",
     "output_type": "stream",
     "text": [
      "En el paso  0  el valor de w es  0.983420399751  y el coste es Sum{acc_dtype=float64}.0\n",
      "En el paso  1  el valor de w es  1.4761658561  y el coste es Sum{acc_dtype=float64}.0\n",
      "En el paso  2  el valor de w es  1.72305730234  y el coste es Sum{acc_dtype=float64}.0\n",
      "En el paso  3  el valor de w es  1.84676293055  y el coste es Sum{acc_dtype=float64}.0\n",
      "En el paso  4  el valor de w es  1.90874597081  y el coste es Sum{acc_dtype=float64}.0\n",
      "En el paso  5  el valor de w es  1.9398027411  y el coste es Sum{acc_dtype=float64}.0\n",
      "En el paso  6  el valor de w es  1.95536382002  y el coste es Sum{acc_dtype=float64}.0\n",
      "En el paso  7  el valor de w es  1.96316074078  y el coste es Sum{acc_dtype=float64}.0\n",
      "En el paso  8  el valor de w es  1.96706740906  y el coste es Sum{acc_dtype=float64}.0\n",
      "En el paso  9  el valor de w es  1.96902485579  y el coste es Sum{acc_dtype=float64}.0\n"
     ]
    }
   ],
   "source": [
    "trX = np.linspace(-1, 1, 101)\n",
    "trY = 2 * trX + np.random.randn(*trX.shape) * 0.33\n",
    "\n",
    "X = T.scalar()\n",
    "Y = T.scalar()\n",
    "\n",
    "def model(X, w):\n",
    "    return X * w\n",
    "\n",
    "w = theano.shared(np.asarray(0., dtype = theano.config.floatX))\n",
    "y = model(X, w)\n",
    "\n",
    "cost     = T.mean(T.sqr(y - Y))\n",
    "gradient = T.grad(cost = cost, wrt = w)\n",
    "updates  = [[w, w - gradient * 0.01]]\n",
    "\n",
    "train = theano.function(inputs = [X, Y], outputs = cost, updates = updates, allow_input_downcast = True)\n",
    "\n",
    "for i in range(10):\n",
    "    for x, y in zip(trX, trY):\n",
    "        train(x, y)\n",
    "    print 'En el paso ', i, ' el valor de w es ', w.get_value(), ' y el coste es', cost"
   ]
  },
  {
   "cell_type": "markdown",
   "metadata": {},
   "source": [
    "## Aprendizaje profundo"
   ]
  },
  {
   "cell_type": "markdown",
   "metadata": {},
   "source": [
    "### Funciones para la carga del conjunto de datos"
   ]
  },
  {
   "cell_type": "code",
   "execution_count": 18,
   "metadata": {
    "collapsed": false
   },
   "outputs": [],
   "source": [
    "import os\n",
    "\n",
    "datasets_dir = ''\n",
    "\n",
    "def one_hot(x,n):\n",
    "    if type(x) == list:\n",
    "        x = np.array(x)\n",
    "    x = x.flatten()\n",
    "    o_h = np.zeros((len(x),n))\n",
    "    o_h[np.arange(len(x)),x] = 1\n",
    "    return o_h\n",
    "\n",
    "def mnist(ntrain=60000,ntest=10000,onehot=True):\n",
    "    data_dir = os.path.join(datasets_dir,'mnist/')\n",
    "    fd = open(os.path.join(data_dir,'train-images-idx3-ubyte'))\n",
    "    loaded = np.fromfile(file=fd,dtype=np.uint8)\n",
    "    trX = loaded[16:].reshape((60000,28*28)).astype(float)\n",
    "\n",
    "    fd = open(os.path.join(data_dir,'train-labels-idx1-ubyte'))\n",
    "    loaded = np.fromfile(file=fd,dtype=np.uint8)\n",
    "    trY = loaded[8:].reshape((60000))\n",
    "\n",
    "    fd = open(os.path.join(data_dir,'t10k-images-idx3-ubyte'))\n",
    "    loaded = np.fromfile(file=fd,dtype=np.uint8)\n",
    "    teX = loaded[16:].reshape((10000,28*28)).astype(float)\n",
    "\n",
    "    fd = open(os.path.join(data_dir,'t10k-labels-idx1-ubyte'))\n",
    "    loaded = np.fromfile(file=fd,dtype=np.uint8)\n",
    "    teY = loaded[8:].reshape((10000))\n",
    "\n",
    "    trX = trX/255.\n",
    "    teX = teX/255.\n",
    "\n",
    "    trX = trX[:ntrain]\n",
    "    trY = trY[:ntrain]\n",
    "\n",
    "    teX = teX[:ntest]\n",
    "    teY = teY[:ntest]\n",
    "\n",
    "    if onehot:\n",
    "        trY = one_hot(trY, 10)\n",
    "        teY = one_hot(teY, 10)\n",
    "    else:\n",
    "        trY = np.asarray(trY)\n",
    "        teY = np.asarray(teY)\n",
    "\n",
    "    return trX,teX,trY,teY"
   ]
  },
  {
   "cell_type": "markdown",
   "metadata": {},
   "source": [
    "Se importa un conjunto de datos con capturas de imágenes escritas a mano etiquetas."
   ]
  },
  {
   "cell_type": "code",
   "execution_count": 19,
   "metadata": {
    "collapsed": false
   },
   "outputs": [
    {
     "name": "stdout",
     "output_type": "stream",
     "text": [
      "[ 0.  0.  0.  0.  0.  1.  0.  0.  0.  0.]\n"
     ]
    },
    {
     "data": {
      "image/png": "[encoded data removed]",
      "text/plain": [
       "<matplotlib.figure.Figure at 0x108905390>"
      ]
     },
     "metadata": {},
     "output_type": "display_data"
    },
    {
     "name": "stdout",
     "output_type": "stream",
     "text": [
      "[ 1.  0.  0.  0.  0.  0.  0.  0.  0.  0.]\n"
     ]
    },
    {
     "data": {
      "image/png": "[encoded data removed]",
      "text/plain": [
       "<matplotlib.figure.Figure at 0x10f282310>"
      ]
     },
     "metadata": {},
     "output_type": "display_data"
    },
    {
     "name": "stdout",
     "output_type": "stream",
     "text": [
      "[ 0.  0.  0.  0.  1.  0.  0.  0.  0.  0.]\n"
     ]
    },
    {
     "data": {
      "image/png": "[encoded data removed]",
      "text/plain": [
       "<matplotlib.figure.Figure at 0x10f4a1a90>"
      ]
     },
     "metadata": {},
     "output_type": "display_data"
    }
   ],
   "source": [
    "trX, teX, trY, teY = mnist()\n",
    "\n",
    "print trY[0,:]\n",
    "imshow(trX[0,:].reshape(28, 28), cmap = mpl.cm.gray)\n",
    "show()\n",
    "\n",
    "print trY[1,:]\n",
    "imshow(trX[1,:].reshape(28, 28), cmap = mpl.cm.gray)\n",
    "show()\n",
    "\n",
    "print trY[2,:]\n",
    "imshow(trX[2,:].reshape(28, 28), cmap = mpl.cm.gray)\n",
    "show()"
   ]
  },
  {
   "cell_type": "markdown",
   "metadata": {},
   "source": [
    "### Regresión logística\n",
    "\n",
    "Se emplea la función tensor.nnet.softmax que tiene la forma\n",
    "$$\n",
    "Softmax_{ij}(x) = \\frac{\\exp(x_{ij})}{\\sum_k \\exp(x_{ik})}\n",
    "$$\n",
    "para modelar las imágenes."
   ]
  },
  {
   "cell_type": "code",
   "execution_count": 20,
   "metadata": {
    "collapsed": false
   },
   "outputs": [
    {
     "name": "stdout",
     "output_type": "stream",
     "text": [
      "0 0.8853\n",
      "1 0.8979\n",
      "2 0.9046\n",
      "3 0.9086\n",
      "4 0.9103\n",
      "5 0.9115\n",
      "6 0.9126\n",
      "7 0.9143\n",
      "8 0.9155\n",
      "9 0.9162\n",
      "10 0.9163\n",
      "11 0.917\n",
      "12 0.9175\n",
      "13 0.9175\n",
      "14 0.9177\n",
      "15 0.9178\n",
      "16 0.9183\n",
      "17 0.9185\n",
      "18 0.9191\n",
      "19 0.9197\n",
      "20 0.9201\n",
      "21 0.9202\n",
      "22 0.9204\n",
      "23 0.9199\n",
      "24 0.9202\n"
     ]
    }
   ],
   "source": [
    "def floatX(X):\n",
    "    return np.asarray(X, dtype=theano.config.floatX)\n",
    "\n",
    "def init_weights(shape):\n",
    "    return theano.shared(floatX(np.random.randn(*shape) * 0.01))\n",
    "\n",
    "def model(X, w):\n",
    "    return T.nnet.softmax(T.dot(X, w))\n",
    "\n",
    "trX, teX, trY, teY = mnist()\n",
    "\n",
    "X = T.fmatrix()\n",
    "Y = T.fmatrix()\n",
    "\n",
    "w = init_weights((784, 10))\n",
    "\n",
    "py_x = model(X, w)\n",
    "y_pred = T.argmax(py_x, axis=1)\n",
    "\n",
    "cost = T.mean(T.nnet.categorical_crossentropy(py_x, Y))\n",
    "gradient = T.grad(cost=cost, wrt=w)\n",
    "update = [[w, w - gradient * 0.05]]\n",
    "\n",
    "train = theano.function(inputs=[X, Y], outputs=cost, updates=update, allow_input_downcast=True)\n",
    "predict = theano.function(inputs=[X], outputs=y_pred, allow_input_downcast=True)\n",
    "\n",
    "for i in range(25):\n",
    "    for start, end in zip(range(0, len(trX), 128), range(128, len(trX), 128)):\n",
    "        cost = train(trX[start:end], trY[start:end])\n",
    "    print i, np.mean(np.argmax(teY, axis=1) == predict(teX))\n"
   ]
  },
  {
   "cell_type": "markdown",
   "metadata": {},
   "source": [
    "### Entrenamiento de una red neuronal\n",
    "\n",
    "El entrenamiento de una red neuronal con dos capas mediante propagación hacia atrás."
   ]
  },
  {
   "cell_type": "code",
   "execution_count": 21,
   "metadata": {
    "collapsed": false
   },
   "outputs": [
    {
     "name": "stdout",
     "output_type": "stream",
     "text": [
      "0 0.7019\n",
      "1 0.8277\n",
      "2 0.8672\n",
      "3 0.8834\n",
      "4 0.8901\n",
      "5 0.895\n",
      "6 0.8986\n",
      "7 0.9022\n",
      "8 0.9051\n",
      "9 0.9068\n",
      "10 0.9096\n",
      "11 0.9112\n",
      "12 0.9126\n",
      "13 0.9141\n",
      "14 0.9147\n",
      "15 0.9154\n",
      "16 0.9167\n",
      "17 0.9173\n",
      "18 0.9178\n",
      "19 0.9183\n",
      "20 0.919\n",
      "21 0.9195\n",
      "22 0.9195\n",
      "23 0.9199\n",
      "24 0.9204\n"
     ]
    }
   ],
   "source": [
    "def floatX(X):\n",
    "    return np.asarray(X, dtype=theano.config.floatX)\n",
    "\n",
    "def init_weights(shape):\n",
    "    return theano.shared(floatX(np.random.randn(*shape) * 0.01))\n",
    "\n",
    "def sgd(cost, params, lr=0.05):\n",
    "    grads = T.grad(cost=cost, wrt=params)\n",
    "    updates = []\n",
    "    for p, g in zip(params, grads):\n",
    "        updates.append([p, p - g * lr])\n",
    "    return updates\n",
    "\n",
    "def model(X, w_h, w_o):\n",
    "    h = T.nnet.sigmoid(T.dot(X, w_h))\n",
    "    pyx = T.nnet.softmax(T.dot(h, w_o))\n",
    "    return pyx\n",
    "\n",
    "trX, teX, trY, teY = mnist(onehot=True)\n",
    "\n",
    "X = T.fmatrix()\n",
    "Y = T.fmatrix()\n",
    "\n",
    "w_h = init_weights((784, 625))\n",
    "w_o = init_weights((625, 10))\n",
    "\n",
    "py_x = model(X, w_h, w_o)\n",
    "y_x = T.argmax(py_x, axis=1)\n",
    "\n",
    "cost = T.mean(T.nnet.categorical_crossentropy(py_x, Y))\n",
    "params = [w_h, w_o]\n",
    "updates = sgd(cost, params)\n",
    "\n",
    "train = theano.function(inputs=[X, Y], outputs=cost, updates=updates, allow_input_downcast=True)\n",
    "predict = theano.function(inputs=[X], outputs=y_x, allow_input_downcast=True)\n",
    "\n",
    "for i in range(25):\n",
    "    for start, end in zip(range(0, len(trX), 128), range(128, len(trX), 128)):\n",
    "        cost = train(trX[start:end], trY[start:end])\n",
    "    print i, np.mean(np.argmax(teY, axis=1) == predict(teX))"
   ]
  },
  {
   "cell_type": "markdown",
   "metadata": {},
   "source": [
    "### Entrenamiento de una red neuronal"
   ]
  },
  {
   "cell_type": "code",
   "execution_count": 22,
   "metadata": {
    "collapsed": false
   },
   "outputs": [
    {
     "name": "stdout",
     "output_type": "stream",
     "text": [
      "0 0.9413\n",
      "1 0.9635\n",
      "2 0.9721\n",
      "3 0.9764\n",
      "4 0.9763\n",
      "5 0.9788\n",
      "6 0.9787\n",
      "7 0.9796\n",
      "8 0.9823\n",
      "9 0.9821\n",
      "10 0.9833\n",
      "11 0.9829\n",
      "12 0.983\n",
      "13 0.9842\n",
      "14 0.9844\n",
      "15 0.9829\n",
      "16 0.9842\n",
      "17 0.9837\n",
      "18 0.9853\n",
      "19 0.9841\n",
      "20 0.9839\n",
      "21 0.9848\n",
      "22 0.9843\n",
      "23 0.9854\n",
      "24 0.9854\n"
     ]
    }
   ],
   "source": [
    "from theano.sandbox.rng_mrg import MRG_RandomStreams as RandomStreams\n",
    "\n",
    "srng = RandomStreams()\n",
    "\n",
    "def floatX(X):\n",
    "    return np.asarray(X, dtype=theano.config.floatX)\n",
    "\n",
    "def init_weights(shape):\n",
    "    return theano.shared(floatX(np.random.randn(*shape) * 0.01))\n",
    "\n",
    "def rectify(X):\n",
    "    return T.maximum(X, 0.)\n",
    "\n",
    "def softmax(X):\n",
    "    e_x = T.exp(X - X.max(axis=1).dimshuffle(0, 'x'))\n",
    "    return e_x / e_x.sum(axis=1).dimshuffle(0, 'x')\n",
    "\n",
    "def RMSprop(cost, params, lr=0.001, rho=0.9, epsilon=1e-6):\n",
    "    grads = T.grad(cost=cost, wrt=params)\n",
    "    updates = []\n",
    "    for p, g in zip(params, grads):\n",
    "        acc = theano.shared(p.get_value() * 0.)\n",
    "        acc_new = rho * acc + (1 - rho) * g ** 2\n",
    "        gradient_scaling = T.sqrt(acc_new + epsilon)\n",
    "        g = g / gradient_scaling\n",
    "        updates.append((acc, acc_new))\n",
    "        updates.append((p, p - lr * g))\n",
    "    return updates\n",
    "\n",
    "def dropout(X, p=0.):\n",
    "    if p > 0:\n",
    "        retain_prob = 1 - p\n",
    "        X *= srng.binomial(X.shape, p=retain_prob, dtype=theano.config.floatX)\n",
    "        X /= retain_prob\n",
    "    return X\n",
    "\n",
    "def model(X, w_h, w_h2, w_o, p_drop_input, p_drop_hidden):\n",
    "    X = dropout(X, p_drop_input)\n",
    "    h = rectify(T.dot(X, w_h))\n",
    "\n",
    "    h = dropout(h, p_drop_hidden)\n",
    "    h2 = rectify(T.dot(h, w_h2))\n",
    "\n",
    "    h2 = dropout(h2, p_drop_hidden)\n",
    "    py_x = softmax(T.dot(h2, w_o))\n",
    "    return h, h2, py_x\n",
    "\n",
    "trX, teX, trY, teY = mnist(onehot=True)\n",
    "\n",
    "X = T.fmatrix()\n",
    "Y = T.fmatrix()\n",
    "\n",
    "w_h = init_weights((784, 625))\n",
    "w_h2 = init_weights((625, 625))\n",
    "w_o = init_weights((625, 10))\n",
    "\n",
    "noise_h, noise_h2, noise_py_x = model(X, w_h, w_h2, w_o, 0.2, 0.5)\n",
    "h, h2, py_x = model(X, w_h, w_h2, w_o, 0., 0.)\n",
    "y_x = T.argmax(py_x, axis=1)\n",
    "\n",
    "cost = T.mean(T.nnet.categorical_crossentropy(noise_py_x, Y))\n",
    "params = [w_h, w_h2, w_o]\n",
    "updates = RMSprop(cost, params, lr=0.001)\n",
    "\n",
    "train = theano.function(inputs=[X, Y], outputs=cost, updates=updates, allow_input_downcast=True)\n",
    "predict = theano.function(inputs=[X], outputs=y_x, allow_input_downcast=True)\n",
    "\n",
    "for i in range(25):\n",
    "    for start, end in zip(range(0, len(trX), 128), range(128, len(trX), 128)):\n",
    "        cost = train(trX[start:end], trY[start:end])\n",
    "    print i, np.mean(np.argmax(teY, axis=1) == predict(teX))"
   ]
  },
  {
   "cell_type": "code",
   "execution_count": null,
   "metadata": {
    "collapsed": true
   },
   "outputs": [],
   "source": []
  }
 ],
 "metadata": {
  "kernelspec": {
   "display_name": "Python 2",
   "language": "python",
   "name": "python2"
  },
  "language_info": {
   "codemirror_mode": {
    "name": "ipython",
    "version": 2
   },
   "file_extension": ".py",
   "mimetype": "text/x-python",
   "name": "python",
   "nbconvert_exporter": "python",
   "pygments_lexer": "ipython2",
   "version": "2.7.10"
  }
 },
 "nbformat": 4,
 "nbformat_minor": 0
}
