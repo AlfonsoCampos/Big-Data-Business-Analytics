{
 "cells": [
  {
   "cell_type": "markdown",
   "metadata": {},
   "source": [
    "# Análisis de componentes principales (PCA)"
   ]
  },
  {
   "cell_type": "code",
   "execution_count": 1,
   "metadata": {
    "collapsed": false
   },
   "outputs": [
    {
     "name": "stdout",
     "output_type": "stream",
     "text": [
      "Using matplotlib backend: MacOSX\n",
      "Populating the interactive namespace from numpy and matplotlib\n"
     ]
    }
   ],
   "source": [
    "%pylab\n",
    "%matplotlib inline"
   ]
  },
  {
   "cell_type": "markdown",
   "metadata": {},
   "source": [
    "## Introducción\n",
    "\n",
    "### Varianza y Covarianza"
   ]
  },
  {
   "cell_type": "code",
   "execution_count": 2,
   "metadata": {
    "collapsed": false
   },
   "outputs": [
    {
     "name": "stdout",
     "output_type": "stream",
     "text": [
      "[[ 0.04916667  0.02333333  0.01916667]\n",
      " [ 0.02333333  0.01333333  0.00333333]\n",
      " [ 0.01916667  0.00333333  0.04916667]]\n"
     ]
    }
   ],
   "source": [
    "x = np.array([[2,     2.2,  2.4, 1.9],\n",
    "              [0,     0.2,  0.2, 0],\n",
    "              [-1.4, -1.5, -1,  -1.2]])\n",
    "        \n",
    "print np.cov(x)"
   ]
  },
  {
   "cell_type": "code",
   "execution_count": 3,
   "metadata": {
    "collapsed": false
   },
   "outputs": [
    {
     "name": "stdout",
     "output_type": "stream",
     "text": [
      "[[ 2.92        3.16        2.94        2.67      ]\n",
      " [ 3.16        3.43        3.17        2.885     ]\n",
      " [ 2.94        3.17        2.97333333  2.69333333]\n",
      " [ 2.67        2.885       2.69333333  2.44333333]]\n"
     ]
    }
   ],
   "source": [
    "print np.cov(x.T)"
   ]
  },
  {
   "cell_type": "markdown",
   "metadata": {},
   "source": [
    "### Vectores propios y valores propios"
   ]
  },
  {
   "cell_type": "code",
   "execution_count": 4,
   "metadata": {
    "collapsed": false
   },
   "outputs": [
    {
     "name": "stdout",
     "output_type": "stream",
     "text": [
      "Vectores propios: [[ 0.70710678  0.70710678]\n",
      " [ 0.70710678  0.70710678]]\n",
      "Valores propios:  [-0.99999998 -1.00000002]\n"
     ]
    }
   ],
   "source": [
    "x = np.array([[1, -2],\n",
    "              [2, -3]])\n",
    "\n",
    "l, v = np.linalg.eig(x)\n",
    "\n",
    "print \"Vectores propios:\", v\n",
    "print \"Valores propios: \", l"
   ]
  },
  {
   "cell_type": "markdown",
   "metadata": {},
   "source": [
    "## Reducción de la dimensinalidad con PCA"
   ]
  },
  {
   "cell_type": "code",
   "execution_count": 5,
   "metadata": {
    "collapsed": false
   },
   "outputs": [
    {
     "name": "stdout",
     "output_type": "stream",
     "text": [
      "\n",
      "Primer componente:  [-0.40200434  1.78596968  0.29427599 -0.89923557 -1.04573848  0.5295593\n",
      " -0.96731071 -1.11381362  1.85922114 -0.04092339]\n",
      "Segundo componente:  [ 0.03595149 -0.1149447  -0.27258328 -0.0165947  -0.15274498  0.35562192\n",
      "  0.05665675 -0.07949352 -0.04686956  0.23500059]\n"
     ]
    }
   ],
   "source": [
    "x = np.array([[0.9, 1],\n",
    "              [2.4, 2.6],\n",
    "              [1.2, 1.7],\n",
    "              [0.5, 0.7],\n",
    "              [0.3, 0.7],\n",
    "              [1.8, 1.4],\n",
    "              [0.5, 0.6],\n",
    "              [0.3, 0.6],\n",
    "              [2.5, 2.6],\n",
    "              [1.3, 1.1]])\n",
    "\n",
    "y = np.array([x.T[0] - mean(x.T[0]),\n",
    "              x.T[1] - mean(x.T[1])])\n",
    "c = np.cov(y)\n",
    "\n",
    "l, v = np.linalg.eig(c)\n",
    "\n",
    "print \n",
    "\n",
    "print \"Primer componente: \", dot(y.T, v.T[0])\n",
    "print \"Segundo componente: \", -dot(y.T, v.T[1])"
   ]
  },
  {
   "cell_type": "markdown",
   "metadata": {},
   "source": [
    "Utilizando `sklearn`"
   ]
  },
  {
   "cell_type": "code",
   "execution_count": 6,
   "metadata": {
    "collapsed": false
   },
   "outputs": [
    {
     "name": "stdout",
     "output_type": "stream",
     "text": [
      "[[-0.40200434  0.03595149]\n",
      " [ 1.78596968 -0.1149447 ]\n",
      " [ 0.29427599 -0.27258328]\n",
      " [-0.89923557 -0.0165947 ]\n",
      " [-1.04573848 -0.15274498]\n",
      " [ 0.5295593   0.35562192]\n",
      " [-0.96731071  0.05665675]\n",
      " [-1.11381362 -0.07949352]\n",
      " [ 1.85922114 -0.04686956]\n",
      " [-0.04092339  0.23500059]]\n"
     ]
    }
   ],
   "source": [
    "from sklearn.decomposition import PCA\n",
    "print PCA(n_components=2).fit_transform(x)"
   ]
  },
  {
   "cell_type": "markdown",
   "metadata": {},
   "source": [
    "## Aplicaciones\n",
    "\n",
    "### Utilización PCA para visualizar datos\n",
    "\n",
    "Se importa el conjunto de datos de iris que contiene 4 medidas de 150 variedades de flores correspondientes a tres tipos de flores"
   ]
  },
  {
   "cell_type": "code",
   "execution_count": 7,
   "metadata": {
    "collapsed": false
   },
   "outputs": [
    {
     "name": "stdout",
     "output_type": "stream",
     "text": [
      "[[ 5.1  3.5  1.4  0.2]\n",
      " [ 4.9  3.   1.4  0.2]\n",
      " [ 4.7  3.2  1.3  0.2]\n",
      " [ 4.6  3.1  1.5  0.2]\n",
      " [ 5.   3.6  1.4  0.2]]\n"
     ]
    }
   ],
   "source": [
    "from sklearn import datasets\n",
    "\n",
    "iris_names  = datasets.load_iris().target_names\n",
    "iris_target = datasets.load_iris().target\n",
    "iris_values = datasets.load_iris().data\n",
    "\n",
    "print iris_values[0:5, :]"
   ]
  },
  {
   "cell_type": "markdown",
   "metadata": {},
   "source": [
    "#### Representación de los datos en dos dimensiones"
   ]
  },
  {
   "cell_type": "code",
   "execution_count": 8,
   "metadata": {
    "collapsed": false
   },
   "outputs": [
    {
     "data": {
      "text/plain": [
       "<matplotlib.legend.Legend at 0x108125fd0>"
      ]
     },
     "execution_count": 8,
     "metadata": {},
     "output_type": "execute_result"
    },
    {
     "data": {
      "image/png": "[encoded data removed]",
      "text/plain": [
       "<matplotlib.figure.Figure at 0x107f4d390>"
      ]
     },
     "metadata": {},
     "output_type": "display_data"
    }
   ],
   "source": [
    "scatter(iris_values[iris_target == 0, 0], iris_values[iris_target == 0, 1], c='r')\n",
    "scatter(iris_values[iris_target == 1, 0], iris_values[iris_target == 1, 1], c='g')\n",
    "scatter(iris_values[iris_target == 2, 0], iris_values[iris_target == 2, 1], c='b')\n",
    "legend(iris_names)"
   ]
  },
  {
   "cell_type": "code",
   "execution_count": 9,
   "metadata": {
    "collapsed": false
   },
   "outputs": [
    {
     "data": {
      "text/plain": [
       "<matplotlib.legend.Legend at 0x1082c56d0>"
      ]
     },
     "execution_count": 9,
     "metadata": {},
     "output_type": "execute_result"
    },
    {
     "data": {
      "image/png": "[encoded data removed]",
      "text/plain": [
       "<matplotlib.figure.Figure at 0x10814b8d0>"
      ]
     },
     "metadata": {},
     "output_type": "display_data"
    }
   ],
   "source": [
    "scatter(iris_values[iris_target == 0, 2], iris_values[iris_target == 0, 3], c='r')\n",
    "scatter(iris_values[iris_target == 1, 2], iris_values[iris_target == 1, 3], c='g')\n",
    "scatter(iris_values[iris_target == 2, 2], iris_values[iris_target == 2, 3], c='b')\n",
    "legend(iris_names)"
   ]
  },
  {
   "cell_type": "markdown",
   "metadata": {},
   "source": [
    "#### Utilización de PCA para la selección de las componentes que explican la mayo variabilidad"
   ]
  },
  {
   "cell_type": "code",
   "execution_count": 10,
   "metadata": {
    "collapsed": false
   },
   "outputs": [
    {
     "name": "stdout",
     "output_type": "stream",
     "text": [
      "Varianza explicada con 1 componentes: 0.924616207174\n",
      "Varianza explicada con 2 componentes: 0.977631775025\n",
      "Varianza explicada con 3 componentes: 0.99481691455\n",
      "Varianza explicada con 4 componentes: 1.0\n"
     ]
    }
   ],
   "source": [
    "pca      = PCA(n_components = None)\n",
    "iris_pca = pca.fit_transform(iris_values)\n",
    "\n",
    "for i in range(shape(iris_pca)[1]):\n",
    "    print \"Varianza explicada con\", i + 1, \"componentes:\", pca.explained_variance_ratio_[range(i + 1)].sum()"
   ]
  },
  {
   "cell_type": "code",
   "execution_count": 11,
   "metadata": {
    "collapsed": false
   },
   "outputs": [
    {
     "data": {
      "text/plain": [
       "<matplotlib.legend.Legend at 0x1085279d0>"
      ]
     },
     "execution_count": 11,
     "metadata": {},
     "output_type": "execute_result"
    },
    {
     "data": {
      "image/png": "[encoded data removed]",
      "text/plain": [
       "<matplotlib.figure.Figure at 0x1082ea0d0>"
      ]
     },
     "metadata": {},
     "output_type": "display_data"
    }
   ],
   "source": [
    "scatter(iris_pca[iris_target == 0, 0], iris_pca[iris_target == 0, 1], c='r')\n",
    "scatter(iris_pca[iris_target == 1, 0], iris_pca[iris_target == 1, 1], c='g')\n",
    "scatter(iris_pca[iris_target == 2, 0], iris_pca[iris_target == 2, 1], c='b')\n",
    "legend(iris_names)"
   ]
  }
 ],
 "metadata": {
  "kernelspec": {
   "display_name": "Python 2",
   "language": "python",
   "name": "python2"
  },
  "language_info": {
   "codemirror_mode": {
    "name": "ipython",
    "version": 2
   },
   "file_extension": ".py",
   "mimetype": "text/x-python",
   "name": "python",
   "nbconvert_exporter": "python",
   "pygments_lexer": "ipython2",
   "version": "2.7.10"
  }
 },
 "nbformat": 4,
 "nbformat_minor": 0
}
