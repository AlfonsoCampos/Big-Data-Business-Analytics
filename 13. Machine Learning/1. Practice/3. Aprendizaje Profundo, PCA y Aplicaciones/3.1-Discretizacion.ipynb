{
 "cells": [
  {
   "cell_type": "markdown",
   "metadata": {},
   "source": [
    "# Discretización de variables en modelos de clasificación"
   ]
  },
  {
   "cell_type": "code",
   "execution_count": 1,
   "metadata": {
    "collapsed": false,
    "scrolled": true
   },
   "outputs": [
    {
     "name": "stdout",
     "output_type": "stream",
     "text": [
      "Using matplotlib backend: MacOSX\n",
      "Populating the interactive namespace from numpy and matplotlib\n"
     ]
    }
   ],
   "source": [
    "%pylab\n",
    "%matplotlib inline"
   ]
  },
  {
   "cell_type": "code",
   "execution_count": 2,
   "metadata": {
    "collapsed": true
   },
   "outputs": [],
   "source": [
    "from sklearn.metrics import accuracy_score, auc, confusion_matrix, f1_score, precision_score, recall_score, roc_curve\n",
    "\n",
    "def metricas_modelos(y_true, y_pred):\n",
    "    from sklearn.metrics import accuracy_score, auc, confusion_matrix, f1_score, precision_score, recall_score, roc_curve\n",
    "\n",
    "    # Obtención de matriz de confusión\n",
    "    confusion_matrix = confusion_matrix(y_true, y_pred)\n",
    "\n",
    "    print \"La matriz de confusión es \"\n",
    "    print confusion_matrix\n",
    "\n",
    "    print 'Precisión:', accuracy_score(y_true, y_pred)\n",
    "    print 'Exactitud:', precision_score(y_true, y_pred)\n",
    "    print 'Exhaustividad:', recall_score(y_true, y_pred)\n",
    "    print 'F1:', f1_score(y_true, y_pred)\n",
    "\n",
    "    false_positive_rate, recall, thresholds = roc_curve(y_true, y_pred)\n",
    "    roc_auc = auc(false_positive_rate, recall)\n",
    "\n",
    "    print 'AUC:', auc(false_positive_rate, recall)\n",
    "\n",
    "    plot(false_positive_rate, recall, 'b')\n",
    "    plot([0, 1], [0, 1], 'r--')\n",
    "    title('AUC = %0.2f' % roc_auc)"
   ]
  },
  {
   "cell_type": "markdown",
   "metadata": {},
   "source": [
    "## Importación de los datos"
   ]
  },
  {
   "cell_type": "code",
   "execution_count": 3,
   "metadata": {
    "collapsed": false
   },
   "outputs": [
    {
     "data": {
      "text/html": [
       "<div>\n",
       "<table border=\"1\" class=\"dataframe\">\n",
       "  <thead>\n",
       "    <tr style=\"text-align: right;\">\n",
       "      <th></th>\n",
       "      <th>A1</th>\n",
       "      <th>A2</th>\n",
       "      <th>A3</th>\n",
       "      <th>A4</th>\n",
       "      <th>A5</th>\n",
       "      <th>A6</th>\n",
       "      <th>A7</th>\n",
       "      <th>A8</th>\n",
       "      <th>A9</th>\n",
       "      <th>A10</th>\n",
       "      <th>A11</th>\n",
       "      <th>A12</th>\n",
       "      <th>A13</th>\n",
       "      <th>A14</th>\n",
       "      <th>A15</th>\n",
       "      <th>A16</th>\n",
       "    </tr>\n",
       "  </thead>\n",
       "  <tbody>\n",
       "    <tr>\n",
       "      <th>0</th>\n",
       "      <td>b</td>\n",
       "      <td>30.83</td>\n",
       "      <td>0.000</td>\n",
       "      <td>u</td>\n",
       "      <td>g</td>\n",
       "      <td>w</td>\n",
       "      <td>v</td>\n",
       "      <td>1.25</td>\n",
       "      <td>t</td>\n",
       "      <td>t</td>\n",
       "      <td>1</td>\n",
       "      <td>f</td>\n",
       "      <td>g</td>\n",
       "      <td>00202</td>\n",
       "      <td>0</td>\n",
       "      <td>+</td>\n",
       "    </tr>\n",
       "    <tr>\n",
       "      <th>1</th>\n",
       "      <td>a</td>\n",
       "      <td>58.67</td>\n",
       "      <td>4.460</td>\n",
       "      <td>u</td>\n",
       "      <td>g</td>\n",
       "      <td>q</td>\n",
       "      <td>h</td>\n",
       "      <td>3.04</td>\n",
       "      <td>t</td>\n",
       "      <td>t</td>\n",
       "      <td>6</td>\n",
       "      <td>f</td>\n",
       "      <td>g</td>\n",
       "      <td>00043</td>\n",
       "      <td>560</td>\n",
       "      <td>+</td>\n",
       "    </tr>\n",
       "    <tr>\n",
       "      <th>2</th>\n",
       "      <td>a</td>\n",
       "      <td>24.50</td>\n",
       "      <td>0.500</td>\n",
       "      <td>u</td>\n",
       "      <td>g</td>\n",
       "      <td>q</td>\n",
       "      <td>h</td>\n",
       "      <td>1.50</td>\n",
       "      <td>t</td>\n",
       "      <td>f</td>\n",
       "      <td>0</td>\n",
       "      <td>f</td>\n",
       "      <td>g</td>\n",
       "      <td>00280</td>\n",
       "      <td>824</td>\n",
       "      <td>+</td>\n",
       "    </tr>\n",
       "    <tr>\n",
       "      <th>3</th>\n",
       "      <td>b</td>\n",
       "      <td>27.83</td>\n",
       "      <td>1.540</td>\n",
       "      <td>u</td>\n",
       "      <td>g</td>\n",
       "      <td>w</td>\n",
       "      <td>v</td>\n",
       "      <td>3.75</td>\n",
       "      <td>t</td>\n",
       "      <td>t</td>\n",
       "      <td>5</td>\n",
       "      <td>t</td>\n",
       "      <td>g</td>\n",
       "      <td>00100</td>\n",
       "      <td>3</td>\n",
       "      <td>+</td>\n",
       "    </tr>\n",
       "    <tr>\n",
       "      <th>4</th>\n",
       "      <td>b</td>\n",
       "      <td>20.17</td>\n",
       "      <td>5.625</td>\n",
       "      <td>u</td>\n",
       "      <td>g</td>\n",
       "      <td>w</td>\n",
       "      <td>v</td>\n",
       "      <td>1.71</td>\n",
       "      <td>t</td>\n",
       "      <td>f</td>\n",
       "      <td>0</td>\n",
       "      <td>f</td>\n",
       "      <td>s</td>\n",
       "      <td>00120</td>\n",
       "      <td>0</td>\n",
       "      <td>+</td>\n",
       "    </tr>\n",
       "  </tbody>\n",
       "</table>\n",
       "</div>"
      ],
      "text/plain": [
       "  A1     A2     A3 A4 A5 A6 A7    A8 A9 A10  A11 A12 A13    A14  A15 A16\n",
       "0  b  30.83  0.000  u  g  w  v  1.25  t   t    1   f   g  00202    0   +\n",
       "1  a  58.67  4.460  u  g  q  h  3.04  t   t    6   f   g  00043  560   +\n",
       "2  a  24.50  0.500  u  g  q  h  1.50  t   f    0   f   g  00280  824   +\n",
       "3  b  27.83  1.540  u  g  w  v  3.75  t   t    5   t   g  00100    3   +\n",
       "4  b  20.17  5.625  u  g  w  v  1.71  t   f    0   f   s  00120    0   +"
      ]
     },
     "execution_count": 3,
     "metadata": {},
     "output_type": "execute_result"
    }
   ],
   "source": [
    "import pandas as pd\n",
    "\n",
    "credit_approval = pd.read_csv('crx_data.txt', sep = ',')\n",
    "credit_approval.head(n = 5)"
   ]
  },
  {
   "cell_type": "code",
   "execution_count": 4,
   "metadata": {
    "collapsed": false
   },
   "outputs": [
    {
     "name": "stderr",
     "output_type": "stream",
     "text": [
      "/Users/daniel/anaconda/lib/python2.7/site-packages/pandas/core/indexing.py:415: SettingWithCopyWarning: \n",
      "A value is trying to be set on a copy of a slice from a DataFrame.\n",
      "Try using .loc[row_indexer,col_indexer] = value instead\n",
      "\n",
      "See the the caveats in the documentation: http://pandas.pydata.org/pandas-docs/stable/indexing.html#indexing-view-versus-copy\n",
      "  self.obj[item] = s\n"
     ]
    }
   ],
   "source": [
    "# Eliminación de los nulos\n",
    "mask            = credit_approval.applymap(lambda x: x in ['?'])\n",
    "credit_not_null = credit_approval[-mask.any(axis=1)]\n",
    "\n",
    "# Validación de los valores numericos\n",
    "credit_not_null.loc[:, 'A2'] = credit_not_null['A2'].map(lambda x: float(x))\n",
    "\n",
    "# Separación de las variables\n",
    "var_categoricas = ['A1', 'A4', 'A5', 'A6', 'A7', 'A9', 'A10', 'A11', 'A12', 'A13', 'A14']\n",
    "var_numericas   = ['A2', 'A3', 'A8', 'A15']\n",
    "var_target      = credit_not_null['A16'] == '+'"
   ]
  },
  {
   "cell_type": "markdown",
   "metadata": {},
   "source": [
    "## Análisis de las variables discretas\n",
    "\n",
    "Se pueden analizar las variables mediante la utilización de tablas de frecuencia para comprobar la forma en la que los valore se reparte."
   ]
  },
  {
   "cell_type": "code",
   "execution_count": 5,
   "metadata": {
    "collapsed": false
   },
   "outputs": [
    {
     "name": "stdout",
     "output_type": "stream",
     "text": [
      "Tabla de frecuencias para: A1\n",
      "A1     a    b\n",
      "A16          \n",
      "+     95  201\n",
      "-    108  249\n",
      "\n",
      "Tabla de frecuencias para: A4\n",
      "A4   l    u    y\n",
      "A16             \n",
      "+    2  249   45\n",
      "-    0  250  107\n",
      "\n",
      "Tabla de frecuencias para: A5\n",
      "A5     g  gg    p\n",
      "A16              \n",
      "+    249   2   45\n",
      "-    250   0  107\n",
      "\n",
      "Tabla de frecuencias para: A6\n",
      "A6   aa   c  cc   d   e  ff   i  j   k   m   q  r   w   x\n",
      "A16                                                      \n",
      "+    19  60  29   7  14   7  14  3  13  16  49  2  33  30\n",
      "-    33  73  11  19  10  43  41  7  35  22  26  1  30   6\n",
      "\n",
      "Tabla de frecuencias para: A7\n",
      "A7   bb  dd  ff   h  j  n  o    v  z\n",
      "A16                                 \n",
      "+    24   2   8  87  3  2  1  163  6\n",
      "-    29   4  46  50  5  2  1  218  2\n",
      "\n",
      "Tabla de frecuencias para: A9\n",
      "A9     f    t\n",
      "A16          \n",
      "+     18  278\n",
      "-    286   71\n",
      "\n",
      "Tabla de frecuencias para: A10\n",
      "A10    f    t\n",
      "A16          \n",
      "+     93  203\n",
      "-    273   84\n",
      "\n",
      "Tabla de frecuencias para: A11\n",
      "A11   0   1   2   3   4   5   6   7   8   9  ...  13  14  15  16  17  19  20  \\\n",
      "A16                                          ...                               \n",
      "+     93  33  18  19  12  15  19  15  10  10 ...   1   8   4   3   2   1   1   \n",
      "-    273  36  24   8   3   2   3   1   0   0 ...   0   0   0   0   0   0   1   \n",
      "\n",
      "A11  23  40  67  \n",
      "A16              \n",
      "+     1   1   1  \n",
      "-     0   0   0  \n",
      "\n",
      "[2 rows x 23 columns]\n",
      "\n",
      "Tabla de frecuencias para: A12\n",
      "A12    f    t\n",
      "A16          \n",
      "+    151  145\n",
      "-    200  157\n",
      "\n",
      "Tabla de frecuencias para: A13\n",
      "A13    g  p   s\n",
      "A16            \n",
      "+    280  1  15\n",
      "-    318  1  38\n",
      "\n",
      "Tabla de frecuencias para: A14\n",
      "A14  00000  00017  00020  00021  00022  00024  00028  00029  00030  00032  \\\n",
      "A16                                                                         \n",
      "+       80      0      1      1      1      1      0      1      1      1   \n",
      "-       48      1      1      0      0      0      1      0      0      0   \n",
      "\n",
      "A14  ...    00583  00600  00640  00680  00711  00720  00760  00840  00980  \\\n",
      "A16  ...                                                                    \n",
      "+    ...        1      0      0      0      1      0      0      1      0   \n",
      "-    ...        0      1      1      1      0      2      1      0      1   \n",
      "\n",
      "A14  02000  \n",
      "A16         \n",
      "+        0  \n",
      "-        1  \n",
      "\n",
      "[2 rows x 164 columns]\n",
      "\n"
     ]
    }
   ],
   "source": [
    "for var in var_categoricas:\n",
    "    print \"Tabla de frecuencias para:\", var\n",
    "    print pd.crosstab(credit_not_null['A16'], credit_not_null[var])\n",
    "    print"
   ]
  },
  {
   "cell_type": "markdown",
   "metadata": {},
   "source": [
    "En algunas de las variables existe niveles que pocos registros significativos. Estas niveles se han de agrupar con otros en niveles que agrupen más registros de forma que puedan ser significativos. Se puede utilizar el peso de la evidencia (WoE, Weight of Evidence) para compara la capacidad predictiva de cada uno de los niveles de una variable:\n",
    "$$\n",
    "    WoE_i = \\ln \\left| \\frac{R_i(T)}{R_i(F)} \\right|.\n",
    "$$\n",
    "El valor del WoE se puede situar entre menos infinito, todos los registros del nivel son negativos, e infinito, todos los registros del nivel son positivos.\n",
    "\n",
    "Si recordamos la definición de IV podemos ver que este es un promedio ponderado de los WoE de cada uno de los segmetnos:\n",
    "$$\n",
    "    IV = \\sum_{i = 1}^{N} (R_i(T) - R_i(F)) \\ln \\left| \\frac{R_i(T)}{R_i(F)} \\right| = \\sum_{i = 1}^{N} (R_i(T) - R_i(F)) WoE_i\n",
    "$$\n",
    "\n",
    "### Variable `A13`: Un nivel con pocos valores\n",
    "\n",
    "En la variable `A13` se puede observar que el nivel `p` En la variable `A13` se puede observar que el nivel `p` tiene solamente 2 registro, uno que es positivo y otro que es negativo. Esta nivel se puede agrupar en otro utilizando el WoE:  tiene solamente 2 registro, uno que es positivo y otro que es negativo. Esta nivel se puede agrupar en otro utilizando el WoE: "
   ]
  },
  {
   "cell_type": "code",
   "execution_count": 6,
   "metadata": {
    "collapsed": false
   },
   "outputs": [
    {
     "name": "stdout",
     "output_type": "stream",
     "text": [
      "Obteniendo el Woe para la variable A13 :\n",
      "  El WoE para g [ 598 ] es -0.127261779611\n",
      "  El WoE para p [ 2 ] es 0.0\n",
      "  El WoE para s [ 53 ] es -0.929535958624\n"
     ]
    }
   ],
   "source": [
    "def get_WoE(data, var, target):\n",
    "    crosstab = pd.crosstab(data[target], data[var])\n",
    "    \n",
    "    print \"Obteniendo el Woe para la variable\", var, \":\"\n",
    "    \n",
    "    for col in crosstab.columns:\n",
    "        if crosstab[col][1] == 0:\n",
    "            print \"  El WoE para\", col, \"[\", sum(crosstab[col]), \"] es infinito\"\n",
    "        else:\n",
    "            print \"  El WoE para\", col, \"[\", sum(crosstab[col]), \"] es\", np.log(float(crosstab[col][0]) / float(crosstab[col][1]))\n",
    "            \n",
    "get_WoE(credit_not_null, 'A13', 'A16') "
   ]
  },
  {
   "cell_type": "markdown",
   "metadata": {},
   "source": [
    "En los resultados se puede observar que el nivel `p`  solamente tiene 2 niveles y un WoE de cero, por lo que no tiene ningún nivel discriminatorio. Este nivel se puede asociar con el `g`, el que muestra un valor de WoE más parecido, en un nuevo nivel."
   ]
  },
  {
   "cell_type": "code",
   "execution_count": 7,
   "metadata": {
    "collapsed": false
   },
   "outputs": [
    {
     "name": "stdout",
     "output_type": "stream",
     "text": [
      "Obteniendo el Woe para la variable B13 :\n",
      "  El WoE para gp [ 600 ] es -0.126836433451\n",
      "  El WoE para ns [ 53 ] es -0.929535958624\n"
     ]
    },
    {
     "name": "stderr",
     "output_type": "stream",
     "text": [
      "/Users/daniel/anaconda/lib/python2.7/site-packages/pandas/core/indexing.py:249: SettingWithCopyWarning: \n",
      "A value is trying to be set on a copy of a slice from a DataFrame.\n",
      "Try using .loc[row_indexer,col_indexer] = value instead\n",
      "\n",
      "See the the caveats in the documentation: http://pandas.pydata.org/pandas-docs/stable/indexing.html#indexing-view-versus-copy\n",
      "  self.obj[key] = _infer_fill_value(value)\n"
     ]
    }
   ],
   "source": [
    "credit_not_null.loc[:, 'B13'] = credit_not_null['A13'].map(lambda x: 'ns' if x == 's' else 'gp')\n",
    "get_WoE(credit_not_null, 'B13', 'A16') "
   ]
  },
  {
   "cell_type": "markdown",
   "metadata": {},
   "source": [
    "### Variable A4: Un nivel con pocos valores\n",
    "\n",
    "En la variable A4 pasa lo mismo que en la A13 pero con una diferencia, el nivel en el que solamente existen dos registros son ambos positivos"
   ]
  },
  {
   "cell_type": "code",
   "execution_count": 8,
   "metadata": {
    "collapsed": false
   },
   "outputs": [
    {
     "name": "stdout",
     "output_type": "stream",
     "text": [
      "Obteniendo el Woe para la variable A4 :\n",
      "  El WoE para l [ 2 ] es infinito\n",
      "  El WoE para u [ 499 ] es -0.00400802139754\n",
      "  El WoE para y [ 152 ] es -0.866166344692\n"
     ]
    }
   ],
   "source": [
    "get_WoE(credit_not_null, 'A4', 'A16') "
   ]
  },
  {
   "cell_type": "markdown",
   "metadata": {},
   "source": [
    "En este caso se puede asociar los niveles `l` y `u` en uno nuevo."
   ]
  },
  {
   "cell_type": "code",
   "execution_count": 9,
   "metadata": {
    "collapsed": false
   },
   "outputs": [
    {
     "name": "stdout",
     "output_type": "stream",
     "text": [
      "Obteniendo el Woe para la variable B4 :\n",
      "  El WoE para lu [ 501 ] es 0.00399202126954\n",
      "  El WoE para ny [ 152 ] es -0.866166344692\n"
     ]
    }
   ],
   "source": [
    "credit_not_null.loc[:, 'B4'] = credit_not_null['A4'].map(lambda x: 'ny' if x == 'y' else 'lu')\n",
    "get_WoE(credit_not_null, 'B4', 'A16') "
   ]
  },
  {
   "cell_type": "markdown",
   "metadata": {},
   "source": [
    "### Variable A11: Demasiados niveles\n",
    "En el caso de la variable `A11`  se puede observar que existen demasiados niveles, mucho de los cuales tiene menos de cinco valores. Para esta variable se puede observar que los valores del WoE son"
   ]
  },
  {
   "cell_type": "code",
   "execution_count": 10,
   "metadata": {
    "collapsed": false
   },
   "outputs": [
    {
     "name": "stdout",
     "output_type": "stream",
     "text": [
      "La cantidad de niveles en la variable A11 es: 23\n",
      "Obteniendo el Woe para la variable A11 :\n",
      "  El WoE para 0 [ 366 ] es -1.07687230203\n",
      "  El WoE para 1 [ 69 ] es -0.0870113769896\n",
      "  El WoE para 2 [ 42 ] es -0.287682072452\n",
      "  El WoE para 3 [ 27 ] es 0.864997437487\n",
      "  El WoE para 4 [ 15 ] es 1.38629436112\n",
      "  El WoE para 5 [ 17 ] es 2.01490302054\n",
      "  El WoE para 6 [ 22 ] es 1.8458266905\n",
      "  El WoE para 7 [ 16 ] es 2.7080502011\n",
      "  El WoE para 8 [ 10 ] es infinito\n",
      "  El WoE para 9 [ 10 ] es infinito\n",
      "  El WoE para 10 [ 8 ] es 0.0\n",
      "  El WoE para 11 [ 19 ] es 2.8903717579\n",
      "  El WoE para 12 [ 8 ] es 1.94591014906\n",
      "  El WoE para 13 [ 1 ] es infinito\n",
      "  El WoE para 14 [ 8 ] es infinito\n",
      "  El WoE para 15 [ 4 ] es infinito\n",
      "  El WoE para 16 [ 3 ] es infinito\n",
      "  El WoE para 17 [ 2 ] es infinito\n",
      "  El WoE para 19 [ 1 ] es infinito\n",
      "  El WoE para 20 [ 2 ] es 0.0\n",
      "  El WoE para 23 [ 1 ] es infinito\n",
      "  El WoE para 40 [ 1 ] es infinito\n",
      "  El WoE para 67 [ 1 ] es infinito\n"
     ]
    }
   ],
   "source": [
    "print \"La cantidad de niveles en la variable A11 es:\", len(unique(credit_not_null['A11']))\n",
    "get_WoE(credit_not_null, 'A11', 'A16') "
   ]
  },
  {
   "cell_type": "markdown",
   "metadata": {},
   "source": [
    "En este caso la agrupación es más compleja que en los casos anteriores"
   ]
  },
  {
   "cell_type": "code",
   "execution_count": 11,
   "metadata": {
    "collapsed": false
   },
   "outputs": [
    {
     "name": "stdout",
     "output_type": "stream",
     "text": [
      "Obteniendo el Woe para la variable B11 :\n",
      "  El WoE para n0 [ 121 ] es -0.14903557916\n",
      "  El WoE para n1 [ 366 ] es -1.07687230203\n",
      "  El WoE para p0 [ 27 ] es 0.864997437487\n",
      "  El WoE para p1 [ 97 ] es 2.05645202346\n",
      "  El WoE para p2 [ 42 ] es infinito\n"
     ]
    }
   ],
   "source": [
    "credit_not_null.loc[:, 'B11'] = None\n",
    "\n",
    "for row in credit_not_null.index:\n",
    "    if credit_not_null.loc[row, 'A11'] == 0:\n",
    "        credit_not_null.loc[row, 'B11'] = 'n1'\n",
    "    elif credit_not_null.loc[row, 'A11'] in (1, 2, 10, 20):\n",
    "        credit_not_null.loc[row, 'B11'] = 'n0'\n",
    "    elif credit_not_null.loc[row, 'A11'] == 3:\n",
    "        credit_not_null.loc[row, 'B11'] = 'p0'\n",
    "    elif credit_not_null.loc[row, 'A11'] in (4, 5, 6, 7, 11, 12):\n",
    "        credit_not_null.loc[row, 'B11'] = 'p1'\n",
    "    else:\n",
    "        credit_not_null.loc[row, 'B11'] = 'p2'\n",
    "        \n",
    "get_WoE(credit_not_null, 'B11', 'A16') "
   ]
  },
  {
   "cell_type": "markdown",
   "metadata": {},
   "source": [
    "Los 23 niveles originales se pueden agrupar en 5 con mayor cantidad de registros que los originales. "
   ]
  },
  {
   "cell_type": "markdown",
   "metadata": {},
   "source": [
    "## Análisis de las variables continuas"
   ]
  },
  {
   "cell_type": "markdown",
   "metadata": {},
   "source": [
    "Las variables continuas se pueden analizar mediante la utilización de histogramas"
   ]
  },
  {
   "cell_type": "code",
   "execution_count": 12,
   "metadata": {
    "collapsed": false
   },
   "outputs": [
    {
     "data": {
      "text/plain": [
       "array([[<matplotlib.axes._subplots.AxesSubplot object at 0x108e47190>,\n",
       "        <matplotlib.axes._subplots.AxesSubplot object at 0x108f8eb50>],\n",
       "       [<matplotlib.axes._subplots.AxesSubplot object at 0x109013790>,\n",
       "        <matplotlib.axes._subplots.AxesSubplot object at 0x109077a90>]], dtype=object)"
      ]
     },
     "execution_count": 12,
     "metadata": {},
     "output_type": "execute_result"
    },
    {
     "data": {
      "image/png": "[encoded data removed]",
      "text/plain": [
       "<matplotlib.figure.Figure at 0x108e47210>"
      ]
     },
     "metadata": {},
     "output_type": "display_data"
    }
   ],
   "source": [
    "credit_not_null[var_numericas].hist()"
   ]
  },
  {
   "cell_type": "markdown",
   "metadata": {},
   "source": [
    "Se puede analizar si el histograma de positivos en igual al histograma de negativos. En de los positivos se tiene:"
   ]
  },
  {
   "cell_type": "code",
   "execution_count": 13,
   "metadata": {
    "collapsed": false
   },
   "outputs": [
    {
     "data": {
      "text/plain": [
       "array([[<matplotlib.axes._subplots.AxesSubplot object at 0x1093ad9d0>,\n",
       "        <matplotlib.axes._subplots.AxesSubplot object at 0x10961ccd0>],\n",
       "       [<matplotlib.axes._subplots.AxesSubplot object at 0x10969f910>,\n",
       "        <matplotlib.axes._subplots.AxesSubplot object at 0x109704e90>]], dtype=object)"
      ]
     },
     "execution_count": 13,
     "metadata": {},
     "output_type": "execute_result"
    },
    {
     "data": {
      "image/png": "[encoded data removed]",
      "text/plain": [
       "<matplotlib.figure.Figure at 0x10911c750>"
      ]
     },
     "metadata": {},
     "output_type": "display_data"
    }
   ],
   "source": [
    "credit_not_null[var_numericas][var_target].hist()"
   ]
  },
  {
   "cell_type": "markdown",
   "metadata": {},
   "source": [
    "y en el caso de los negativos:"
   ]
  },
  {
   "cell_type": "code",
   "execution_count": 14,
   "metadata": {
    "collapsed": false
   },
   "outputs": [
    {
     "data": {
      "text/plain": [
       "array([[<matplotlib.axes._subplots.AxesSubplot object at 0x109a88f90>,\n",
       "        <matplotlib.axes._subplots.AxesSubplot object at 0x109c64510>],\n",
       "       [<matplotlib.axes._subplots.AxesSubplot object at 0x109ce8150>,\n",
       "        <matplotlib.axes._subplots.AxesSubplot object at 0x109d4c7d0>]], dtype=object)"
      ]
     },
     "execution_count": 14,
     "metadata": {},
     "output_type": "execute_result"
    },
    {
     "data": {
      "image/png": "[encoded data removed]",
      "text/plain": [
       "<matplotlib.figure.Figure at 0x10990e150>"
      ]
     },
     "metadata": {},
     "output_type": "display_data"
    }
   ],
   "source": [
    "credit_not_null[var_numericas][var_target == False].hist()"
   ]
  },
  {
   "cell_type": "markdown",
   "metadata": {},
   "source": [
    "Al comparar las gráficas se puede observar que en la variable A3 hay tres zonas, en la primera predominan los negativos, en el medio dominan los positivos y al final aumentan aún más el ratio de positivos. A partir de esto se puede crear una variable categórica a partir desde los datos numericos"
   ]
  },
  {
   "cell_type": "code",
   "execution_count": 15,
   "metadata": {
    "collapsed": false
   },
   "outputs": [
    {
     "name": "stdout",
     "output_type": "stream",
     "text": [
      "Obteniendo el Woe para la variable B3 :\n",
      "  El WoE para n0 [ 417 ] es -0.535201429764\n",
      "  El WoE para n1 [ 207 ] es 0.341443249343\n",
      "  El WoE para n2 [ 29 ] es 0.965080896044\n"
     ]
    }
   ],
   "source": [
    "credit_not_null.loc[:, 'B3'] = credit_not_null['A3'].map(lambda x: 'n0' if x < 5 else 'n1' if x < 15 else 'n2')\n",
    "get_WoE(credit_not_null, 'B3', 'A16') "
   ]
  },
  {
   "cell_type": "markdown",
   "metadata": {},
   "source": [
    "La variable A8 se pueden analizar de forma análoga."
   ]
  },
  {
   "cell_type": "code",
   "execution_count": 16,
   "metadata": {
    "collapsed": false
   },
   "outputs": [
    {
     "name": "stdout",
     "output_type": "stream",
     "text": [
      "Obteniendo el Woe para la variable B8 :\n",
      "  El WoE para n0 [ 308 ] es -1.01381575201\n",
      "  El WoE para n1 [ 123 ] es 0.0487901641694\n",
      "  El WoE para n2 [ 222 ] es 0.754599959774\n"
     ]
    }
   ],
   "source": [
    "credit_not_null.loc[:, 'B8'] = credit_not_null['A8'].map(lambda x: 'n0' if x < 1 else 'n1' if x < 2 else 'n2')\n",
    "get_WoE(credit_not_null, 'B8', 'A16') "
   ]
  },
  {
   "cell_type": "markdown",
   "metadata": {},
   "source": [
    "## Creación de un modelo con variables discretizadas"
   ]
  },
  {
   "cell_type": "code",
   "execution_count": 17,
   "metadata": {
    "collapsed": false
   },
   "outputs": [
    {
     "name": "stdout",
     "output_type": "stream",
     "text": [
      "La matriz de confusión es \n",
      "[[314 115]\n",
      " [ 43 181]]\n",
      "Precisión: 0.758039816233\n",
      "Exactitud: 0.611486486486\n",
      "Exhaustividad: 0.808035714286\n",
      "F1: 0.696153846154\n",
      "AUC: 0.76998522311\n"
     ]
    },
    {
     "data": {
      "image/png": "[encoded data removed]",
      "text/plain": [
       "<matplotlib.figure.Figure at 0x104ab5f90>"
      ]
     },
     "metadata": {},
     "output_type": "display_data"
    }
   ],
   "source": [
    "from sklearn.linear_model.logistic import LogisticRegression\n",
    "\n",
    "data_model = concatenate((pd.get_dummies(credit_not_null['B3']),\n",
    "                          pd.get_dummies(credit_not_null['B4']),\n",
    "                          pd.get_dummies(credit_not_null['B8']),\n",
    "                          pd.get_dummies(credit_not_null['B11'])), axis = 1)\n",
    "\n",
    "classifier = LogisticRegression().fit(data_model, var_target)\n",
    "y_pred     = classifier.predict(data_model)\n",
    "\n",
    "metricas_modelos(y_pred, var_target)"
   ]
  },
  {
   "cell_type": "code",
   "execution_count": 18,
   "metadata": {
    "collapsed": false
   },
   "outputs": [
    {
     "data": {
      "text/plain": [
       "array([[-0.28230119,  0.1903189 ,  0.51444263,  0.50116194, -0.0787016 ,\n",
       "        -0.59307598,  0.24022374,  0.77531257, -0.90113975, -1.66230138,\n",
       "         0.04793221,  1.03649952,  1.90146974]])"
      ]
     },
     "execution_count": 18,
     "metadata": {},
     "output_type": "execute_result"
    }
   ],
   "source": [
    "classifier.coef_"
   ]
  }
 ],
 "metadata": {
  "kernelspec": {
   "display_name": "Python 2",
   "language": "python",
   "name": "python2"
  },
  "language_info": {
   "codemirror_mode": {
    "name": "ipython",
    "version": 2
   },
   "file_extension": ".py",
   "mimetype": "text/x-python",
   "name": "python",
   "nbconvert_exporter": "python",
   "pygments_lexer": "ipython2",
   "version": "2.7.10"
  }
 },
 "nbformat": 4,
 "nbformat_minor": 0
}
