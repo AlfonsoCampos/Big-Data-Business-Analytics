{
 "cells": [
  {
   "cell_type": "markdown",
   "metadata": {},
   "source": [
    "# Componentes principales"
   ]
  },
  {
   "cell_type": "code",
   "execution_count": 2,
   "metadata": {
    "collapsed": false
   },
   "outputs": [
    {
     "name": "stdout",
     "output_type": "stream",
     "text": [
      "Using matplotlib backend: Qt4Agg\n",
      "Populating the interactive namespace from numpy and matplotlib\n"
     ]
    }
   ],
   "source": [
    "%pylab\n",
    "%matplotlib inline"
   ]
  },
  {
   "cell_type": "markdown",
   "metadata": {},
   "source": [
    "## Importar los datos de vino tinto (winequality-red.csv) y vino blanco (winequality-white.csv) utilizados en clase."
   ]
  },
  {
   "cell_type": "code",
   "execution_count": 4,
   "metadata": {
    "collapsed": false
   },
   "outputs": [],
   "source": [
    "import pandas as pd\n",
    "\n",
    "red = pd.read_csv('winequality-red.csv', sep = ';')\n",
    "white = pd.read_csv('winequality-white.csv', sep = ';')"
   ]
  },
  {
   "cell_type": "markdown",
   "metadata": {},
   "source": [
    "## Realizar una descomposición en componentes principales de las variables correspondientes las características de los vinos (fixed acidity, volatile acidity, citric acid, residual sugar, chlorides, free sulfur dioxide, total sulfur dioxide, density, pH, sulphates, alcohol)."
   ]
  },
  {
   "cell_type": "markdown",
   "metadata": {},
   "source": [
    "### Separamos la variable objetivo de las explicativas"
   ]
  },
  {
   "cell_type": "code",
   "execution_count": null,
   "metadata": {
    "collapsed": true
   },
   "outputs": [],
   "source": [
    "from sklearn.linear_model import LinearRegression\n",
    "from sklearn.cross_validation import train_test_split\n",
    "\n",
    "target = 'quality'"
   ]
  },
  {
   "cell_type": "markdown",
   "metadata": {},
   "source": [
    "Vino rojo"
   ]
  },
  {
   "cell_type": "code",
   "execution_count": 9,
   "metadata": {
    "collapsed": true
   },
   "outputs": [],
   "source": [
    "red_features = list(red.columns)\n",
    "red_features.remove(target)\n",
    "\n",
    "red_x = red[red_features]\n",
    "red_y = red[target]"
   ]
  },
  {
   "cell_type": "markdown",
   "metadata": {},
   "source": [
    "Vino blanco"
   ]
  },
  {
   "cell_type": "code",
   "execution_count": 8,
   "metadata": {
    "collapsed": true
   },
   "outputs": [],
   "source": [
    "white_features = list(white.columns)\n",
    "white_features.remove(target)\n",
    "\n",
    "white_x = white[white_features]\n",
    "white_y = white[target]"
   ]
  },
  {
   "cell_type": "markdown",
   "metadata": {},
   "source": [
    "### Aplicamos el algoritmo PCA"
   ]
  },
  {
   "cell_type": "markdown",
   "metadata": {},
   "source": [
    "Vino rojo"
   ]
  },
  {
   "cell_type": "code",
   "execution_count": 6,
   "metadata": {
    "collapsed": false
   },
   "outputs": [
    {
     "name": "stdout",
     "output_type": "stream",
     "text": [
      "Varianza explicada con 1 componentes: 0.946576976395\n",
      "Varianza explicada con 2 componentes: 0.99494528097\n",
      "Varianza explicada con 3 componentes: 0.997534452799\n",
      "Varianza explicada con 4 componentes: 0.999053420783\n",
      "Varianza explicada con 5 componentes: 0.999926974773\n",
      "Varianza explicada con 6 componentes: 0.999961535495\n",
      "Varianza explicada con 7 componentes: 0.999980898256\n",
      "Varianza explicada con 8 componentes: 0.999990371037\n",
      "Varianza explicada con 9 componentes: 0.999998784803\n",
      "Varianza explicada con 10 componentes: 0.999999999531\n",
      "Varianza explicada con 11 componentes: 1.0\n"
     ]
    }
   ],
   "source": [
    "from sklearn.decomposition import PCA\n",
    "pca      = PCA(n_components = None)\n",
    "red_pca = pca.fit_transform(red_x)\n",
    "\n",
    "for i in range(shape(red_pca)[1]):\n",
    "    print \"Varianza explicada con\", i + 1, \"componentes:\", pca.explained_variance_ratio_[range(i + 1)].sum()"
   ]
  },
  {
   "cell_type": "markdown",
   "metadata": {},
   "source": [
    "Vino blanco"
   ]
  },
  {
   "cell_type": "code",
   "execution_count": 7,
   "metadata": {
    "collapsed": false
   },
   "outputs": [
    {
     "name": "stdout",
     "output_type": "stream",
     "text": [
      "Varianza explicada con 1 componentes: 0.909657343975\n",
      "Varianza explicada con 2 componentes: 0.988991207091\n",
      "Varianza explicada con 3 componentes: 0.999145481287\n",
      "Varianza explicada con 4 componentes: 0.999651485737\n",
      "Varianza explicada con 5 componentes: 0.999974895131\n",
      "Varianza explicada con 6 componentes: 0.999983622829\n",
      "Varianza explicada con 7 componentes: 0.999990352695\n",
      "Varianza explicada con 8 componentes: 0.999995743304\n",
      "Varianza explicada con 9 componentes: 0.999999813325\n",
      "Varianza explicada con 10 componentes: 0.999999999851\n",
      "Varianza explicada con 11 componentes: 1.0\n"
     ]
    }
   ],
   "source": [
    "from sklearn.decomposition import PCA\n",
    "pca      = PCA(n_components = None)\n",
    "white_pca = pca.fit_transform(white_x)\n",
    "\n",
    "for i in range(shape(white_pca)[1]):\n",
    "    print \"Varianza explicada con\", i + 1, \"componentes:\", pca.explained_variance_ratio_[range(i + 1)].sum()"
   ]
  },
  {
   "cell_type": "markdown",
   "metadata": {},
   "source": [
    "## ¿Cuál es mínimo número de variables que permiten explicar el 85% y el 92% de la variabilidad?"
   ]
  },
  {
   "cell_type": "markdown",
   "metadata": {},
   "source": [
    "Vino rojo"
   ]
  },
  {
   "cell_type": "markdown",
   "metadata": {},
   "source": [
    "- Tanto 85% como el 92% de la variabilidad queda explicada con una sola variable"
   ]
  },
  {
   "cell_type": "markdown",
   "metadata": {},
   "source": [
    "Vino blanco"
   ]
  },
  {
   "cell_type": "markdown",
   "metadata": {},
   "source": [
    "- El 85% de la variabilidad queda explicada con una sola variable\n",
    "- Para lograr el 92% no obstante, necesitamos 2 variables"
   ]
  }
 ],
 "metadata": {
  "kernelspec": {
   "display_name": "Python 2",
   "language": "python",
   "name": "python2"
  },
  "language_info": {
   "codemirror_mode": {
    "name": "ipython",
    "version": 2
   },
   "file_extension": ".py",
   "mimetype": "text/x-python",
   "name": "python",
   "nbconvert_exporter": "python",
   "pygments_lexer": "ipython2",
   "version": "2.7.9"
  }
 },
 "nbformat": 4,
 "nbformat_minor": 0
}
